{
  "cells": [
    {
      "cell_type": "markdown",
      "metadata": {
        "id": "42UBKEnat_xo"
      },
      "source": [
        "# **Identifying Key Entities in Recipe Data**"
      ]
    },
    {
      "cell_type": "markdown",
      "metadata": {
        "id": "Pme3h_fduOKh"
      },
      "source": [
        "\n",
        "**Business Objective**:\n",
        "The goal of this assignment is to train a Named Entity Recognition (NER) model using Conditional Random Fields (CRF) to extract key entities from recipe data. The model will classify words into predefined categories such as ingredients, quantities and units, enabling the creation of a structured database of recipes and ingredients that can be used to power advanced features in recipe management systems, dietary tracking apps, or e-commerce platforms."
      ]
    },
    {
      "cell_type": "markdown",
      "metadata": {
        "id": "FXzoAs8evNG0"
      },
      "source": [
        "### **Data Description**\n",
        "The given data is in JSON format, representing a **structured recipe ingredient list** with **Named Entity Recognition (NER) labels**. Below is a breakdown of the data fields:\n",
        "\n",
        "```json\n",
        "[\n",
        "    {\n",
        "        \"input\": \"6 Karela Bitter Gourd Pavakkai Salt 1 Onion 3 tablespoon Gram flour besan 2 teaspoons Turmeric powder Haldi Red Chilli Cumin seeds Jeera Coriander Powder Dhania Amchur Dry Mango Sunflower Oil\",\n",
        "        \"pos\": \"quantity ingredient ingredient ingredient ingredient ingredient quantity ingredient quantity unit ingredient ingredient ingredient quantity unit ingredient ingredient ingredient ingredient ingredient ingredient ingredient ingredient ingredient ingredient ingredient ingredient ingredient ingredient ingredient ingredient\"\n",
        "    },\n",
        "    {\n",
        "      \"input\": \"2-1/2 cups rice cooked 3 tomatoes teaspoons BC Belle Bhat powder 1 teaspoon chickpea lentils 1/2 cumin seeds white urad dal mustard green chilli dry red 2 cashew or peanuts 1-1/2 tablespoon oil asafoetida\",\n",
        "      \"pos\": \"quantity unit ingredient ingredient quantity ingredient unit ingredient ingredient ingredient ingredient quantity unit ingredient ingredient quantity ingredient ingredient ingredient ingredient ingredient ingredient ingredient ingredient ingredient ingredient quantity ingredient ingredient ingredient quantity unit ingredient ingredient\"\n",
        "    }\n",
        "]\n"
      ]
    },
    {
      "cell_type": "markdown",
      "metadata": {
        "id": "LSDcNvJlwC6N"
      },
      "source": [
        "| **Key**  | **Description**  |\n",
        "|----------|-----------------|\n",
        "| `input`  | Contains a raw ingredient list from a recipe. |\n",
        "| `pos`    | Represents the corresponding part-of-speech (POS) tags or NER labels, identifying quantities, ingredients, and units. |\n"
      ]
    },
    {
      "cell_type": "markdown",
      "metadata": {
        "id": "phenosA4se1c"
      },
      "source": [
        "## **1** Import libraries"
      ]
    },
    {
      "cell_type": "markdown",
      "metadata": {
        "id": "Br-jQHin3kQX"
      },
      "source": [
        "#### **1.1** Installation of sklearn-crfsuite"
      ]
    },
    {
      "cell_type": "markdown",
      "metadata": {
        "id": "DPhaJSfCwpfa"
      },
      "source": [
        "sklearn-crfsuite is a Python wrapper for CRFsuite, a fast and efficient implementation of Conditional Random Fields (CRFs). It is designed to integrate seamlessly with scikit-learn for structured prediction tasks such as Named Entity Recognition (NER), Part-of-Speech (POS) tagging, and chunking."
      ]
    },
    {
      "cell_type": "code",
      "execution_count": 1,
      "metadata": {
        "id": "_QawokgQXAMO"
      },
      "outputs": [
        {
          "name": "stdout",
          "output_type": "stream",
          "text": [
            "Defaulting to user installation because normal site-packages is not writeable\n",
            "Requirement already satisfied: sklearn_crfsuite==0.5.0 in c:\\users\\hemanth_k_s\\appdata\\roaming\\python\\python312\\site-packages (0.5.0)\n",
            "Requirement already satisfied: python-crfsuite>=0.9.7 in c:\\users\\hemanth_k_s\\appdata\\roaming\\python\\python312\\site-packages (from sklearn_crfsuite==0.5.0) (0.9.11)\n",
            "Requirement already satisfied: scikit-learn>=0.24.0 in c:\\users\\hemanth_k_s\\appdata\\roaming\\python\\python312\\site-packages (from sklearn_crfsuite==0.5.0) (1.6.1)\n",
            "Requirement already satisfied: tabulate>=0.4.2 in c:\\users\\hemanth_k_s\\appdata\\roaming\\python\\python312\\site-packages (from sklearn_crfsuite==0.5.0) (0.9.0)\n",
            "Requirement already satisfied: tqdm>=2.0 in c:\\users\\hemanth_k_s\\appdata\\roaming\\python\\python312\\site-packages (from sklearn_crfsuite==0.5.0) (4.67.1)\n",
            "Requirement already satisfied: numpy>=1.19.5 in c:\\users\\hemanth_k_s\\appdata\\roaming\\python\\python312\\site-packages (from scikit-learn>=0.24.0->sklearn_crfsuite==0.5.0) (2.1.3)\n",
            "Requirement already satisfied: scipy>=1.6.0 in c:\\users\\hemanth_k_s\\appdata\\roaming\\python\\python312\\site-packages (from scikit-learn>=0.24.0->sklearn_crfsuite==0.5.0) (1.15.3)\n",
            "Requirement already satisfied: joblib>=1.2.0 in c:\\users\\hemanth_k_s\\appdata\\roaming\\python\\python312\\site-packages (from scikit-learn>=0.24.0->sklearn_crfsuite==0.5.0) (1.5.1)\n",
            "Requirement already satisfied: threadpoolctl>=3.1.0 in c:\\users\\hemanth_k_s\\appdata\\roaming\\python\\python312\\site-packages (from scikit-learn>=0.24.0->sklearn_crfsuite==0.5.0) (3.6.0)\n",
            "Requirement already satisfied: colorama in c:\\users\\hemanth_k_s\\appdata\\roaming\\python\\python312\\site-packages (from tqdm>=2.0->sklearn_crfsuite==0.5.0) (0.4.6)\n"
          ]
        },
        {
          "name": "stderr",
          "output_type": "stream",
          "text": [
            "\n",
            "[notice] A new release of pip is available: 24.2 -> 25.1.1\n",
            "[notice] To update, run: python.exe -m pip install --upgrade pip\n"
          ]
        }
      ],
      "source": [
        "# installation of sklearn_crfsuite\n",
        "!pip install sklearn_crfsuite==0.5.0"
      ]
    },
    {
      "cell_type": "markdown",
      "metadata": {
        "id": "svqZwrHT3rzV"
      },
      "source": [
        "#### **1.2** Import necessary libraries"
      ]
    },
    {
      "cell_type": "code",
      "execution_count": 2,
      "metadata": {
        "id": "v2zLbaB0w1ZH"
      },
      "outputs": [],
      "source": [
        "# Import warnings\n",
        "import warnings\n",
        "warnings.filterwarnings('ignore')"
      ]
    },
    {
      "cell_type": "code",
      "execution_count": 3,
      "metadata": {
        "id": "0hlp-Ln4WsaV"
      },
      "outputs": [],
      "source": [
        "# Import necessary libraries\n",
        "import json  # For handling JSON data\n",
        "import pandas as pd  # For data manipulation and analysis\n",
        "import re  # For regular expressions (useful for text preprocessing)\n",
        "import matplotlib.pyplot as plt  # For visualisation\n",
        "import seaborn as sns  # For advanced data visualisation\n",
        "import sklearn_crfsuite  # CRF (Conditional Random Fields) implementation for sequence modeling\n",
        "import numpy as np  # For numerical computations\n",
        "# Saving and loading machine learning models\n",
        "import joblib\n",
        "import random\n",
        "import spacy\n",
        "from IPython.display import display, Markdown # For displaying well-formatted output\n",
        "\n",
        "from fractions import Fraction  # For handling fractional values in numerical data\n",
        "# Importing tools for feature engineering and model training\n",
        "from collections import Counter  # For counting occurrences of elements in a list\n",
        "from sklearn.model_selection import train_test_split  # For splitting dataset into train and test sets\n",
        "from sklearn_crfsuite import metrics  # For evaluating CRF models\n",
        "from sklearn_crfsuite.metrics import flat_classification_report\n",
        "from sklearn.utils.class_weight import compute_class_weight\n",
        "from collections import Counter\n",
        "from sklearn.metrics import confusion_matrix"
      ]
    },
    {
      "cell_type": "code",
      "execution_count": 4,
      "metadata": {
        "id": "k3_LR6N_2cli"
      },
      "outputs": [],
      "source": [
        "# Ensure pandas displays full content\n",
        "pd.set_option('display.max_colwidth', None)\n",
        "pd.set_option('display.expand_frame_repr', False)"
      ]
    },
    {
      "cell_type": "markdown",
      "metadata": {
        "id": "fUOu_u0fyMfh"
      },
      "source": [
        "## **2** Data Ingestion and Preparation <font color = red>[25 marks]</font> <br>"
      ]
    },
    {
      "cell_type": "markdown",
      "metadata": {
        "id": "-ksMVNgeyiLN"
      },
      "source": [
        "#### **2.1** *Read Recipe Data from Dataframe and prepare the data for analysis* <font color = red>[12 marks]</font> <br>\n",
        "Read the data from JSON file, print first five rows and describe the dataframe"
      ]
    },
    {
      "cell_type": "markdown",
      "metadata": {
        "id": "kxn28jL3z4GY"
      },
      "source": [
        "##### **2.1.1** **Define a *load_json_dataframe* function** <font color = red>[7 marks]</font> <br>\n",
        "\n",
        "Define a function that takes path of the ingredient_and_quantity.json file and reads it, convert it into dataframe - df and return it."
      ]
    },
    {
      "cell_type": "code",
      "execution_count": 5,
      "metadata": {
        "id": "dq6UgUYcPyOL"
      },
      "outputs": [],
      "source": [
        "# define a function to load json file to a dataframe\n",
        "def load_json_dataframe(filename):\n",
        "    df = pd.read_json(filename)\n",
        "    return df"
      ]
    },
    {
      "cell_type": "markdown",
      "metadata": {
        "id": "1NlhkH_605IA"
      },
      "source": [
        "##### **2.1.2** **Execute the *load_json_dataframe* function** <font color = red>[2 marks]</font> <br>"
      ]
    },
    {
      "cell_type": "code",
      "execution_count": 6,
      "metadata": {
        "id": "UONMkMsrxdxB"
      },
      "outputs": [],
      "source": [
        "# read the json file by giving the file path and create a dataframe\n",
        "df = load_json_dataframe(\"ingredient_and_quantity.json\")"
      ]
    },
    {
      "cell_type": "markdown",
      "metadata": {
        "id": "_1VkDbev3UHP"
      },
      "source": [
        "##### **2.1.3** **Describe the dataframe** <font color = red>[3 marks]</font> <br>\n",
        "\n",
        "Print first five rows of dataframe along with dimensions. Display the information of dataframe"
      ]
    },
    {
      "cell_type": "code",
      "execution_count": 7,
      "metadata": {
        "id": "yZFj2skZxgpl"
      },
      "outputs": [
        {
          "data": {
            "text/html": [
              "<div>\n",
              "<style scoped>\n",
              "    .dataframe tbody tr th:only-of-type {\n",
              "        vertical-align: middle;\n",
              "    }\n",
              "\n",
              "    .dataframe tbody tr th {\n",
              "        vertical-align: top;\n",
              "    }\n",
              "\n",
              "    .dataframe thead th {\n",
              "        text-align: right;\n",
              "    }\n",
              "</style>\n",
              "<table border=\"1\" class=\"dataframe\">\n",
              "  <thead>\n",
              "    <tr style=\"text-align: right;\">\n",
              "      <th></th>\n",
              "      <th>input</th>\n",
              "      <th>pos</th>\n",
              "    </tr>\n",
              "  </thead>\n",
              "  <tbody>\n",
              "    <tr>\n",
              "      <th>0</th>\n",
              "      <td>6 Karela Bitter Gourd Pavakkai Salt 1 Onion 3 tablespoon Gram flour besan 2 teaspoons Turmeric powder Haldi Red Chilli Cumin seeds Jeera Coriander Powder Dhania Amchur Dry Mango Sunflower Oil</td>\n",
              "      <td>quantity ingredient ingredient ingredient ingredient ingredient quantity ingredient quantity unit ingredient ingredient ingredient quantity unit ingredient ingredient ingredient ingredient ingredient ingredient ingredient ingredient ingredient ingredient ingredient ingredient ingredient ingredient ingredient ingredient</td>\n",
              "    </tr>\n",
              "    <tr>\n",
              "      <th>1</th>\n",
              "      <td>2-1/2 cups rice cooked 3 tomatoes teaspoons BC Belle Bhat powder 1 teaspoon chickpea lentils 1/2 cumin seeds white urad dal mustard green chilli dry red 2 cashew or peanuts 1-1/2 tablespoon oil asafoetida</td>\n",
              "      <td>quantity unit ingredient ingredient quantity ingredient unit ingredient ingredient ingredient ingredient quantity unit ingredient ingredient quantity ingredient ingredient ingredient ingredient ingredient ingredient ingredient ingredient ingredient ingredient quantity ingredient ingredient ingredient quantity unit ingredient ingredient</td>\n",
              "    </tr>\n",
              "    <tr>\n",
              "      <th>2</th>\n",
              "      <td>1-1/2 cups Rice Vermicelli Noodles Thin 1 Onion sliced 1/2 cup Carrots Gajjar chopped 1/3 Green peas Matar 2 Chillies 1/4 teaspoon Asafoetida hing Mustard seeds White Urad Dal Split Ghee sprig Curry leaves Salt Lemon juice</td>\n",
              "      <td>quantity unit ingredient ingredient ingredient ingredient quantity ingredient ingredient quantity unit ingredient ingredient ingredient quantity ingredient ingredient ingredient quantity ingredient quantity unit ingredient ingredient ingredient ingredient ingredient ingredient ingredient ingredient ingredient unit ingredient ingredient ingredient ingredient ingredient</td>\n",
              "    </tr>\n",
              "    <tr>\n",
              "      <th>3</th>\n",
              "      <td>500 grams Chicken 2 Onion chopped 1 Tomato 4 Green Chillies slit inch Ginger finely 6 cloves Garlic 1/2 teaspoon Turmeric powder Haldi Garam masala tablespoon Sesame Gingelly Oil 1/4 Methi Seeds Fenugreek Coriander Dhania Dry Red Fennel seeds Saunf cups Sorrel Leaves Gongura picked and</td>\n",
              "      <td>quantity unit ingredient quantity ingredient ingredient quantity ingredient quantity ingredient ingredient ingredient unit ingredient ingredient quantity unit ingredient quantity unit ingredient ingredient ingredient ingredient ingredient unit ingredient ingredient ingredient quantity ingredient ingredient ingredient ingredient ingredient ingredient ingredient ingredient ingredient ingredient unit ingredient ingredient ingredient ingredient ingredient</td>\n",
              "    </tr>\n",
              "    <tr>\n",
              "      <th>4</th>\n",
              "      <td>1 tablespoon chana dal white urad 2 red chillies coriander seeds 3 inches ginger onion tomato Teaspoon mustard asafoetida sprig curry</td>\n",
              "      <td>quantity unit ingredient ingredient ingredient ingredient quantity ingredient ingredient ingredient ingredient quantity unit ingredient ingredient ingredient unit ingredient ingredient unit ingredient</td>\n",
              "    </tr>\n",
              "  </tbody>\n",
              "</table>\n",
              "</div>"
            ],
            "text/plain": [
              "                                                                                                                                                                                                                                                                                            input                                                                                                                                                                                                                                                                                                                                                                                                                                                                      pos\n",
              "0                                                                                                 6 Karela Bitter Gourd Pavakkai Salt 1 Onion 3 tablespoon Gram flour besan 2 teaspoons Turmeric powder Haldi Red Chilli Cumin seeds Jeera Coriander Powder Dhania Amchur Dry Mango Sunflower Oil                                                                                                                                         quantity ingredient ingredient ingredient ingredient ingredient quantity ingredient quantity unit ingredient ingredient ingredient quantity unit ingredient ingredient ingredient ingredient ingredient ingredient ingredient ingredient ingredient ingredient ingredient ingredient ingredient ingredient ingredient ingredient\n",
              "1                                                                                    2-1/2 cups rice cooked 3 tomatoes teaspoons BC Belle Bhat powder 1 teaspoon chickpea lentils 1/2 cumin seeds white urad dal mustard green chilli dry red 2 cashew or peanuts 1-1/2 tablespoon oil asafoetida                                                                                                                        quantity unit ingredient ingredient quantity ingredient unit ingredient ingredient ingredient ingredient quantity unit ingredient ingredient quantity ingredient ingredient ingredient ingredient ingredient ingredient ingredient ingredient ingredient ingredient quantity ingredient ingredient ingredient quantity unit ingredient ingredient\n",
              "2                                                                  1-1/2 cups Rice Vermicelli Noodles Thin 1 Onion sliced 1/2 cup Carrots Gajjar chopped 1/3 Green peas Matar 2 Chillies 1/4 teaspoon Asafoetida hing Mustard seeds White Urad Dal Split Ghee sprig Curry leaves Salt Lemon juice                                                                                       quantity unit ingredient ingredient ingredient ingredient quantity ingredient ingredient quantity unit ingredient ingredient ingredient quantity ingredient ingredient ingredient quantity ingredient quantity unit ingredient ingredient ingredient ingredient ingredient ingredient ingredient ingredient ingredient unit ingredient ingredient ingredient ingredient ingredient\n",
              "3  500 grams Chicken 2 Onion chopped 1 Tomato 4 Green Chillies slit inch Ginger finely 6 cloves Garlic 1/2 teaspoon Turmeric powder Haldi Garam masala tablespoon Sesame Gingelly Oil 1/4 Methi Seeds Fenugreek Coriander Dhania Dry Red Fennel seeds Saunf cups Sorrel Leaves Gongura picked and  quantity unit ingredient quantity ingredient ingredient quantity ingredient quantity ingredient ingredient ingredient unit ingredient ingredient quantity unit ingredient quantity unit ingredient ingredient ingredient ingredient ingredient unit ingredient ingredient ingredient quantity ingredient ingredient ingredient ingredient ingredient ingredient ingredient ingredient ingredient ingredient unit ingredient ingredient ingredient ingredient ingredient\n",
              "4                                                                                                                                                           1 tablespoon chana dal white urad 2 red chillies coriander seeds 3 inches ginger onion tomato Teaspoon mustard asafoetida sprig curry                                                                                                                                                                                                                                                                 quantity unit ingredient ingredient ingredient ingredient quantity ingredient ingredient ingredient ingredient quantity unit ingredient ingredient ingredient unit ingredient ingredient unit ingredient"
            ]
          },
          "execution_count": 7,
          "metadata": {},
          "output_type": "execute_result"
        }
      ],
      "source": [
        "# display first five rows of the dataframe - df\n",
        "df.head(5)"
      ]
    },
    {
      "cell_type": "code",
      "execution_count": 8,
      "metadata": {
        "id": "Y7cA28XSx1I1"
      },
      "outputs": [
        {
          "data": {
            "text/plain": [
              "(285, 2)"
            ]
          },
          "execution_count": 8,
          "metadata": {},
          "output_type": "execute_result"
        }
      ],
      "source": [
        "# print the dimensions of dataframe - df\n",
        "df.shape"
      ]
    },
    {
      "cell_type": "code",
      "execution_count": 9,
      "metadata": {
        "id": "Q-gsbEhJx2rm"
      },
      "outputs": [
        {
          "name": "stdout",
          "output_type": "stream",
          "text": [
            "<class 'pandas.core.frame.DataFrame'>\n",
            "RangeIndex: 285 entries, 0 to 284\n",
            "Data columns (total 2 columns):\n",
            " #   Column  Non-Null Count  Dtype \n",
            "---  ------  --------------  ----- \n",
            " 0   input   285 non-null    object\n",
            " 1   pos     285 non-null    object\n",
            "dtypes: object(2)\n",
            "memory usage: 4.6+ KB\n"
          ]
        }
      ],
      "source": [
        "# print the information of the dataframe\n",
        "df.info()"
      ]
    },
    {
      "cell_type": "markdown",
      "metadata": {
        "id": "1y18LwoqyFpk"
      },
      "source": [
        "#### **2.2** *Recipe Data Manipulation* <font color = red>[13 marks]</font> <br>\n",
        "Create derived metrics in dataframe and provide insights of the dataframe"
      ]
    },
    {
      "cell_type": "markdown",
      "metadata": {
        "id": "bhNG_XC1r4Qw"
      },
      "source": [
        "##### **2.2.1** **Create input_tokens and pos_tokens columns by splitting the input and pos from the dataframe** <font color = red>[3 marks]</font> <br>\n",
        "Split the input and pos into input_tokens and pos_tokens in the dataframe and display it in the dataframe"
      ]
    },
    {
      "cell_type": "code",
      "execution_count": 10,
      "metadata": {
        "id": "nma6uJwmXUas"
      },
      "outputs": [],
      "source": [
        "# split the input and pos into input_tokens and pos_tokens in the dataframe\n",
        "nlp=spacy.load(\"en_core_web_sm\")\n",
        "# Tokenize input\n",
        "df['input_tokens']=df['input'].apply(lambda x: [token.text for token in nlp(x)])\n",
        "# Tokenize POS\n",
        "df['pos_tokens']=df['pos'].apply(lambda x: [token.text for token in nlp(x)])"
      ]
    },
    {
      "cell_type": "code",
      "execution_count": 11,
      "metadata": {
        "id": "9g-ajvFBzaaf"
      },
      "outputs": [
        {
          "data": {
            "text/html": [
              "<div>\n",
              "<style scoped>\n",
              "    .dataframe tbody tr th:only-of-type {\n",
              "        vertical-align: middle;\n",
              "    }\n",
              "\n",
              "    .dataframe tbody tr th {\n",
              "        vertical-align: top;\n",
              "    }\n",
              "\n",
              "    .dataframe thead th {\n",
              "        text-align: right;\n",
              "    }\n",
              "</style>\n",
              "<table border=\"1\" class=\"dataframe\">\n",
              "  <thead>\n",
              "    <tr style=\"text-align: right;\">\n",
              "      <th></th>\n",
              "      <th>input</th>\n",
              "      <th>pos</th>\n",
              "      <th>input_tokens</th>\n",
              "      <th>pos_tokens</th>\n",
              "    </tr>\n",
              "  </thead>\n",
              "  <tbody>\n",
              "    <tr>\n",
              "      <th>0</th>\n",
              "      <td>6 Karela Bitter Gourd Pavakkai Salt 1 Onion 3 tablespoon Gram flour besan 2 teaspoons Turmeric powder Haldi Red Chilli Cumin seeds Jeera Coriander Powder Dhania Amchur Dry Mango Sunflower Oil</td>\n",
              "      <td>quantity ingredient ingredient ingredient ingredient ingredient quantity ingredient quantity unit ingredient ingredient ingredient quantity unit ingredient ingredient ingredient ingredient ingredient ingredient ingredient ingredient ingredient ingredient ingredient ingredient ingredient ingredient ingredient ingredient</td>\n",
              "      <td>[6, Karela, Bitter, Gourd, Pavakkai, Salt, 1, Onion, 3, tablespoon, Gram, flour, besan, 2, teaspoons, Turmeric, powder, Haldi, Red, Chilli, Cumin, seeds, Jeera, Coriander, Powder, Dhania, Amchur, Dry, Mango, Sunflower, Oil]</td>\n",
              "      <td>[quantity, ingredient, ingredient, ingredient, ingredient, ingredient, quantity, ingredient, quantity, unit, ingredient, ingredient, ingredient, quantity, unit, ingredient, ingredient, ingredient, ingredient, ingredient, ingredient, ingredient, ingredient, ingredient, ingredient, ingredient, ingredient, ingredient, ingredient, ingredient, ingredient]</td>\n",
              "    </tr>\n",
              "    <tr>\n",
              "      <th>1</th>\n",
              "      <td>2-1/2 cups rice cooked 3 tomatoes teaspoons BC Belle Bhat powder 1 teaspoon chickpea lentils 1/2 cumin seeds white urad dal mustard green chilli dry red 2 cashew or peanuts 1-1/2 tablespoon oil asafoetida</td>\n",
              "      <td>quantity unit ingredient ingredient quantity ingredient unit ingredient ingredient ingredient ingredient quantity unit ingredient ingredient quantity ingredient ingredient ingredient ingredient ingredient ingredient ingredient ingredient ingredient ingredient quantity ingredient ingredient ingredient quantity unit ingredient ingredient</td>\n",
              "      <td>[2, -, 1/2, cups, rice, cooked, 3, tomatoes, teaspoons, BC, Belle, Bhat, powder, 1, teaspoon, chickpea, lentils, 1/2, cumin, seeds, white, urad, dal, mustard, green, chilli, dry, red, 2, cashew, or, peanuts, 1, -, 1/2, tablespoon, oil, asafoetida]</td>\n",
              "      <td>[quantity, unit, ingredient, ingredient, quantity, ingredient, unit, ingredient, ingredient, ingredient, ingredient, quantity, unit, ingredient, ingredient, quantity, ingredient, ingredient, ingredient, ingredient, ingredient, ingredient, ingredient, ingredient, ingredient, ingredient, quantity, ingredient, ingredient, ingredient, quantity, unit, ingredient, ingredient]</td>\n",
              "    </tr>\n",
              "    <tr>\n",
              "      <th>2</th>\n",
              "      <td>1-1/2 cups Rice Vermicelli Noodles Thin 1 Onion sliced 1/2 cup Carrots Gajjar chopped 1/3 Green peas Matar 2 Chillies 1/4 teaspoon Asafoetida hing Mustard seeds White Urad Dal Split Ghee sprig Curry leaves Salt Lemon juice</td>\n",
              "      <td>quantity unit ingredient ingredient ingredient ingredient quantity ingredient ingredient quantity unit ingredient ingredient ingredient quantity ingredient ingredient ingredient quantity ingredient quantity unit ingredient ingredient ingredient ingredient ingredient ingredient ingredient ingredient ingredient unit ingredient ingredient ingredient ingredient ingredient</td>\n",
              "      <td>[1, -, 1/2, cups, Rice, Vermicelli, Noodles, Thin, 1, Onion, sliced, 1/2, cup, Carrots, Gajjar, chopped, 1/3, Green, peas, Matar, 2, Chillies, 1/4, teaspoon, Asafoetida, hing, Mustard, seeds, White, Urad, Dal, Split, Ghee, sprig, Curry, leaves, Salt, Lemon, juice]</td>\n",
              "      <td>[quantity, unit, ingredient, ingredient, ingredient, ingredient, quantity, ingredient, ingredient, quantity, unit, ingredient, ingredient, ingredient, quantity, ingredient, ingredient, ingredient, quantity, ingredient, quantity, unit, ingredient, ingredient, ingredient, ingredient, ingredient, ingredient, ingredient, ingredient, ingredient, unit, ingredient, ingredient, ingredient, ingredient, ingredient]</td>\n",
              "    </tr>\n",
              "    <tr>\n",
              "      <th>3</th>\n",
              "      <td>500 grams Chicken 2 Onion chopped 1 Tomato 4 Green Chillies slit inch Ginger finely 6 cloves Garlic 1/2 teaspoon Turmeric powder Haldi Garam masala tablespoon Sesame Gingelly Oil 1/4 Methi Seeds Fenugreek Coriander Dhania Dry Red Fennel seeds Saunf cups Sorrel Leaves Gongura picked and</td>\n",
              "      <td>quantity unit ingredient quantity ingredient ingredient quantity ingredient quantity ingredient ingredient ingredient unit ingredient ingredient quantity unit ingredient quantity unit ingredient ingredient ingredient ingredient ingredient unit ingredient ingredient ingredient quantity ingredient ingredient ingredient ingredient ingredient ingredient ingredient ingredient ingredient ingredient unit ingredient ingredient ingredient ingredient ingredient</td>\n",
              "      <td>[500, grams, Chicken, 2, Onion, chopped, 1, Tomato, 4, Green, Chillies, slit, inch, Ginger, finely, 6, cloves, Garlic, 1/2, teaspoon, Turmeric, powder, Haldi, Garam, masala, tablespoon, Sesame, Gingelly, Oil, 1/4, Methi, Seeds, Fenugreek, Coriander, Dhania, Dry, Red, Fennel, seeds, Saunf, cups, Sorrel, Leaves, Gongura, picked, and]</td>\n",
              "      <td>[quantity, unit, ingredient, quantity, ingredient, ingredient, quantity, ingredient, quantity, ingredient, ingredient, ingredient, unit, ingredient, ingredient, quantity, unit, ingredient, quantity, unit, ingredient, ingredient, ingredient, ingredient, ingredient, unit, ingredient, ingredient, ingredient, quantity, ingredient, ingredient, ingredient, ingredient, ingredient, ingredient, ingredient, ingredient, ingredient, ingredient, unit, ingredient, ingredient, ingredient, ingredient, ingredient]</td>\n",
              "    </tr>\n",
              "    <tr>\n",
              "      <th>4</th>\n",
              "      <td>1 tablespoon chana dal white urad 2 red chillies coriander seeds 3 inches ginger onion tomato Teaspoon mustard asafoetida sprig curry</td>\n",
              "      <td>quantity unit ingredient ingredient ingredient ingredient quantity ingredient ingredient ingredient ingredient quantity unit ingredient ingredient ingredient unit ingredient ingredient unit ingredient</td>\n",
              "      <td>[1, tablespoon, chana, dal, white, urad, 2, red, chillies, coriander, seeds, 3, inches, ginger, onion, tomato, Teaspoon, mustard, asafoetida, sprig, curry]</td>\n",
              "      <td>[quantity, unit, ingredient, ingredient, ingredient, ingredient, quantity, ingredient, ingredient, ingredient, ingredient, quantity, unit, ingredient, ingredient, ingredient, unit, ingredient, ingredient, unit, ingredient]</td>\n",
              "    </tr>\n",
              "  </tbody>\n",
              "</table>\n",
              "</div>"
            ],
            "text/plain": [
              "                                                                                                                                                                                                                                                                                            input                                                                                                                                                                                                                                                                                                                                                                                                                                                                      pos                                                                                                                                                                                                                                                                                                                                   input_tokens                                                                                                                                                                                                                                                                                                                                                                                                                                                                                                              pos_tokens\n",
              "0                                                                                                 6 Karela Bitter Gourd Pavakkai Salt 1 Onion 3 tablespoon Gram flour besan 2 teaspoons Turmeric powder Haldi Red Chilli Cumin seeds Jeera Coriander Powder Dhania Amchur Dry Mango Sunflower Oil                                                                                                                                         quantity ingredient ingredient ingredient ingredient ingredient quantity ingredient quantity unit ingredient ingredient ingredient quantity unit ingredient ingredient ingredient ingredient ingredient ingredient ingredient ingredient ingredient ingredient ingredient ingredient ingredient ingredient ingredient ingredient                                                                                                                [6, Karela, Bitter, Gourd, Pavakkai, Salt, 1, Onion, 3, tablespoon, Gram, flour, besan, 2, teaspoons, Turmeric, powder, Haldi, Red, Chilli, Cumin, seeds, Jeera, Coriander, Powder, Dhania, Amchur, Dry, Mango, Sunflower, Oil]                                                                                                                                                        [quantity, ingredient, ingredient, ingredient, ingredient, ingredient, quantity, ingredient, quantity, unit, ingredient, ingredient, ingredient, quantity, unit, ingredient, ingredient, ingredient, ingredient, ingredient, ingredient, ingredient, ingredient, ingredient, ingredient, ingredient, ingredient, ingredient, ingredient, ingredient, ingredient]\n",
              "1                                                                                    2-1/2 cups rice cooked 3 tomatoes teaspoons BC Belle Bhat powder 1 teaspoon chickpea lentils 1/2 cumin seeds white urad dal mustard green chilli dry red 2 cashew or peanuts 1-1/2 tablespoon oil asafoetida                                                                                                                        quantity unit ingredient ingredient quantity ingredient unit ingredient ingredient ingredient ingredient quantity unit ingredient ingredient quantity ingredient ingredient ingredient ingredient ingredient ingredient ingredient ingredient ingredient ingredient quantity ingredient ingredient ingredient quantity unit ingredient ingredient                                                                                        [2, -, 1/2, cups, rice, cooked, 3, tomatoes, teaspoons, BC, Belle, Bhat, powder, 1, teaspoon, chickpea, lentils, 1/2, cumin, seeds, white, urad, dal, mustard, green, chilli, dry, red, 2, cashew, or, peanuts, 1, -, 1/2, tablespoon, oil, asafoetida]                                                                                                                                    [quantity, unit, ingredient, ingredient, quantity, ingredient, unit, ingredient, ingredient, ingredient, ingredient, quantity, unit, ingredient, ingredient, quantity, ingredient, ingredient, ingredient, ingredient, ingredient, ingredient, ingredient, ingredient, ingredient, ingredient, quantity, ingredient, ingredient, ingredient, quantity, unit, ingredient, ingredient]\n",
              "2                                                                  1-1/2 cups Rice Vermicelli Noodles Thin 1 Onion sliced 1/2 cup Carrots Gajjar chopped 1/3 Green peas Matar 2 Chillies 1/4 teaspoon Asafoetida hing Mustard seeds White Urad Dal Split Ghee sprig Curry leaves Salt Lemon juice                                                                                       quantity unit ingredient ingredient ingredient ingredient quantity ingredient ingredient quantity unit ingredient ingredient ingredient quantity ingredient ingredient ingredient quantity ingredient quantity unit ingredient ingredient ingredient ingredient ingredient ingredient ingredient ingredient ingredient unit ingredient ingredient ingredient ingredient ingredient                                                                       [1, -, 1/2, cups, Rice, Vermicelli, Noodles, Thin, 1, Onion, sliced, 1/2, cup, Carrots, Gajjar, chopped, 1/3, Green, peas, Matar, 2, Chillies, 1/4, teaspoon, Asafoetida, hing, Mustard, seeds, White, Urad, Dal, Split, Ghee, sprig, Curry, leaves, Salt, Lemon, juice]                                                                                                [quantity, unit, ingredient, ingredient, ingredient, ingredient, quantity, ingredient, ingredient, quantity, unit, ingredient, ingredient, ingredient, quantity, ingredient, ingredient, ingredient, quantity, ingredient, quantity, unit, ingredient, ingredient, ingredient, ingredient, ingredient, ingredient, ingredient, ingredient, ingredient, unit, ingredient, ingredient, ingredient, ingredient, ingredient]\n",
              "3  500 grams Chicken 2 Onion chopped 1 Tomato 4 Green Chillies slit inch Ginger finely 6 cloves Garlic 1/2 teaspoon Turmeric powder Haldi Garam masala tablespoon Sesame Gingelly Oil 1/4 Methi Seeds Fenugreek Coriander Dhania Dry Red Fennel seeds Saunf cups Sorrel Leaves Gongura picked and  quantity unit ingredient quantity ingredient ingredient quantity ingredient quantity ingredient ingredient ingredient unit ingredient ingredient quantity unit ingredient quantity unit ingredient ingredient ingredient ingredient ingredient unit ingredient ingredient ingredient quantity ingredient ingredient ingredient ingredient ingredient ingredient ingredient ingredient ingredient ingredient unit ingredient ingredient ingredient ingredient ingredient  [500, grams, Chicken, 2, Onion, chopped, 1, Tomato, 4, Green, Chillies, slit, inch, Ginger, finely, 6, cloves, Garlic, 1/2, teaspoon, Turmeric, powder, Haldi, Garam, masala, tablespoon, Sesame, Gingelly, Oil, 1/4, Methi, Seeds, Fenugreek, Coriander, Dhania, Dry, Red, Fennel, seeds, Saunf, cups, Sorrel, Leaves, Gongura, picked, and]  [quantity, unit, ingredient, quantity, ingredient, ingredient, quantity, ingredient, quantity, ingredient, ingredient, ingredient, unit, ingredient, ingredient, quantity, unit, ingredient, quantity, unit, ingredient, ingredient, ingredient, ingredient, ingredient, unit, ingredient, ingredient, ingredient, quantity, ingredient, ingredient, ingredient, ingredient, ingredient, ingredient, ingredient, ingredient, ingredient, ingredient, unit, ingredient, ingredient, ingredient, ingredient, ingredient]\n",
              "4                                                                                                                                                           1 tablespoon chana dal white urad 2 red chillies coriander seeds 3 inches ginger onion tomato Teaspoon mustard asafoetida sprig curry                                                                                                                                                                                                                                                                 quantity unit ingredient ingredient ingredient ingredient quantity ingredient ingredient ingredient ingredient quantity unit ingredient ingredient ingredient unit ingredient ingredient unit ingredient                                                                                                                                                                                    [1, tablespoon, chana, dal, white, urad, 2, red, chillies, coriander, seeds, 3, inches, ginger, onion, tomato, Teaspoon, mustard, asafoetida, sprig, curry]                                                                                                                                                                                                                                                                                          [quantity, unit, ingredient, ingredient, ingredient, ingredient, quantity, ingredient, ingredient, ingredient, ingredient, quantity, unit, ingredient, ingredient, ingredient, unit, ingredient, ingredient, unit, ingredient]"
            ]
          },
          "execution_count": 11,
          "metadata": {},
          "output_type": "execute_result"
        }
      ],
      "source": [
        "# display first five rows of the dataframe - df\n",
        "df.head(5)"
      ]
    },
    {
      "cell_type": "markdown",
      "metadata": {
        "id": "-JtvsBYur-oV"
      },
      "source": [
        "##### **2.2.2** **Provide the length for input_tokens and pos_tokens and validate their length** <font color = red>[2 marks]</font> <br>\n",
        "\n",
        "Create input_length and pos_length columns in the dataframe and validate both the lengths. Check for the rows that are unequal in input and pos length\n"
      ]
    },
    {
      "cell_type": "code",
      "execution_count": 12,
      "metadata": {
        "id": "GeVRD2IK1Jrg"
      },
      "outputs": [],
      "source": [
        "# create input_length and pos_length columns for the input_tokens and pos-tokens\n",
        "df['input_length']=df['input_tokens'].apply(lambda x:len(x))\n",
        "df['pos_length']=df['pos_tokens'].apply(lambda x:len(x))"
      ]
    },
    {
      "cell_type": "code",
      "execution_count": 13,
      "metadata": {
        "id": "BPMOlLnz1P1H"
      },
      "outputs": [
        {
          "data": {
            "text/plain": [
              "(204, 6)"
            ]
          },
          "execution_count": 13,
          "metadata": {},
          "output_type": "execute_result"
        }
      ],
      "source": [
        "# check for the equality of input_length and pos_length in the dataframe\n",
        "df[df['input_length']==df['pos_length']].shape"
      ]
    },
    {
      "cell_type": "code",
      "execution_count": 14,
      "metadata": {},
      "outputs": [
        {
          "data": {
            "text/html": [
              "<div>\n",
              "<style scoped>\n",
              "    .dataframe tbody tr th:only-of-type {\n",
              "        vertical-align: middle;\n",
              "    }\n",
              "\n",
              "    .dataframe tbody tr th {\n",
              "        vertical-align: top;\n",
              "    }\n",
              "\n",
              "    .dataframe thead th {\n",
              "        text-align: right;\n",
              "    }\n",
              "</style>\n",
              "<table border=\"1\" class=\"dataframe\">\n",
              "  <thead>\n",
              "    <tr style=\"text-align: right;\">\n",
              "      <th></th>\n",
              "      <th>input</th>\n",
              "      <th>pos</th>\n",
              "      <th>input_tokens</th>\n",
              "      <th>pos_tokens</th>\n",
              "      <th>input_length</th>\n",
              "      <th>pos_length</th>\n",
              "    </tr>\n",
              "  </thead>\n",
              "  <tbody>\n",
              "    <tr>\n",
              "      <th>1</th>\n",
              "      <td>2-1/2 cups rice cooked 3 tomatoes teaspoons BC Belle Bhat powder 1 teaspoon chickpea lentils 1/2 cumin seeds white urad dal mustard green chilli dry red 2 cashew or peanuts 1-1/2 tablespoon oil asafoetida</td>\n",
              "      <td>quantity unit ingredient ingredient quantity ingredient unit ingredient ingredient ingredient ingredient quantity unit ingredient ingredient quantity ingredient ingredient ingredient ingredient ingredient ingredient ingredient ingredient ingredient ingredient quantity ingredient ingredient ingredient quantity unit ingredient ingredient</td>\n",
              "      <td>[2, -, 1/2, cups, rice, cooked, 3, tomatoes, teaspoons, BC, Belle, Bhat, powder, 1, teaspoon, chickpea, lentils, 1/2, cumin, seeds, white, urad, dal, mustard, green, chilli, dry, red, 2, cashew, or, peanuts, 1, -, 1/2, tablespoon, oil, asafoetida]</td>\n",
              "      <td>[quantity, unit, ingredient, ingredient, quantity, ingredient, unit, ingredient, ingredient, ingredient, ingredient, quantity, unit, ingredient, ingredient, quantity, ingredient, ingredient, ingredient, ingredient, ingredient, ingredient, ingredient, ingredient, ingredient, ingredient, quantity, ingredient, ingredient, ingredient, quantity, unit, ingredient, ingredient]</td>\n",
              "      <td>38</td>\n",
              "      <td>34</td>\n",
              "    </tr>\n",
              "    <tr>\n",
              "      <th>2</th>\n",
              "      <td>1-1/2 cups Rice Vermicelli Noodles Thin 1 Onion sliced 1/2 cup Carrots Gajjar chopped 1/3 Green peas Matar 2 Chillies 1/4 teaspoon Asafoetida hing Mustard seeds White Urad Dal Split Ghee sprig Curry leaves Salt Lemon juice</td>\n",
              "      <td>quantity unit ingredient ingredient ingredient ingredient quantity ingredient ingredient quantity unit ingredient ingredient ingredient quantity ingredient ingredient ingredient quantity ingredient quantity unit ingredient ingredient ingredient ingredient ingredient ingredient ingredient ingredient ingredient unit ingredient ingredient ingredient ingredient ingredient</td>\n",
              "      <td>[1, -, 1/2, cups, Rice, Vermicelli, Noodles, Thin, 1, Onion, sliced, 1/2, cup, Carrots, Gajjar, chopped, 1/3, Green, peas, Matar, 2, Chillies, 1/4, teaspoon, Asafoetida, hing, Mustard, seeds, White, Urad, Dal, Split, Ghee, sprig, Curry, leaves, Salt, Lemon, juice]</td>\n",
              "      <td>[quantity, unit, ingredient, ingredient, ingredient, ingredient, quantity, ingredient, ingredient, quantity, unit, ingredient, ingredient, ingredient, quantity, ingredient, ingredient, ingredient, quantity, ingredient, quantity, unit, ingredient, ingredient, ingredient, ingredient, ingredient, ingredient, ingredient, ingredient, ingredient, unit, ingredient, ingredient, ingredient, ingredient, ingredient]</td>\n",
              "      <td>39</td>\n",
              "      <td>37</td>\n",
              "    </tr>\n",
              "    <tr>\n",
              "      <th>13</th>\n",
              "      <td>600 grams Aar Maach rohu katla 1 Tomato 2 Bay leaves 1-1/2 tablespoons Ginger paste 4 Green Chillies teaspoon Cumin powder Coriander Powder Salt 1/2 seeds Turmeric slit lengthwise 1-1/4 cups Water Sugar tablespoon Leaves</td>\n",
              "      <td>quantity unit ingredient ingredient ingredient ingredient quantity ingredient quantity ingredient ingredient quantity unit ingredient ingredient quantity ingredient ingredient unit ingredient ingredient ingredient ingredient ingredient quantity ingredient ingredient ingredient ingredient quantity unit ingredient ingredient unit ingredient</td>\n",
              "      <td>[600, grams, Aar, Maach, rohu, katla, 1, Tomato, 2, Bay, leaves, 1, -, 1/2, tablespoons, Ginger, paste, 4, Green, Chillies, teaspoon, Cumin, powder, Coriander, Powder, Salt, 1/2, seeds, Turmeric, slit, lengthwise, 1, -, 1/4, cups, Water, Sugar, tablespoon, Leaves]</td>\n",
              "      <td>[quantity, unit, ingredient, ingredient, ingredient, ingredient, quantity, ingredient, quantity, ingredient, ingredient, quantity, unit, ingredient, ingredient, quantity, ingredient, ingredient, unit, ingredient, ingredient, ingredient, ingredient, ingredient, quantity, ingredient, ingredient, ingredient, ingredient, quantity, unit, ingredient, ingredient, unit, ingredient]</td>\n",
              "      <td>39</td>\n",
              "      <td>35</td>\n",
              "    </tr>\n",
              "    <tr>\n",
              "      <th>17</th>\n",
              "      <td>2 cups curd 1 cup gourd cucumber green cor coriander 1/2 teaspoon cumin powder salt</td>\n",
              "      <td>quantity unit ingredient quantity unit ingredient ingredient ingredient ingredient quantity unit ingredient ingredient ingredient</td>\n",
              "      <td>[2, cups, curd, 1, cup, gourd, cucumber, green, cor, coriander, 1/2, teaspoon, cumin, powder, salt]</td>\n",
              "      <td>[quantity, unit, ingredient, quantity, unit, ingredient, ingredient, ingredient, ingredient, quantity, unit, ingredient, ingredient, ingredient]</td>\n",
              "      <td>15</td>\n",
              "      <td>14</td>\n",
              "    </tr>\n",
              "    <tr>\n",
              "      <th>23</th>\n",
              "      <td>5 Drumstick cut into 3 inch pieces 1/2 cup Fresh coconut grated 2 Green Chillies slit 1 sprig Curry leaves teaspoon Mustard seeds teaspoons Coconut Oil Dry Red Turmeric powder (Haldi) Salt Water</td>\n",
              "      <td>quantity ingredient ingredient ingredient quantity unit ingredient quantity unit ingredient ingredient ingredient quantity ingredient ingredient ingredient quantity unit ingredient ingredient unit ingredient ingredient unit ingredient ingredient ingredient ingredient ingredient ingredient ingredient ingredient ingredient</td>\n",
              "      <td>[5, Drumstick, cut, into, 3, inch, pieces, 1/2, cup, Fresh, coconut, grated, 2, Green, Chillies, slit, 1, sprig, Curry, leaves, teaspoon, Mustard, seeds, teaspoons, Coconut, Oil, Dry, Red, Turmeric, powder, (, Haldi, ), Salt, Water]</td>\n",
              "      <td>[quantity, ingredient, ingredient, ingredient, quantity, unit, ingredient, quantity, unit, ingredient, ingredient, ingredient, quantity, ingredient, ingredient, ingredient, quantity, unit, ingredient, ingredient, unit, ingredient, ingredient, unit, ingredient, ingredient, ingredient, ingredient, ingredient, ingredient, ingredient, ingredient, ingredient]</td>\n",
              "      <td>35</td>\n",
              "      <td>33</td>\n",
              "    </tr>\n",
              "    <tr>\n",
              "      <th>...</th>\n",
              "      <td>...</td>\n",
              "      <td>...</td>\n",
              "      <td>...</td>\n",
              "      <td>...</td>\n",
              "      <td>...</td>\n",
              "      <td>...</td>\n",
              "    </tr>\n",
              "    <tr>\n",
              "      <th>258</th>\n",
              "      <td>1 1/2 cup Red matta rice 3 4 Basmati White Urad Dal Split Coconut milk tablespoon Sugar teaspoon Active dry yeast Salt Fresh coconut Grated Jaggery Cardamom Elaichi Pods/Seeds</td>\n",
              "      <td>quantity quantity unit ingredient ingredient ingredient quantity quantity ingredient ingredient ingredient ingredient ingredient ingredient ingredient unit ingredient unit ingredient ingredient ingredient ingredient ingredient ingredient ingredient ingredient ingredient ingredient ingredient</td>\n",
              "      <td>[1, 1/2, cup, Red, matta, rice, 3, 4, Basmati, White, Urad, Dal, Split, Coconut, milk, tablespoon, Sugar, teaspoon, Active, dry, yeast, Salt, Fresh, coconut, Grated, Jaggery, Cardamom, Elaichi, Pods, /, Seeds]</td>\n",
              "      <td>[quantity, quantity, unit, ingredient, ingredient, ingredient, quantity, quantity, ingredient, ingredient, ingredient, ingredient, ingredient, ingredient, ingredient, unit, ingredient, unit, ingredient, ingredient, ingredient, ingredient, ingredient, ingredient, ingredient, ingredient, ingredient, ingredient, ingredient]</td>\n",
              "      <td>31</td>\n",
              "      <td>29</td>\n",
              "    </tr>\n",
              "    <tr>\n",
              "      <th>261</th>\n",
              "      <td>1/2 cup Cauliflower gobi broken into small florets 1/4 Green beans French cut one-inch pieces Carrots Gajjar inch long 2 Potatoes Aloo cubes 1 Onion sliced teaspoons Sunflower Oil teaspoon Mustard seeds sprig Curry leaves Fresh coconut grated Dry Red Chillies Cumin Jeera Fennel Saunf</td>\n",
              "      <td>quantity unit ingredient ingredient ingredient ingredient ingredient ingredient quantity ingredient ingredient ingredient ingredient ingredient ingredient ingredient ingredient ingredient ingredient quantity ingredient ingredient ingredient quantity ingredient ingredient unit ingredient ingredient unit ingredient ingredient unit ingredient ingredient ingredient ingredient ingredient ingredient ingredient ingredient ingredient ingredient ingredient ingredient</td>\n",
              "      <td>[1/2, cup, Cauliflower, gobi, broken, into, small, florets, 1/4, Green, beans, French, cut, one, -, inch, pieces, Carrots, Gajjar, inch, long, 2, Potatoes, Aloo, cubes, 1, Onion, sliced, teaspoons, Sunflower, Oil, teaspoon, Mustard, seeds, sprig, Curry, leaves, Fresh, coconut, grated, Dry, Red, Chillies, Cumin, Jeera, Fennel, Saunf]</td>\n",
              "      <td>[quantity, unit, ingredient, ingredient, ingredient, ingredient, ingredient, ingredient, quantity, ingredient, ingredient, ingredient, ingredient, ingredient, ingredient, ingredient, ingredient, ingredient, ingredient, quantity, ingredient, ingredient, ingredient, quantity, ingredient, ingredient, unit, ingredient, ingredient, unit, ingredient, ingredient, unit, ingredient, ingredient, ingredient, ingredient, ingredient, ingredient, ingredient, ingredient, ingredient, ingredient, ingredient, ingredient]</td>\n",
              "      <td>47</td>\n",
              "      <td>45</td>\n",
              "    </tr>\n",
              "    <tr>\n",
              "      <th>265</th>\n",
              "      <td>4 Phulka 2 cup Potato Aloo mashed 2-3 Green Chillies finely chopped 1 Carrot Gajjar grated 1/2 Sweet corn Onion teaspoon Red Chilli powder tablespoon Amchur Dry Mango Powder Black pepper flakes Lemon juice Whole Wheat Bread crumbs Corn flour</td>\n",
              "      <td>quantity ingredient quantity unit ingredient ingredient ingredient quantity ingredient ingredient ingredient ingredient quantity ingredient ingredient ingredient quantity ingredient ingredient ingredient unit ingredient ingredient ingredient unit ingredient ingredient ingredient ingredient ingredient ingredient ingredient ingredient ingredient ingredient ingredient ingredient ingredient ingredient ingredient</td>\n",
              "      <td>[4, Phulka, 2, cup, Potato, Aloo, mashed, 2, -, 3, Green, Chillies, finely, chopped, 1, Carrot, Gajjar, grated, 1/2, Sweet, corn, Onion, teaspoon, Red, Chilli, powder, tablespoon, Amchur, Dry, Mango, Powder, Black, pepper, flakes, Lemon, juice, Whole, Wheat, Bread, crumbs, Corn, flour]</td>\n",
              "      <td>[quantity, ingredient, quantity, unit, ingredient, ingredient, ingredient, quantity, ingredient, ingredient, ingredient, ingredient, quantity, ingredient, ingredient, ingredient, quantity, ingredient, ingredient, ingredient, unit, ingredient, ingredient, ingredient, unit, ingredient, ingredient, ingredient, ingredient, ingredient, ingredient, ingredient, ingredient, ingredient, ingredient, ingredient, ingredient, ingredient, ingredient, ingredient]</td>\n",
              "      <td>42</td>\n",
              "      <td>40</td>\n",
              "    </tr>\n",
              "    <tr>\n",
              "      <th>268</th>\n",
              "      <td>15  Baby corn cut into length wise 250 grams Tofu or paneer 1/2 cup Water 1/4 Corn flour Rice 1 Red Yellow and Green Bell Peppers Capsicum sliced 2 teaspoon Light soy sauce Garlic paste 1.5 Fresh Chilli Vinegar Honey Salt tablespoon Sunflower Oil Onion minced 1/3 Raw Peanuts Moongphali salted powdered 1-1/4 orange juice 1-1/2 tablespoons Orange marmalade jam Paprika powder Spring Bulb Greens finely chopped teaspoons Sesame seeds Til roasted</td>\n",
              "      <td>quantity ingredient ingredient unit ingredient ingredient ingredient quantity unit ingredient ingredient ingredient quantity unit ingredient quantity ingredient ingredient ingredient quantity ingredient ingredient ingredient ingredient ingredient ingredient ingredient ingredient quantity unit ingredient ingredient ingredient ingredient ingredient quantity ingredient ingredient ingredient ingredient ingredient unit ingredient ingredient ingredient ingredient quantity ingredient ingredient ingredient ingredient ingredient quantity ingredient ingredient quantity unit ingredient ingredient ingredient ingredient ingredient ingredient ingredient ingredient ingredient ingredient unit ingredient ingredient ingredient ingredient</td>\n",
              "      <td>[15,  , Baby, corn, cut, into, length, wise, 250, grams, Tofu, or, paneer, 1/2, cup, Water, 1/4, Corn, flour, Rice, 1, Red, Yellow, and, Green, Bell, Peppers, Capsicum, sliced, 2, teaspoon, Light, soy, sauce, Garlic, paste, 1.5, Fresh, Chilli, Vinegar, Honey, Salt, tablespoon, Sunflower, Oil, Onion, minced, 1/3, Raw, Peanuts, Moongphali, salted, powdered, 1, -, 1/4, orange, juice, 1, -, 1/2, tablespoons, Orange, marmalade, jam, Paprika, powder, Spring, Bulb, Greens, finely, chopped, teaspoons, Sesame, seeds, Til, roasted]</td>\n",
              "      <td>[quantity, ingredient, ingredient, unit, ingredient, ingredient, ingredient, quantity, unit, ingredient, ingredient, ingredient, quantity, unit, ingredient, quantity, ingredient, ingredient, ingredient, quantity, ingredient, ingredient, ingredient, ingredient, ingredient, ingredient, ingredient, ingredient, quantity, unit, ingredient, ingredient, ingredient, ingredient, ingredient, quantity, ingredient, ingredient, ingredient, ingredient, ingredient, unit, ingredient, ingredient, ingredient, ingredient, quantity, ingredient, ingredient, ingredient, ingredient, ingredient, quantity, ingredient, ingredient, quantity, unit, ingredient, ingredient, ingredient, ingredient, ingredient, ingredient, ingredient, ingredient, ingredient, ingredient, unit, ingredient, ingredient, ingredient, ingredient]</td>\n",
              "      <td>77</td>\n",
              "      <td>72</td>\n",
              "    </tr>\n",
              "    <tr>\n",
              "      <th>277</th>\n",
              "      <td>1 kg Boneless chicken cut into bite sized pieces 2 teaspoon Red Chilli powder Coriander Powder (Dhania) 1/2 Turmeric (Haldi) Garam masala tablespoon Ginger Garlic Paste cup Leaves chopped Salt cups Corn flakes made to a coarse Whole Eggs beaten Sunflower Oil fry</td>\n",
              "      <td>quantity unit ingredient ingredient ingredient ingredient ingredient ingredient ingredient quantity unit ingredient ingredient ingredient ingredient ingredient ingredient quantity ingredient ingredient ingredient ingredient unit ingredient ingredient ingredient unit ingredient ingredient ingredient unit ingredient ingredient ingredient ingredient ingredient ingredient ingredient ingredient ingredient ingredient ingredient ingredient</td>\n",
              "      <td>[1, kg, Boneless, chicken, cut, into, bite, sized, pieces, 2, teaspoon, Red, Chilli, powder, Coriander, Powder, (, Dhania, ), 1/2, Turmeric, (, Haldi, ), Garam, masala, tablespoon, Ginger, Garlic, Paste, cup, Leaves, chopped, Salt, cups, Corn, flakes, made, to, a, coarse, Whole, Eggs, beaten, Sunflower, Oil, fry]</td>\n",
              "      <td>[quantity, unit, ingredient, ingredient, ingredient, ingredient, ingredient, ingredient, ingredient, quantity, unit, ingredient, ingredient, ingredient, ingredient, ingredient, ingredient, quantity, ingredient, ingredient, ingredient, ingredient, unit, ingredient, ingredient, ingredient, unit, ingredient, ingredient, ingredient, unit, ingredient, ingredient, ingredient, ingredient, ingredient, ingredient, ingredient, ingredient, ingredient, ingredient, ingredient, ingredient]</td>\n",
              "      <td>47</td>\n",
              "      <td>43</td>\n",
              "    </tr>\n",
              "  </tbody>\n",
              "</table>\n",
              "<p>81 rows × 6 columns</p>\n",
              "</div>"
            ],
            "text/plain": [
              "                                                                                                                                                                                                                                                                                                                                                                                                                                                            input                                                                                                                                                                                                                                                                                                                                                                                                                                                                                                                                                                                                                                                                                                                                                        pos                                                                                                                                                                                                                                                                                                                                                                                                                                                                                                                                     input_tokens                                                                                                                                                                                                                                                                                                                                                                                                                                                                                                                                                                                                                                                                                                                                                                                                                          pos_tokens  input_length  pos_length\n",
              "1                                                                                                                                                                                                                                                    2-1/2 cups rice cooked 3 tomatoes teaspoons BC Belle Bhat powder 1 teaspoon chickpea lentils 1/2 cumin seeds white urad dal mustard green chilli dry red 2 cashew or peanuts 1-1/2 tablespoon oil asafoetida                                                                                                                                                                                                                                                                                                                                                                                                          quantity unit ingredient ingredient quantity ingredient unit ingredient ingredient ingredient ingredient quantity unit ingredient ingredient quantity ingredient ingredient ingredient ingredient ingredient ingredient ingredient ingredient ingredient ingredient quantity ingredient ingredient ingredient quantity unit ingredient ingredient                                                                                                                                                                                                                                                                                          [2, -, 1/2, cups, rice, cooked, 3, tomatoes, teaspoons, BC, Belle, Bhat, powder, 1, teaspoon, chickpea, lentils, 1/2, cumin, seeds, white, urad, dal, mustard, green, chilli, dry, red, 2, cashew, or, peanuts, 1, -, 1/2, tablespoon, oil, asafoetida]                                                                                                                                                                                                                                                                                                                                                                                                                                                [quantity, unit, ingredient, ingredient, quantity, ingredient, unit, ingredient, ingredient, ingredient, ingredient, quantity, unit, ingredient, ingredient, quantity, ingredient, ingredient, ingredient, ingredient, ingredient, ingredient, ingredient, ingredient, ingredient, ingredient, quantity, ingredient, ingredient, ingredient, quantity, unit, ingredient, ingredient]            38          34\n",
              "2                                                                                                                                                                                                                                  1-1/2 cups Rice Vermicelli Noodles Thin 1 Onion sliced 1/2 cup Carrots Gajjar chopped 1/3 Green peas Matar 2 Chillies 1/4 teaspoon Asafoetida hing Mustard seeds White Urad Dal Split Ghee sprig Curry leaves Salt Lemon juice                                                                                                                                                                                                                                                                                                                                                                         quantity unit ingredient ingredient ingredient ingredient quantity ingredient ingredient quantity unit ingredient ingredient ingredient quantity ingredient ingredient ingredient quantity ingredient quantity unit ingredient ingredient ingredient ingredient ingredient ingredient ingredient ingredient ingredient unit ingredient ingredient ingredient ingredient ingredient                                                                                                                                                                                                                                                                         [1, -, 1/2, cups, Rice, Vermicelli, Noodles, Thin, 1, Onion, sliced, 1/2, cup, Carrots, Gajjar, chopped, 1/3, Green, peas, Matar, 2, Chillies, 1/4, teaspoon, Asafoetida, hing, Mustard, seeds, White, Urad, Dal, Split, Ghee, sprig, Curry, leaves, Salt, Lemon, juice]                                                                                                                                                                                                                                                                                                                                                                                                            [quantity, unit, ingredient, ingredient, ingredient, ingredient, quantity, ingredient, ingredient, quantity, unit, ingredient, ingredient, ingredient, quantity, ingredient, ingredient, ingredient, quantity, ingredient, quantity, unit, ingredient, ingredient, ingredient, ingredient, ingredient, ingredient, ingredient, ingredient, ingredient, unit, ingredient, ingredient, ingredient, ingredient, ingredient]            39          37\n",
              "13                                                                                                                                                                                                                                   600 grams Aar Maach rohu katla 1 Tomato 2 Bay leaves 1-1/2 tablespoons Ginger paste 4 Green Chillies teaspoon Cumin powder Coriander Powder Salt 1/2 seeds Turmeric slit lengthwise 1-1/4 cups Water Sugar tablespoon Leaves                                                                                                                                                                                                                                                                                                                                                                                                       quantity unit ingredient ingredient ingredient ingredient quantity ingredient quantity ingredient ingredient quantity unit ingredient ingredient quantity ingredient ingredient unit ingredient ingredient ingredient ingredient ingredient quantity ingredient ingredient ingredient ingredient quantity unit ingredient ingredient unit ingredient                                                                                                                                                                                                                                                                         [600, grams, Aar, Maach, rohu, katla, 1, Tomato, 2, Bay, leaves, 1, -, 1/2, tablespoons, Ginger, paste, 4, Green, Chillies, teaspoon, Cumin, powder, Coriander, Powder, Salt, 1/2, seeds, Turmeric, slit, lengthwise, 1, -, 1/4, cups, Water, Sugar, tablespoon, Leaves]                                                                                                                                                                                                                                                                                                                                                                                                                                            [quantity, unit, ingredient, ingredient, ingredient, ingredient, quantity, ingredient, quantity, ingredient, ingredient, quantity, unit, ingredient, ingredient, quantity, ingredient, ingredient, unit, ingredient, ingredient, ingredient, ingredient, ingredient, quantity, ingredient, ingredient, ingredient, ingredient, quantity, unit, ingredient, ingredient, unit, ingredient]            39          35\n",
              "17                                                                                                                                                                                                                                                                                                                                                                            2 cups curd 1 cup gourd cucumber green cor coriander 1/2 teaspoon cumin powder salt                                                                                                                                                                                                                                                                                                                                                                                                                                                                                                                                                                                                                          quantity unit ingredient quantity unit ingredient ingredient ingredient ingredient quantity unit ingredient ingredient ingredient                                                                                                                                                                                                                                                                                                                                                                                                                                              [2, cups, curd, 1, cup, gourd, cucumber, green, cor, coriander, 1/2, teaspoon, cumin, powder, salt]                                                                                                                                                                                                                                                                                                                                                                                                                                                                                                                                                                                                                                                                                    [quantity, unit, ingredient, quantity, unit, ingredient, ingredient, ingredient, ingredient, quantity, unit, ingredient, ingredient, ingredient]            15          14\n",
              "23                                                                                                                                                                                                                                                             5 Drumstick cut into 3 inch pieces 1/2 cup Fresh coconut grated 2 Green Chillies slit 1 sprig Curry leaves teaspoon Mustard seeds teaspoons Coconut Oil Dry Red Turmeric powder (Haldi) Salt Water                                                                                                                                                                                                                                                                                                                                                                                                                         quantity ingredient ingredient ingredient quantity unit ingredient quantity unit ingredient ingredient ingredient quantity ingredient ingredient ingredient quantity unit ingredient ingredient unit ingredient ingredient unit ingredient ingredient ingredient ingredient ingredient ingredient ingredient ingredient ingredient                                                                                                                                                                                                                                                                                                         [5, Drumstick, cut, into, 3, inch, pieces, 1/2, cup, Fresh, coconut, grated, 2, Green, Chillies, slit, 1, sprig, Curry, leaves, teaspoon, Mustard, seeds, teaspoons, Coconut, Oil, Dry, Red, Turmeric, powder, (, Haldi, ), Salt, Water]                                                                                                                                                                                                                                                                                                                                                                                                                                                                [quantity, ingredient, ingredient, ingredient, quantity, unit, ingredient, quantity, unit, ingredient, ingredient, ingredient, quantity, ingredient, ingredient, ingredient, quantity, unit, ingredient, ingredient, unit, ingredient, ingredient, unit, ingredient, ingredient, ingredient, ingredient, ingredient, ingredient, ingredient, ingredient, ingredient]            35          33\n",
              "..                                                                                                                                                                                                                                                                                                                                                                                                                                                            ...                                                                                                                                                                                                                                                                                                                                                                                                                                                                                                                                                                                                                                                                                                                                                        ...                                                                                                                                                                                                                                                                                                                                                                                                                                                                                                                                              ...                                                                                                                                                                                                                                                                                                                                                                                                                                                                                                                                                                                                                                                                                                                                                                                                                                 ...           ...         ...\n",
              "258                                                                                                                                                                                                                                                                               1 1/2 cup Red matta rice 3 4 Basmati White Urad Dal Split Coconut milk tablespoon Sugar teaspoon Active dry yeast Salt Fresh coconut Grated Jaggery Cardamom Elaichi Pods/Seeds                                                                                                                                                                                                                                                                                                                                                                                                                                                       quantity quantity unit ingredient ingredient ingredient quantity quantity ingredient ingredient ingredient ingredient ingredient ingredient ingredient unit ingredient unit ingredient ingredient ingredient ingredient ingredient ingredient ingredient ingredient ingredient ingredient ingredient                                                                                                                                                                                                                                                                                                                                [1, 1/2, cup, Red, matta, rice, 3, 4, Basmati, White, Urad, Dal, Split, Coconut, milk, tablespoon, Sugar, teaspoon, Active, dry, yeast, Salt, Fresh, coconut, Grated, Jaggery, Cardamom, Elaichi, Pods, /, Seeds]                                                                                                                                                                                                                                                                                                                                                                                                                                                                                                  [quantity, quantity, unit, ingredient, ingredient, ingredient, quantity, quantity, ingredient, ingredient, ingredient, ingredient, ingredient, ingredient, ingredient, unit, ingredient, unit, ingredient, ingredient, ingredient, ingredient, ingredient, ingredient, ingredient, ingredient, ingredient, ingredient, ingredient]            31          29\n",
              "261                                                                                                                                                                  1/2 cup Cauliflower gobi broken into small florets 1/4 Green beans French cut one-inch pieces Carrots Gajjar inch long 2 Potatoes Aloo cubes 1 Onion sliced teaspoons Sunflower Oil teaspoon Mustard seeds sprig Curry leaves Fresh coconut grated Dry Red Chillies Cumin Jeera Fennel Saunf                                                                                                                                                                                                                                                                             quantity unit ingredient ingredient ingredient ingredient ingredient ingredient quantity ingredient ingredient ingredient ingredient ingredient ingredient ingredient ingredient ingredient ingredient quantity ingredient ingredient ingredient quantity ingredient ingredient unit ingredient ingredient unit ingredient ingredient unit ingredient ingredient ingredient ingredient ingredient ingredient ingredient ingredient ingredient ingredient ingredient ingredient                                                                                                                                                                                                   [1/2, cup, Cauliflower, gobi, broken, into, small, florets, 1/4, Green, beans, French, cut, one, -, inch, pieces, Carrots, Gajjar, inch, long, 2, Potatoes, Aloo, cubes, 1, Onion, sliced, teaspoons, Sunflower, Oil, teaspoon, Mustard, seeds, sprig, Curry, leaves, Fresh, coconut, grated, Dry, Red, Chillies, Cumin, Jeera, Fennel, Saunf]                                                                                                                                                                                                                                                                                                        [quantity, unit, ingredient, ingredient, ingredient, ingredient, ingredient, ingredient, quantity, ingredient, ingredient, ingredient, ingredient, ingredient, ingredient, ingredient, ingredient, ingredient, ingredient, quantity, ingredient, ingredient, ingredient, quantity, ingredient, ingredient, unit, ingredient, ingredient, unit, ingredient, ingredient, unit, ingredient, ingredient, ingredient, ingredient, ingredient, ingredient, ingredient, ingredient, ingredient, ingredient, ingredient, ingredient]            47          45\n",
              "265                                                                                                                                                                                                             4 Phulka 2 cup Potato Aloo mashed 2-3 Green Chillies finely chopped 1 Carrot Gajjar grated 1/2 Sweet corn Onion teaspoon Red Chilli powder tablespoon Amchur Dry Mango Powder Black pepper flakes Lemon juice Whole Wheat Bread crumbs Corn flour                                                                                                                                                                                                                                                                                                                                quantity ingredient quantity unit ingredient ingredient ingredient quantity ingredient ingredient ingredient ingredient quantity ingredient ingredient ingredient quantity ingredient ingredient ingredient unit ingredient ingredient ingredient unit ingredient ingredient ingredient ingredient ingredient ingredient ingredient ingredient ingredient ingredient ingredient ingredient ingredient ingredient ingredient                                                                                                                                                                                                                                                   [4, Phulka, 2, cup, Potato, Aloo, mashed, 2, -, 3, Green, Chillies, finely, chopped, 1, Carrot, Gajjar, grated, 1/2, Sweet, corn, Onion, teaspoon, Red, Chilli, powder, tablespoon, Amchur, Dry, Mango, Powder, Black, pepper, flakes, Lemon, juice, Whole, Wheat, Bread, crumbs, Corn, flour]                                                                                                                                                                                                                                                                                                                                                                [quantity, ingredient, quantity, unit, ingredient, ingredient, ingredient, quantity, ingredient, ingredient, ingredient, ingredient, quantity, ingredient, ingredient, ingredient, quantity, ingredient, ingredient, ingredient, unit, ingredient, ingredient, ingredient, unit, ingredient, ingredient, ingredient, ingredient, ingredient, ingredient, ingredient, ingredient, ingredient, ingredient, ingredient, ingredient, ingredient, ingredient, ingredient]            42          40\n",
              "268  15  Baby corn cut into length wise 250 grams Tofu or paneer 1/2 cup Water 1/4 Corn flour Rice 1 Red Yellow and Green Bell Peppers Capsicum sliced 2 teaspoon Light soy sauce Garlic paste 1.5 Fresh Chilli Vinegar Honey Salt tablespoon Sunflower Oil Onion minced 1/3 Raw Peanuts Moongphali salted powdered 1-1/4 orange juice 1-1/2 tablespoons Orange marmalade jam Paprika powder Spring Bulb Greens finely chopped teaspoons Sesame seeds Til roasted  quantity ingredient ingredient unit ingredient ingredient ingredient quantity unit ingredient ingredient ingredient quantity unit ingredient quantity ingredient ingredient ingredient quantity ingredient ingredient ingredient ingredient ingredient ingredient ingredient ingredient quantity unit ingredient ingredient ingredient ingredient ingredient quantity ingredient ingredient ingredient ingredient ingredient unit ingredient ingredient ingredient ingredient quantity ingredient ingredient ingredient ingredient ingredient quantity ingredient ingredient quantity unit ingredient ingredient ingredient ingredient ingredient ingredient ingredient ingredient ingredient ingredient unit ingredient ingredient ingredient ingredient  [15,  , Baby, corn, cut, into, length, wise, 250, grams, Tofu, or, paneer, 1/2, cup, Water, 1/4, Corn, flour, Rice, 1, Red, Yellow, and, Green, Bell, Peppers, Capsicum, sliced, 2, teaspoon, Light, soy, sauce, Garlic, paste, 1.5, Fresh, Chilli, Vinegar, Honey, Salt, tablespoon, Sunflower, Oil, Onion, minced, 1/3, Raw, Peanuts, Moongphali, salted, powdered, 1, -, 1/4, orange, juice, 1, -, 1/2, tablespoons, Orange, marmalade, jam, Paprika, powder, Spring, Bulb, Greens, finely, chopped, teaspoons, Sesame, seeds, Til, roasted]  [quantity, ingredient, ingredient, unit, ingredient, ingredient, ingredient, quantity, unit, ingredient, ingredient, ingredient, quantity, unit, ingredient, quantity, ingredient, ingredient, ingredient, quantity, ingredient, ingredient, ingredient, ingredient, ingredient, ingredient, ingredient, ingredient, quantity, unit, ingredient, ingredient, ingredient, ingredient, ingredient, quantity, ingredient, ingredient, ingredient, ingredient, ingredient, unit, ingredient, ingredient, ingredient, ingredient, quantity, ingredient, ingredient, ingredient, ingredient, ingredient, quantity, ingredient, ingredient, quantity, unit, ingredient, ingredient, ingredient, ingredient, ingredient, ingredient, ingredient, ingredient, ingredient, ingredient, unit, ingredient, ingredient, ingredient, ingredient]            77          72\n",
              "277                                                                                                                                                                                        1 kg Boneless chicken cut into bite sized pieces 2 teaspoon Red Chilli powder Coriander Powder (Dhania) 1/2 Turmeric (Haldi) Garam masala tablespoon Ginger Garlic Paste cup Leaves chopped Salt cups Corn flakes made to a coarse Whole Eggs beaten Sunflower Oil fry                                                                                                                                                                                                                                                                                                       quantity unit ingredient ingredient ingredient ingredient ingredient ingredient ingredient quantity unit ingredient ingredient ingredient ingredient ingredient ingredient quantity ingredient ingredient ingredient ingredient unit ingredient ingredient ingredient unit ingredient ingredient ingredient unit ingredient ingredient ingredient ingredient ingredient ingredient ingredient ingredient ingredient ingredient ingredient ingredient                                                                                                                                                                                                                       [1, kg, Boneless, chicken, cut, into, bite, sized, pieces, 2, teaspoon, Red, Chilli, powder, Coriander, Powder, (, Dhania, ), 1/2, Turmeric, (, Haldi, ), Garam, masala, tablespoon, Ginger, Garlic, Paste, cup, Leaves, chopped, Salt, cups, Corn, flakes, made, to, a, coarse, Whole, Eggs, beaten, Sunflower, Oil, fry]                                                                                                                                                                                                                                                                                                                                    [quantity, unit, ingredient, ingredient, ingredient, ingredient, ingredient, ingredient, ingredient, quantity, unit, ingredient, ingredient, ingredient, ingredient, ingredient, ingredient, quantity, ingredient, ingredient, ingredient, ingredient, unit, ingredient, ingredient, ingredient, unit, ingredient, ingredient, ingredient, unit, ingredient, ingredient, ingredient, ingredient, ingredient, ingredient, ingredient, ingredient, ingredient, ingredient, ingredient, ingredient]            47          43\n",
              "\n",
              "[81 rows x 6 columns]"
            ]
          },
          "execution_count": 14,
          "metadata": {},
          "output_type": "execute_result"
        }
      ],
      "source": [
        "df[df['input_length']!=df['pos_length']]"
      ]
    },
    {
      "cell_type": "code",
      "execution_count": 15,
      "metadata": {},
      "outputs": [
        {
          "data": {
            "text/plain": [
              "Index([  1,   2,  13,  17,  23,  27,  33,  37,  42,  46,  48,  58,  60,  63,\n",
              "        65,  69,  71,  73,  74,  77,  79,  82,  84,  86,  87,  94, 100, 107,\n",
              "       110, 111, 112, 114, 121, 130, 133, 146, 147, 150, 152, 154, 156, 157,\n",
              "       158, 159, 163, 164, 168, 173, 176, 183, 185, 188, 190, 192, 196, 203,\n",
              "       204, 205, 207, 216, 218, 219, 221, 222, 226, 228, 234, 239, 241, 242,\n",
              "       243, 244, 245, 247, 250, 251, 258, 261, 265, 268, 277],\n",
              "      dtype='int64')"
            ]
          },
          "execution_count": 15,
          "metadata": {},
          "output_type": "execute_result"
        }
      ],
      "source": [
        "df[df['input_length']!=df['pos_length']].index"
      ]
    },
    {
      "cell_type": "markdown",
      "metadata": {
        "id": "dpJQu3JE_P7Z"
      },
      "source": [
        "##### **2.2.3** **Define a unique_labels function and validate the labels in pos_tokens** <font color = red>[2 marks]</font> <br>\n",
        "\n",
        "Define a unique_labels function which checks for all the unique pos labels in the recipe & execute it.\n"
      ]
    },
    {
      "cell_type": "code",
      "execution_count": 16,
      "metadata": {
        "id": "-4aMFCxXO_GJ"
      },
      "outputs": [
        {
          "data": {
            "text/plain": [
              "array(['quantity', 'ingredient', 'unit'], dtype=object)"
            ]
          },
          "execution_count": 16,
          "metadata": {},
          "output_type": "execute_result"
        }
      ],
      "source": [
        "# Define a unique_labels function to checks for all the unique pos labels in the recipe & print it\n",
        "def unique_labels(df):\n",
        "  uniq=df['pos_tokens'].explode().unique()\n",
        "  return uniq\n",
        "\n",
        "unique_labels(df)"
      ]
    },
    {
      "cell_type": "markdown",
      "metadata": {
        "id": "JbriClEV9CW5"
      },
      "source": [
        "##### **2.2.3** **Provide the insights seen in the recipe data after validation** <font color = red>[1 marks]</font> <br>\n",
        "\n",
        "Provide the indexes that requires cleaning and formatting in the dataframe"
      ]
    },
    {
      "cell_type": "markdown",
      "metadata": {
        "id": "rrNQ4AtD9RPk"
      },
      "source": [
        "<font color = red>[write your answer]</font> <br>\n",
        "[1,   2,  13,  17,  23,  27,  33,  37,  42,  46,  48,  58,  60,  63,\n",
        "65,  69,  71,  73,  74,  77,  79,  82,  84,  86,  87,  94, 100, 107,\n",
        "110, 111, 112, 114, 121, 130, 133, 146, 147, 150, 152, 154, 156, 157,\n",
        "158, 159, 163, 164, 168, 173, 176, 183, 185, 188, 190, 192, 196, 203,\n",
        "204, 205, 207, 216, 218, 219, 221, 222, 226, 228, 234, 239, 241, 242,\n",
        "243, 244, 245, 247, 250, 251, 258, 261, 265, 268, 277]"
      ]
    },
    {
      "cell_type": "markdown",
      "metadata": {
        "id": "Qtqtij2-CD2m"
      },
      "source": [
        "##### **2.2.4** **Drop the rows that have invalid data provided in previous cell** <font color = red> [2 marks]</font> <br>"
      ]
    },
    {
      "cell_type": "code",
      "execution_count": 17,
      "metadata": {
        "id": "jaiy1pYWCFPA"
      },
      "outputs": [],
      "source": [
        "# drop the irrelevant recipe data\n",
        "df=df.drop([ 1, 2, 13, 17, 23, 27, 33, 37, 42, 46, 48, 58, 60, 63, 65, 69, 71, 73, 74, 77, 79, 82, 84, 86, 87, 94, 100, 107, 110, 111, 112, 114, 121, 130, 133, 146, 147, 150, 152, 154, 156, 157, 158, 159, 163, 164, 168, 173, 176, 183, 185, 188, 190, 192, 196, 203, 204, 205, 207, 216, 218, 219, 221, 222, 226, 228, 234, 239, 241, 242, 243, 244, 245, 247, 250, 251, 258, 261, 265, 268, 277])"
      ]
    },
    {
      "cell_type": "markdown",
      "metadata": {
        "id": "_RJEStPSC9PB"
      },
      "source": [
        "##### **2.2.5** **Update the input_length & pos_length in dataframe**<font color = red> [2 marks]</font> <br>"
      ]
    },
    {
      "cell_type": "code",
      "execution_count": 18,
      "metadata": {
        "id": "XjJd7gPI5_ca"
      },
      "outputs": [],
      "source": [
        "# update the input and pos length in input_length and pos_length\n",
        "df['input_length']=df['input_tokens'].apply(lambda x:len(x))\n",
        "df['pos_length']=df['pos_tokens'].apply(lambda x:len(x))"
      ]
    },
    {
      "cell_type": "markdown",
      "metadata": {
        "id": "qJdYJ2TEDBzd"
      },
      "source": [
        "##### **2.2.6** **Validate the input_length and pos_length by checking unequal rows** <font color = red> [1 marks]</font> <br>"
      ]
    },
    {
      "cell_type": "code",
      "execution_count": 19,
      "metadata": {
        "id": "fdSsdOPM8aXo"
      },
      "outputs": [
        {
          "data": {
            "text/html": [
              "<div>\n",
              "<style scoped>\n",
              "    .dataframe tbody tr th:only-of-type {\n",
              "        vertical-align: middle;\n",
              "    }\n",
              "\n",
              "    .dataframe tbody tr th {\n",
              "        vertical-align: top;\n",
              "    }\n",
              "\n",
              "    .dataframe thead th {\n",
              "        text-align: right;\n",
              "    }\n",
              "</style>\n",
              "<table border=\"1\" class=\"dataframe\">\n",
              "  <thead>\n",
              "    <tr style=\"text-align: right;\">\n",
              "      <th></th>\n",
              "      <th>input_length</th>\n",
              "      <th>pos_length</th>\n",
              "    </tr>\n",
              "  </thead>\n",
              "  <tbody>\n",
              "    <tr>\n",
              "      <th>0</th>\n",
              "      <td>31</td>\n",
              "      <td>31</td>\n",
              "    </tr>\n",
              "    <tr>\n",
              "      <th>3</th>\n",
              "      <td>46</td>\n",
              "      <td>46</td>\n",
              "    </tr>\n",
              "    <tr>\n",
              "      <th>4</th>\n",
              "      <td>21</td>\n",
              "      <td>21</td>\n",
              "    </tr>\n",
              "    <tr>\n",
              "      <th>5</th>\n",
              "      <td>41</td>\n",
              "      <td>41</td>\n",
              "    </tr>\n",
              "    <tr>\n",
              "      <th>6</th>\n",
              "      <td>39</td>\n",
              "      <td>39</td>\n",
              "    </tr>\n",
              "  </tbody>\n",
              "</table>\n",
              "</div>"
            ],
            "text/plain": [
              "   input_length  pos_length\n",
              "0            31          31\n",
              "3            46          46\n",
              "4            21          21\n",
              "5            41          41\n",
              "6            39          39"
            ]
          },
          "execution_count": 19,
          "metadata": {},
          "output_type": "execute_result"
        }
      ],
      "source": [
        "# validate the input length and pos length as input_length and pos_length\n",
        "df[['input_length','pos_length']].head()"
      ]
    },
    {
      "cell_type": "markdown",
      "metadata": {
        "id": "TwKLW4em-qMu"
      },
      "source": [
        "## **3** Train Validation Split (70 train - 30 val) <font color = red>[6 marks]</font> <br>"
      ]
    },
    {
      "cell_type": "markdown",
      "metadata": {
        "id": "z_pJDTVO-71z"
      },
      "source": [
        "#### **3.1** *Perform train and validation split ratio* <font color = red>[6 marks]</font> <br>\n",
        "Split the dataset with the help of input_tokens and pos_tokens and make a ratio of 70:30 split for training and validation datasets."
      ]
    },
    {
      "cell_type": "markdown",
      "metadata": {
        "id": "l-64gdDiIy9u"
      },
      "source": [
        "###### **3.1.1** **Split the dataset into train_df and val_df into 70:30 ratio** <font color = red> [1 marks]</font> <br>"
      ]
    },
    {
      "cell_type": "code",
      "execution_count": 20,
      "metadata": {
        "id": "W20A_-9E_WOv"
      },
      "outputs": [],
      "source": [
        "# split the dataset into training and validation sets\n",
        "train_df,val_df=train_test_split(df,test_size=0.3,random_state=42)"
      ]
    },
    {
      "cell_type": "markdown",
      "metadata": {
        "id": "PUA05_77JRAv"
      },
      "source": [
        "###### **3.1.2** **Print the first five rows of train_df and val_df** <font color = red> [1 marks]</font> <br>"
      ]
    },
    {
      "cell_type": "code",
      "execution_count": 21,
      "metadata": {
        "id": "pgMZfsbV_XhK"
      },
      "outputs": [
        {
          "data": {
            "text/html": [
              "<div>\n",
              "<style scoped>\n",
              "    .dataframe tbody tr th:only-of-type {\n",
              "        vertical-align: middle;\n",
              "    }\n",
              "\n",
              "    .dataframe tbody tr th {\n",
              "        vertical-align: top;\n",
              "    }\n",
              "\n",
              "    .dataframe thead th {\n",
              "        text-align: right;\n",
              "    }\n",
              "</style>\n",
              "<table border=\"1\" class=\"dataframe\">\n",
              "  <thead>\n",
              "    <tr style=\"text-align: right;\">\n",
              "      <th></th>\n",
              "      <th>input</th>\n",
              "      <th>pos</th>\n",
              "      <th>input_tokens</th>\n",
              "      <th>pos_tokens</th>\n",
              "      <th>input_length</th>\n",
              "      <th>pos_length</th>\n",
              "    </tr>\n",
              "  </thead>\n",
              "  <tbody>\n",
              "    <tr>\n",
              "      <th>132</th>\n",
              "      <td>1 cup Gram flour besan 1/2 teaspoon Ajwain Carom seeds 1/4 Red Chilli powder 2 tablespoons Curd Dahi Yogurt Sunflower Oil Green Bell Pepper Capsicum Cumin Asafoetida hing Turmeric Garam masala Amchur Dry Mango Powder Coriander Dhania 4 sprig Leaves chopped</td>\n",
              "      <td>quantity unit ingredient ingredient ingredient quantity unit ingredient ingredient ingredient quantity ingredient ingredient ingredient quantity unit ingredient ingredient ingredient ingredient ingredient ingredient ingredient ingredient ingredient ingredient ingredient ingredient ingredient ingredient ingredient ingredient ingredient ingredient ingredient ingredient ingredient quantity unit ingredient ingredient</td>\n",
              "      <td>[1, cup, Gram, flour, besan, 1/2, teaspoon, Ajwain, Carom, seeds, 1/4, Red, Chilli, powder, 2, tablespoons, Curd, Dahi, Yogurt, Sunflower, Oil, Green, Bell, Pepper, Capsicum, Cumin, Asafoetida, hing, Turmeric, Garam, masala, Amchur, Dry, Mango, Powder, Coriander, Dhania, 4, sprig, Leaves, chopped]</td>\n",
              "      <td>[quantity, unit, ingredient, ingredient, ingredient, quantity, unit, ingredient, ingredient, ingredient, quantity, ingredient, ingredient, ingredient, quantity, unit, ingredient, ingredient, ingredient, ingredient, ingredient, ingredient, ingredient, ingredient, ingredient, ingredient, ingredient, ingredient, ingredient, ingredient, ingredient, ingredient, ingredient, ingredient, ingredient, ingredient, ingredient, quantity, unit, ingredient, ingredient]</td>\n",
              "      <td>41</td>\n",
              "      <td>41</td>\n",
              "    </tr>\n",
              "    <tr>\n",
              "      <th>39</th>\n",
              "      <td>1 eggplant 2 inch ginger onion tomato green chillies teaspoon turmeric powder garam masala coriander tablespoon butter red chili oil sprigs of</td>\n",
              "      <td>quantity ingredient quantity unit ingredient ingredient ingredient ingredient ingredient unit ingredient ingredient ingredient ingredient ingredient unit ingredient ingredient ingredient ingredient unit ingredient</td>\n",
              "      <td>[1, eggplant, 2, inch, ginger, onion, tomato, green, chillies, teaspoon, turmeric, powder, garam, masala, coriander, tablespoon, butter, red, chili, oil, sprigs, of]</td>\n",
              "      <td>[quantity, ingredient, quantity, unit, ingredient, ingredient, ingredient, ingredient, ingredient, unit, ingredient, ingredient, ingredient, ingredient, ingredient, unit, ingredient, ingredient, ingredient, ingredient, unit, ingredient]</td>\n",
              "      <td>22</td>\n",
              "      <td>22</td>\n",
              "    </tr>\n",
              "    <tr>\n",
              "      <th>15</th>\n",
              "      <td>2 onions 1 teaspoon cumin seeds tablespoons black urad dal split tamarind paste 3 dry red chillies 1/2 jaggery teaspoons oil salt sprig curry leaves</td>\n",
              "      <td>quantity ingredient quantity unit ingredient ingredient unit ingredient ingredient ingredient ingredient ingredient ingredient quantity ingredient ingredient ingredient quantity ingredient unit ingredient ingredient unit ingredient ingredient</td>\n",
              "      <td>[2, onions, 1, teaspoon, cumin, seeds, tablespoons, black, urad, dal, split, tamarind, paste, 3, dry, red, chillies, 1/2, jaggery, teaspoons, oil, salt, sprig, curry, leaves]</td>\n",
              "      <td>[quantity, ingredient, quantity, unit, ingredient, ingredient, unit, ingredient, ingredient, ingredient, ingredient, ingredient, ingredient, quantity, ingredient, ingredient, ingredient, quantity, ingredient, unit, ingredient, ingredient, unit, ingredient, ingredient]</td>\n",
              "      <td>25</td>\n",
              "      <td>25</td>\n",
              "    </tr>\n",
              "    <tr>\n",
              "      <th>44</th>\n",
              "      <td>2 cups Makki Ka Atta Yellow Corn Meal Flour 1 1/2 Methi Leaves Fenugreek chopped Green Chillies tablespoon Ajwain Carom seeds Kashmiri Red Chilli Powder Salt</td>\n",
              "      <td>quantity unit ingredient ingredient ingredient ingredient ingredient ingredient ingredient quantity quantity ingredient ingredient ingredient ingredient ingredient ingredient unit ingredient ingredient ingredient ingredient ingredient ingredient ingredient ingredient</td>\n",
              "      <td>[2, cups, Makki, Ka, Atta, Yellow, Corn, Meal, Flour, 1, 1/2, Methi, Leaves, Fenugreek, chopped, Green, Chillies, tablespoon, Ajwain, Carom, seeds, Kashmiri, Red, Chilli, Powder, Salt]</td>\n",
              "      <td>[quantity, unit, ingredient, ingredient, ingredient, ingredient, ingredient, ingredient, ingredient, quantity, quantity, ingredient, ingredient, ingredient, ingredient, ingredient, ingredient, unit, ingredient, ingredient, ingredient, ingredient, ingredient, ingredient, ingredient, ingredient]</td>\n",
              "      <td>26</td>\n",
              "      <td>26</td>\n",
              "    </tr>\n",
              "    <tr>\n",
              "      <th>166</th>\n",
              "      <td>10 prawns 1 tablespoon soy sauce teaspoon sesame gingelly oil cloves garlic finely chopped 2 green chillies coriander dhania leaves 1/2 whole black peppercorns crushed sunflower salt few drops lemon juice</td>\n",
              "      <td>quantity ingredient quantity unit ingredient ingredient unit ingredient ingredient ingredient ingredient ingredient ingredient ingredient quantity ingredient ingredient ingredient ingredient ingredient quantity ingredient ingredient ingredient ingredient ingredient ingredient quantity ingredient ingredient ingredient</td>\n",
              "      <td>[10, prawns, 1, tablespoon, soy, sauce, teaspoon, sesame, gingelly, oil, cloves, garlic, finely, chopped, 2, green, chillies, coriander, dhania, leaves, 1/2, whole, black, peppercorns, crushed, sunflower, salt, few, drops, lemon, juice]</td>\n",
              "      <td>[quantity, ingredient, quantity, unit, ingredient, ingredient, unit, ingredient, ingredient, ingredient, ingredient, ingredient, ingredient, ingredient, quantity, ingredient, ingredient, ingredient, ingredient, ingredient, quantity, ingredient, ingredient, ingredient, ingredient, ingredient, ingredient, quantity, ingredient, ingredient, ingredient]</td>\n",
              "      <td>31</td>\n",
              "      <td>31</td>\n",
              "    </tr>\n",
              "  </tbody>\n",
              "</table>\n",
              "</div>"
            ],
            "text/plain": [
              "                                                                                                                                                                                                                                                                input                                                                                                                                                                                                                                                                                                                                                                                                                               pos                                                                                                                                                                                                                                                                                                input_tokens                                                                                                                                                                                                                                                                                                                                                                                                                                                                  pos_tokens  input_length  pos_length\n",
              "132  1 cup Gram flour besan 1/2 teaspoon Ajwain Carom seeds 1/4 Red Chilli powder 2 tablespoons Curd Dahi Yogurt Sunflower Oil Green Bell Pepper Capsicum Cumin Asafoetida hing Turmeric Garam masala Amchur Dry Mango Powder Coriander Dhania 4 sprig Leaves chopped  quantity unit ingredient ingredient ingredient quantity unit ingredient ingredient ingredient quantity ingredient ingredient ingredient quantity unit ingredient ingredient ingredient ingredient ingredient ingredient ingredient ingredient ingredient ingredient ingredient ingredient ingredient ingredient ingredient ingredient ingredient ingredient ingredient ingredient ingredient quantity unit ingredient ingredient  [1, cup, Gram, flour, besan, 1/2, teaspoon, Ajwain, Carom, seeds, 1/4, Red, Chilli, powder, 2, tablespoons, Curd, Dahi, Yogurt, Sunflower, Oil, Green, Bell, Pepper, Capsicum, Cumin, Asafoetida, hing, Turmeric, Garam, masala, Amchur, Dry, Mango, Powder, Coriander, Dhania, 4, sprig, Leaves, chopped]  [quantity, unit, ingredient, ingredient, ingredient, quantity, unit, ingredient, ingredient, ingredient, quantity, ingredient, ingredient, ingredient, quantity, unit, ingredient, ingredient, ingredient, ingredient, ingredient, ingredient, ingredient, ingredient, ingredient, ingredient, ingredient, ingredient, ingredient, ingredient, ingredient, ingredient, ingredient, ingredient, ingredient, ingredient, ingredient, quantity, unit, ingredient, ingredient]            41          41\n",
              "39                                                                                                                     1 eggplant 2 inch ginger onion tomato green chillies teaspoon turmeric powder garam masala coriander tablespoon butter red chili oil sprigs of                                                                                                                                                                                                             quantity ingredient quantity unit ingredient ingredient ingredient ingredient ingredient unit ingredient ingredient ingredient ingredient ingredient unit ingredient ingredient ingredient ingredient unit ingredient                                                                                                                                       [1, eggplant, 2, inch, ginger, onion, tomato, green, chillies, teaspoon, turmeric, powder, garam, masala, coriander, tablespoon, butter, red, chili, oil, sprigs, of]                                                                                                                                                                                                                                [quantity, ingredient, quantity, unit, ingredient, ingredient, ingredient, ingredient, ingredient, unit, ingredient, ingredient, ingredient, ingredient, ingredient, unit, ingredient, ingredient, ingredient, ingredient, unit, ingredient]            22          22\n",
              "15                                                                                                               2 onions 1 teaspoon cumin seeds tablespoons black urad dal split tamarind paste 3 dry red chillies 1/2 jaggery teaspoons oil salt sprig curry leaves                                                                                                                                                                                quantity ingredient quantity unit ingredient ingredient unit ingredient ingredient ingredient ingredient ingredient ingredient quantity ingredient ingredient ingredient quantity ingredient unit ingredient ingredient unit ingredient ingredient                                                                                                                              [2, onions, 1, teaspoon, cumin, seeds, tablespoons, black, urad, dal, split, tamarind, paste, 3, dry, red, chillies, 1/2, jaggery, teaspoons, oil, salt, sprig, curry, leaves]                                                                                                                                                                                                [quantity, ingredient, quantity, unit, ingredient, ingredient, unit, ingredient, ingredient, ingredient, ingredient, ingredient, ingredient, quantity, ingredient, ingredient, ingredient, quantity, ingredient, unit, ingredient, ingredient, unit, ingredient, ingredient]            25          25\n",
              "44                                                                                                      2 cups Makki Ka Atta Yellow Corn Meal Flour 1 1/2 Methi Leaves Fenugreek chopped Green Chillies tablespoon Ajwain Carom seeds Kashmiri Red Chilli Powder Salt                                                                                                                                                       quantity unit ingredient ingredient ingredient ingredient ingredient ingredient ingredient quantity quantity ingredient ingredient ingredient ingredient ingredient ingredient unit ingredient ingredient ingredient ingredient ingredient ingredient ingredient ingredient                                                                                                                    [2, cups, Makki, Ka, Atta, Yellow, Corn, Meal, Flour, 1, 1/2, Methi, Leaves, Fenugreek, chopped, Green, Chillies, tablespoon, Ajwain, Carom, seeds, Kashmiri, Red, Chilli, Powder, Salt]                                                                                                                                                                      [quantity, unit, ingredient, ingredient, ingredient, ingredient, ingredient, ingredient, ingredient, quantity, quantity, ingredient, ingredient, ingredient, ingredient, ingredient, ingredient, unit, ingredient, ingredient, ingredient, ingredient, ingredient, ingredient, ingredient, ingredient]            26          26\n",
              "166                                                      10 prawns 1 tablespoon soy sauce teaspoon sesame gingelly oil cloves garlic finely chopped 2 green chillies coriander dhania leaves 1/2 whole black peppercorns crushed sunflower salt few drops lemon juice                                                                                                    quantity ingredient quantity unit ingredient ingredient unit ingredient ingredient ingredient ingredient ingredient ingredient ingredient quantity ingredient ingredient ingredient ingredient ingredient quantity ingredient ingredient ingredient ingredient ingredient ingredient quantity ingredient ingredient ingredient                                                                [10, prawns, 1, tablespoon, soy, sauce, teaspoon, sesame, gingelly, oil, cloves, garlic, finely, chopped, 2, green, chillies, coriander, dhania, leaves, 1/2, whole, black, peppercorns, crushed, sunflower, salt, few, drops, lemon, juice]                                                                                                              [quantity, ingredient, quantity, unit, ingredient, ingredient, unit, ingredient, ingredient, ingredient, ingredient, ingredient, ingredient, ingredient, quantity, ingredient, ingredient, ingredient, ingredient, ingredient, quantity, ingredient, ingredient, ingredient, ingredient, ingredient, ingredient, quantity, ingredient, ingredient, ingredient]            31          31"
            ]
          },
          "execution_count": 21,
          "metadata": {},
          "output_type": "execute_result"
        }
      ],
      "source": [
        "# print the first five rows of train_df\n",
        "train_df.head(5)"
      ]
    },
    {
      "cell_type": "code",
      "execution_count": 22,
      "metadata": {
        "id": "Kgtg5WE4_d7h"
      },
      "outputs": [
        {
          "data": {
            "text/html": [
              "<div>\n",
              "<style scoped>\n",
              "    .dataframe tbody tr th:only-of-type {\n",
              "        vertical-align: middle;\n",
              "    }\n",
              "\n",
              "    .dataframe tbody tr th {\n",
              "        vertical-align: top;\n",
              "    }\n",
              "\n",
              "    .dataframe thead th {\n",
              "        text-align: right;\n",
              "    }\n",
              "</style>\n",
              "<table border=\"1\" class=\"dataframe\">\n",
              "  <thead>\n",
              "    <tr style=\"text-align: right;\">\n",
              "      <th></th>\n",
              "      <th>input</th>\n",
              "      <th>pos</th>\n",
              "      <th>input_tokens</th>\n",
              "      <th>pos_tokens</th>\n",
              "      <th>input_length</th>\n",
              "      <th>pos_length</th>\n",
              "    </tr>\n",
              "  </thead>\n",
              "  <tbody>\n",
              "    <tr>\n",
              "      <th>19</th>\n",
              "      <td>1 cup rice 12 small onions 2 cloves garlic inch ginger green chillies bay leaf tsp red chilli powder turmeric carrot beans potatoes ghee cinnamon fennel whole pepper coriander seeds 1/4 peas mint leaves</td>\n",
              "      <td>quantity unit ingredient quantity unit ingredient quantity ingredient ingredient unit ingredient unit ingredient ingredient ingredient unit ingredient ingredient ingredient ingredient ingredient ingredient ingredient ingredient ingredient ingredient ingredient ingredient ingredient ingredient quantity ingredient ingredient ingredient</td>\n",
              "      <td>[1, cup, rice, 12, small, onions, 2, cloves, garlic, inch, ginger, green, chillies, bay, leaf, tsp, red, chilli, powder, turmeric, carrot, beans, potatoes, ghee, cinnamon, fennel, whole, pepper, coriander, seeds, 1/4, peas, mint, leaves]</td>\n",
              "      <td>[quantity, unit, ingredient, quantity, unit, ingredient, quantity, ingredient, ingredient, unit, ingredient, unit, ingredient, ingredient, ingredient, unit, ingredient, ingredient, ingredient, ingredient, ingredient, ingredient, ingredient, ingredient, ingredient, ingredient, ingredient, ingredient, ingredient, ingredient, quantity, ingredient, ingredient, ingredient]</td>\n",
              "      <td>34</td>\n",
              "      <td>34</td>\n",
              "    </tr>\n",
              "    <tr>\n",
              "      <th>11</th>\n",
              "      <td>2 Burger buns 5 Pickled Jalapenos sliced Cheese Slices Potatoes Aloo pressure cooked 1 Onion chopped tablespoon Red Chilli powder Salt Whole Egg 1/2 cup Wheat Bread crumbs 4 cloves Garlic Onions Tomatoes Homemade tomato puree Green Bell Pepper Capsicum Soy granules teaspoon flakes Cumin Jeera Dried oregano Tabasco Original Hot Sauce Honey Sunflower Oil</td>\n",
              "      <td>quantity ingredient ingredient quantity ingredient ingredient ingredient ingredient ingredient ingredient ingredient ingredient ingredient quantity ingredient ingredient unit ingredient ingredient ingredient ingredient ingredient ingredient quantity unit ingredient ingredient ingredient quantity unit ingredient ingredient ingredient ingredient ingredient ingredient ingredient ingredient ingredient ingredient ingredient ingredient unit ingredient ingredient ingredient ingredient ingredient ingredient ingredient ingredient ingredient ingredient ingredient ingredient</td>\n",
              "      <td>[2, Burger, buns, 5, Pickled, Jalapenos, sliced, Cheese, Slices, Potatoes, Aloo, pressure, cooked, 1, Onion, chopped, tablespoon, Red, Chilli, powder, Salt, Whole, Egg, 1/2, cup, Wheat, Bread, crumbs, 4, cloves, Garlic, Onions, Tomatoes, Homemade, tomato, puree, Green, Bell, Pepper, Capsicum, Soy, granules, teaspoon, flakes, Cumin, Jeera, Dried, oregano, Tabasco, Original, Hot, Sauce, Honey, Sunflower, Oil]</td>\n",
              "      <td>[quantity, ingredient, ingredient, quantity, ingredient, ingredient, ingredient, ingredient, ingredient, ingredient, ingredient, ingredient, ingredient, quantity, ingredient, ingredient, unit, ingredient, ingredient, ingredient, ingredient, ingredient, ingredient, quantity, unit, ingredient, ingredient, ingredient, quantity, unit, ingredient, ingredient, ingredient, ingredient, ingredient, ingredient, ingredient, ingredient, ingredient, ingredient, ingredient, ingredient, unit, ingredient, ingredient, ingredient, ingredient, ingredient, ingredient, ingredient, ingredient, ingredient, ingredient, ingredient, ingredient]</td>\n",
              "      <td>55</td>\n",
              "      <td>55</td>\n",
              "    </tr>\n",
              "    <tr>\n",
              "      <th>155</th>\n",
              "      <td>1/4 cup Rice Yellow Moong Dal 1 Carrot Gajjar 3 Green beans French Beans teaspoon Ghee Cumin seeds Asafoetida hing Salt a pinch</td>\n",
              "      <td>quantity unit ingredient ingredient ingredient ingredient quantity ingredient ingredient quantity ingredient ingredient ingredient ingredient unit ingredient ingredient ingredient ingredient ingredient ingredient quantity unit</td>\n",
              "      <td>[1/4, cup, Rice, Yellow, Moong, Dal, 1, Carrot, Gajjar, 3, Green, beans, French, Beans, teaspoon, Ghee, Cumin, seeds, Asafoetida, hing, Salt, a, pinch]</td>\n",
              "      <td>[quantity, unit, ingredient, ingredient, ingredient, ingredient, quantity, ingredient, ingredient, quantity, ingredient, ingredient, ingredient, ingredient, unit, ingredient, ingredient, ingredient, ingredient, ingredient, ingredient, quantity, unit]</td>\n",
              "      <td>23</td>\n",
              "      <td>23</td>\n",
              "    </tr>\n",
              "    <tr>\n",
              "      <th>105</th>\n",
              "      <td>4 Potatoes Aloo 50 grams Mozzarella cheese 1 teaspoon Mustard seeds inch Ginger grated Onion finely chopped 2 Green Chillies 1/4 Asafoetida hing 1/2 Turmeric powder Haldi Coriander Dhania Leaves small bunch Sunflower Oil cup Gram flour besan Salt</td>\n",
              "      <td>quantity ingredient ingredient quantity unit ingredient ingredient quantity unit ingredient ingredient unit ingredient ingredient ingredient ingredient ingredient quantity ingredient ingredient quantity ingredient ingredient quantity ingredient ingredient ingredient ingredient ingredient ingredient ingredient ingredient ingredient ingredient unit ingredient ingredient ingredient ingredient</td>\n",
              "      <td>[4, Potatoes, Aloo, 50, grams, Mozzarella, cheese, 1, teaspoon, Mustard, seeds, inch, Ginger, grated, Onion, finely, chopped, 2, Green, Chillies, 1/4, Asafoetida, hing, 1/2, Turmeric, powder, Haldi, Coriander, Dhania, Leaves, small, bunch, Sunflower, Oil, cup, Gram, flour, besan, Salt]</td>\n",
              "      <td>[quantity, ingredient, ingredient, quantity, unit, ingredient, ingredient, quantity, unit, ingredient, ingredient, unit, ingredient, ingredient, ingredient, ingredient, ingredient, quantity, ingredient, ingredient, quantity, ingredient, ingredient, quantity, ingredient, ingredient, ingredient, ingredient, ingredient, ingredient, ingredient, ingredient, ingredient, ingredient, unit, ingredient, ingredient, ingredient, ingredient]</td>\n",
              "      <td>39</td>\n",
              "      <td>39</td>\n",
              "    </tr>\n",
              "    <tr>\n",
              "      <th>91</th>\n",
              "      <td>1 cup rice 2 water tsp ghee cardamom long star anise 1/2 inch cinnamon whole black pepper bay leaf 1/4 onion sprig green coriander mint 200 grams cottage cheese tomatoes tablespoons cream ginger 3 cloves garlic chili powder cumin garam masala red chilli kasoori methi honey tbsp cashews</td>\n",
              "      <td>quantity unit ingredient quantity ingredient unit ingredient ingredient ingredient ingredient ingredient quantity unit ingredient ingredient ingredient ingredient ingredient ingredient quantity ingredient unit ingredient ingredient ingredient quantity unit ingredient ingredient ingredient unit ingredient ingredient quantity ingredient ingredient ingredient ingredient ingredient ingredient ingredient ingredient ingredient ingredient ingredient ingredient unit ingredient</td>\n",
              "      <td>[1, cup, rice, 2, water, tsp, ghee, cardamom, long, star, anise, 1/2, inch, cinnamon, whole, black, pepper, bay, leaf, 1/4, onion, sprig, green, coriander, mint, 200, grams, cottage, cheese, tomatoes, tablespoons, cream, ginger, 3, cloves, garlic, chili, powder, cumin, garam, masala, red, chilli, kasoori, methi, honey, tbsp, cashews]</td>\n",
              "      <td>[quantity, unit, ingredient, quantity, ingredient, unit, ingredient, ingredient, ingredient, ingredient, ingredient, quantity, unit, ingredient, ingredient, ingredient, ingredient, ingredient, ingredient, quantity, ingredient, unit, ingredient, ingredient, ingredient, quantity, unit, ingredient, ingredient, ingredient, unit, ingredient, ingredient, quantity, ingredient, ingredient, ingredient, ingredient, ingredient, ingredient, ingredient, ingredient, ingredient, ingredient, ingredient, ingredient, unit, ingredient]</td>\n",
              "      <td>48</td>\n",
              "      <td>48</td>\n",
              "    </tr>\n",
              "  </tbody>\n",
              "</table>\n",
              "</div>"
            ],
            "text/plain": [
              "                                                                                                                                                                                                                                                                                                                                                                  input                                                                                                                                                                                                                                                                                                                                                                                                                                                                                                                                                                                         pos                                                                                                                                                                                                                                                                                                                                                                                                                input_tokens                                                                                                                                                                                                                                                                                                                                                                                                                                                                                                                                                                                                                                          pos_tokens  input_length  pos_length\n",
              "19                                                                                                                                                           1 cup rice 12 small onions 2 cloves garlic inch ginger green chillies bay leaf tsp red chilli powder turmeric carrot beans potatoes ghee cinnamon fennel whole pepper coriander seeds 1/4 peas mint leaves                                                                                                                                                                                                                                             quantity unit ingredient quantity unit ingredient quantity ingredient ingredient unit ingredient unit ingredient ingredient ingredient unit ingredient ingredient ingredient ingredient ingredient ingredient ingredient ingredient ingredient ingredient ingredient ingredient ingredient ingredient quantity ingredient ingredient ingredient                                                                                                                                                                               [1, cup, rice, 12, small, onions, 2, cloves, garlic, inch, ginger, green, chillies, bay, leaf, tsp, red, chilli, powder, turmeric, carrot, beans, potatoes, ghee, cinnamon, fennel, whole, pepper, coriander, seeds, 1/4, peas, mint, leaves]                                                                                                                                                                                                                                                                  [quantity, unit, ingredient, quantity, unit, ingredient, quantity, ingredient, ingredient, unit, ingredient, unit, ingredient, ingredient, ingredient, unit, ingredient, ingredient, ingredient, ingredient, ingredient, ingredient, ingredient, ingredient, ingredient, ingredient, ingredient, ingredient, ingredient, ingredient, quantity, ingredient, ingredient, ingredient]            34          34\n",
              "11   2 Burger buns 5 Pickled Jalapenos sliced Cheese Slices Potatoes Aloo pressure cooked 1 Onion chopped tablespoon Red Chilli powder Salt Whole Egg 1/2 cup Wheat Bread crumbs 4 cloves Garlic Onions Tomatoes Homemade tomato puree Green Bell Pepper Capsicum Soy granules teaspoon flakes Cumin Jeera Dried oregano Tabasco Original Hot Sauce Honey Sunflower Oil  quantity ingredient ingredient quantity ingredient ingredient ingredient ingredient ingredient ingredient ingredient ingredient ingredient quantity ingredient ingredient unit ingredient ingredient ingredient ingredient ingredient ingredient quantity unit ingredient ingredient ingredient quantity unit ingredient ingredient ingredient ingredient ingredient ingredient ingredient ingredient ingredient ingredient ingredient ingredient unit ingredient ingredient ingredient ingredient ingredient ingredient ingredient ingredient ingredient ingredient ingredient ingredient  [2, Burger, buns, 5, Pickled, Jalapenos, sliced, Cheese, Slices, Potatoes, Aloo, pressure, cooked, 1, Onion, chopped, tablespoon, Red, Chilli, powder, Salt, Whole, Egg, 1/2, cup, Wheat, Bread, crumbs, 4, cloves, Garlic, Onions, Tomatoes, Homemade, tomato, puree, Green, Bell, Pepper, Capsicum, Soy, granules, teaspoon, flakes, Cumin, Jeera, Dried, oregano, Tabasco, Original, Hot, Sauce, Honey, Sunflower, Oil]  [quantity, ingredient, ingredient, quantity, ingredient, ingredient, ingredient, ingredient, ingredient, ingredient, ingredient, ingredient, ingredient, quantity, ingredient, ingredient, unit, ingredient, ingredient, ingredient, ingredient, ingredient, ingredient, quantity, unit, ingredient, ingredient, ingredient, quantity, unit, ingredient, ingredient, ingredient, ingredient, ingredient, ingredient, ingredient, ingredient, ingredient, ingredient, ingredient, ingredient, unit, ingredient, ingredient, ingredient, ingredient, ingredient, ingredient, ingredient, ingredient, ingredient, ingredient, ingredient, ingredient]            55          55\n",
              "155                                                                                                                                                                                                                                     1/4 cup Rice Yellow Moong Dal 1 Carrot Gajjar 3 Green beans French Beans teaspoon Ghee Cumin seeds Asafoetida hing Salt a pinch                                                                                                                                                                                                                                                                                                                                                          quantity unit ingredient ingredient ingredient ingredient quantity ingredient ingredient quantity ingredient ingredient ingredient ingredient unit ingredient ingredient ingredient ingredient ingredient ingredient quantity unit                                                                                                                                                                                                                                                                     [1/4, cup, Rice, Yellow, Moong, Dal, 1, Carrot, Gajjar, 3, Green, beans, French, Beans, teaspoon, Ghee, Cumin, seeds, Asafoetida, hing, Salt, a, pinch]                                                                                                                                                                                                                                                                                                                                                                                          [quantity, unit, ingredient, ingredient, ingredient, ingredient, quantity, ingredient, ingredient, quantity, ingredient, ingredient, ingredient, ingredient, unit, ingredient, ingredient, ingredient, ingredient, ingredient, ingredient, quantity, unit]            23          23\n",
              "105                                                                                                              4 Potatoes Aloo 50 grams Mozzarella cheese 1 teaspoon Mustard seeds inch Ginger grated Onion finely chopped 2 Green Chillies 1/4 Asafoetida hing 1/2 Turmeric powder Haldi Coriander Dhania Leaves small bunch Sunflower Oil cup Gram flour besan Salt                                                                                                                                                                                    quantity ingredient ingredient quantity unit ingredient ingredient quantity unit ingredient ingredient unit ingredient ingredient ingredient ingredient ingredient quantity ingredient ingredient quantity ingredient ingredient quantity ingredient ingredient ingredient ingredient ingredient ingredient ingredient ingredient ingredient ingredient unit ingredient ingredient ingredient ingredient                                                                                                                              [4, Potatoes, Aloo, 50, grams, Mozzarella, cheese, 1, teaspoon, Mustard, seeds, inch, Ginger, grated, Onion, finely, chopped, 2, Green, Chillies, 1/4, Asafoetida, hing, 1/2, Turmeric, powder, Haldi, Coriander, Dhania, Leaves, small, bunch, Sunflower, Oil, cup, Gram, flour, besan, Salt]                                                                                                                                                                                                    [quantity, ingredient, ingredient, quantity, unit, ingredient, ingredient, quantity, unit, ingredient, ingredient, unit, ingredient, ingredient, ingredient, ingredient, ingredient, quantity, ingredient, ingredient, quantity, ingredient, ingredient, quantity, ingredient, ingredient, ingredient, ingredient, ingredient, ingredient, ingredient, ingredient, ingredient, ingredient, unit, ingredient, ingredient, ingredient, ingredient]            39          39\n",
              "91                                                                       1 cup rice 2 water tsp ghee cardamom long star anise 1/2 inch cinnamon whole black pepper bay leaf 1/4 onion sprig green coriander mint 200 grams cottage cheese tomatoes tablespoons cream ginger 3 cloves garlic chili powder cumin garam masala red chilli kasoori methi honey tbsp cashews                                                                                                   quantity unit ingredient quantity ingredient unit ingredient ingredient ingredient ingredient ingredient quantity unit ingredient ingredient ingredient ingredient ingredient ingredient quantity ingredient unit ingredient ingredient ingredient quantity unit ingredient ingredient ingredient unit ingredient ingredient quantity ingredient ingredient ingredient ingredient ingredient ingredient ingredient ingredient ingredient ingredient ingredient ingredient unit ingredient                                                                             [1, cup, rice, 2, water, tsp, ghee, cardamom, long, star, anise, 1/2, inch, cinnamon, whole, black, pepper, bay, leaf, 1/4, onion, sprig, green, coriander, mint, 200, grams, cottage, cheese, tomatoes, tablespoons, cream, ginger, 3, cloves, garlic, chili, powder, cumin, garam, masala, red, chilli, kasoori, methi, honey, tbsp, cashews]                                                                                                          [quantity, unit, ingredient, quantity, ingredient, unit, ingredient, ingredient, ingredient, ingredient, ingredient, quantity, unit, ingredient, ingredient, ingredient, ingredient, ingredient, ingredient, quantity, ingredient, unit, ingredient, ingredient, ingredient, quantity, unit, ingredient, ingredient, ingredient, unit, ingredient, ingredient, quantity, ingredient, ingredient, ingredient, ingredient, ingredient, ingredient, ingredient, ingredient, ingredient, ingredient, ingredient, ingredient, unit, ingredient]            48          48"
            ]
          },
          "execution_count": 22,
          "metadata": {},
          "output_type": "execute_result"
        }
      ],
      "source": [
        "# print the first five rows of the val_df\n",
        "val_df.head(5)"
      ]
    },
    {
      "cell_type": "markdown",
      "metadata": {
        "id": "7prEiaiqI_VZ"
      },
      "source": [
        "###### **3.1.3** **Extract the dataset into train_df and val_df into X_train, X_val, y_train and y_val and display their length** <font color = red> [2 marks]</font> <br>\n",
        "\n",
        "Extract X_train, X_val, y_train and y_val by extracting the list of input_tokens and pos_tokens from train_df and val_df and also display their length"
      ]
    },
    {
      "cell_type": "code",
      "execution_count": 23,
      "metadata": {
        "id": "BFVnCD71IHXF"
      },
      "outputs": [],
      "source": [
        "# extract the training and validation sets by taking input_tokens and pos_tokens\n",
        "X_train=train_df['input_tokens']\n",
        "X_val=val_df['input_tokens']\n",
        "y_train=train_df['pos_tokens']\n",
        "y_val=val_df['pos_tokens']"
      ]
    },
    {
      "cell_type": "code",
      "execution_count": 24,
      "metadata": {
        "id": "yQPOVz3J_fiq"
      },
      "outputs": [
        {
          "name": "stdout",
          "output_type": "stream",
          "text": [
            "Shape of X_train: (142,)\n",
            "Shape of y_train: (142,)\n",
            "Shape of X_val: (62,)\n",
            "Shape of y_val: (62,)\n"
          ]
        }
      ],
      "source": [
        "# validate the shape of training and validation samples\n",
        "print(\"Shape of X_train:\", X_train.shape)\n",
        "print(\"Shape of y_train:\", y_train.shape)\n",
        "print(\"Shape of X_val:\", X_val.shape)\n",
        "print(\"Shape of y_val:\", y_val.shape)"
      ]
    },
    {
      "cell_type": "markdown",
      "metadata": {
        "id": "8uicUYglLeiA"
      },
      "source": [
        "###### **3.1.4** **Display the number of unique labels present in y_train** <font color = red> [2 marks]</font> <br>"
      ]
    },
    {
      "cell_type": "code",
      "execution_count": 25,
      "metadata": {
        "id": "hzWtzpdINt6X"
      },
      "outputs": [
        {
          "data": {
            "text/plain": [
              "array(['quantity', 'unit', 'ingredient'], dtype=object)"
            ]
          },
          "execution_count": 25,
          "metadata": {},
          "output_type": "execute_result"
        }
      ],
      "source": [
        "# Display the number of unique labels present in y_train\n",
        "y_train.explode().unique()"
      ]
    },
    {
      "cell_type": "markdown",
      "metadata": {
        "id": "QFm46QrB4gmj"
      },
      "source": [
        "## **4** Exploratory Recipe Data Analysis on Training Dataset <font color = red>[16 marks]</font> <br>"
      ]
    },
    {
      "cell_type": "markdown",
      "metadata": {
        "id": "KUWIp0n_NeH6"
      },
      "source": [
        "#### **4.1** *Flatten the lists for input_tokens & pos_tokens* <font color = red>[2 marks]</font> <br>\n",
        "\n",
        "Define a function **flatten_list** for flattening the structure for input_tokens and pos_tokens. The input parameter passed to this function is a nested list.\n",
        "\n",
        "Initialise the dataset_name with a value ***'Training'***\n",
        "\n",
        "\n"
      ]
    },
    {
      "cell_type": "code",
      "execution_count": 26,
      "metadata": {
        "id": "WzcY0gPiOe8o"
      },
      "outputs": [],
      "source": [
        "# flatten the list for nested_list (input_tokens, pos_tokens)\n",
        "from itertools import chain\n",
        "def flatten_list(nested_list):\n",
        "  return list(chain.from_iterable(nested_list))"
      ]
    },
    {
      "cell_type": "code",
      "execution_count": 27,
      "metadata": {
        "id": "DXRda29gNBH8"
      },
      "outputs": [],
      "source": [
        "# initialise the dataset_name\n",
        "dataset_name = 'Training'"
      ]
    },
    {
      "cell_type": "markdown",
      "metadata": {
        "id": "eGOqhd8OOr1E"
      },
      "source": [
        "#### **4.2** *Extract and validate the tokens after using the flattening technique* <font color = red>[2 marks]</font> <br>\n",
        "\n",
        "Define a function named ***extract_and_validate_tokens*** with parameters dataframe and dataset_name (Training/Validation), validate the length of input_tokens and pos_tokens from dataframe and display first 10 records for both the input_tokens and pos_tokens. Execute this function\n",
        "\n",
        "\n"
      ]
    },
    {
      "cell_type": "code",
      "execution_count": 28,
      "metadata": {
        "id": "H3GMX83xP7ja"
      },
      "outputs": [],
      "source": [
        "# define a extract_and_validate_tokens with parameters (df, dataset_name)\n",
        "# call the flatten_list and apply it on input_tokens and pos_tokens\n",
        "# validate their length and display first 10 records having input and pos tokens\n",
        "def extract_and_validate_tokens(df, dataset_name):\n",
        "  flat_input_tokens = flatten_list(df['input_tokens'].tolist())\n",
        "  flat_pos_tokens = flatten_list(df['pos_tokens'].tolist())\n",
        "  assert len(flat_input_tokens) == len(flat_pos_tokens), \\\n",
        "        f\"Token length mismatch in {dataset_name}!\"\n",
        "  print(f\"\\nFirst 10 token-label pairs in {dataset_name}:\")\n",
        "  for token, label in zip(flat_input_tokens[:10], flat_pos_tokens[:10]):\n",
        "      print(f\"{token} --> {label}\")\n",
        "  return flat_input_tokens, flat_pos_tokens"
      ]
    },
    {
      "cell_type": "code",
      "execution_count": 29,
      "metadata": {
        "id": "ajdbYMgeLpf9"
      },
      "outputs": [
        {
          "name": "stdout",
          "output_type": "stream",
          "text": [
            "\n",
            "First 10 token-label pairs in Training:\n",
            "1 --> quantity\n",
            "cup --> unit\n",
            "Gram --> ingredient\n",
            "flour --> ingredient\n",
            "besan --> ingredient\n",
            "1/2 --> quantity\n",
            "teaspoon --> unit\n",
            "Ajwain --> ingredient\n",
            "Carom --> ingredient\n",
            "seeds --> ingredient\n",
            "\n",
            "First 10 token-label pairs in Validation:\n",
            "1 --> quantity\n",
            "cup --> unit\n",
            "rice --> ingredient\n",
            "12 --> quantity\n",
            "small --> unit\n",
            "onions --> ingredient\n",
            "2 --> quantity\n",
            "cloves --> ingredient\n",
            "garlic --> ingredient\n",
            "inch --> unit\n"
          ]
        }
      ],
      "source": [
        "# extract the tokens and its pos tags\n",
        "train_flat_input_tokens, train_flat_pos_tokens= extract_and_validate_tokens(train_df, \"Training\")\n",
        "val_flat_input_tokens, val_flat_pos_tokens= extract_and_validate_tokens(val_df, \"Validation\")"
      ]
    },
    {
      "cell_type": "markdown",
      "metadata": {
        "id": "htZVn5wcQSok"
      },
      "source": [
        "#### **4.3** *Categorise tokens into labels (unit, ingredient, quantity)* <font color = red>[2 marks]</font> <br>\n",
        "\n",
        "Define a function ***categorize_tokens*** to categorise tokens into ingredients, units and quantities by using extracted tokens in the previous code and return a list of ingredients, units and quantities. Execute this function to get the list.\n",
        "\n"
      ]
    },
    {
      "cell_type": "code",
      "execution_count": 30,
      "metadata": {
        "id": "7xq0a4L7Quct"
      },
      "outputs": [],
      "source": [
        "# define a categorize_tokens function and provide the tokens and pos_tags as parameters and create ingredient, unit and quantity list and return it\n",
        "# validate the list that it comprised of these labels, if not return empty arrays\n",
        "def categorize_tokens(tokens, pos_tags):\n",
        "  ingredient_list = []\n",
        "  unit_list = []\n",
        "  quantity_list = []\n",
        "  if not set(pos_tags).issubset({'ingredient', 'unit', 'quantity'}):\n",
        "    return ingredient_list, unit_list, quantity_list\n",
        "  for token, pos_tag in zip(tokens, pos_tags):\n",
        "    if pos_tag == 'ingredient':\n",
        "      ingredient_list.append(token)\n",
        "    elif pos_tag == 'unit':\n",
        "      unit_list.append(token)\n",
        "    elif pos_tag == 'quantity':\n",
        "      quantity_list.append(token)\n",
        "  return ingredient_list, unit_list, quantity_list"
      ]
    },
    {
      "cell_type": "code",
      "execution_count": 31,
      "metadata": {
        "id": "evcsigvUL7bM"
      },
      "outputs": [],
      "source": [
        "#  call the function to categorise the labels into respective list\n",
        "ingredient_list, unit_list, quantity_list= categorize_tokens(train_flat_input_tokens, train_flat_pos_tokens)"
      ]
    },
    {
      "cell_type": "markdown",
      "metadata": {
        "id": "QSGau4EgZCix"
      },
      "source": [
        "#### **4.4** *Top 10 Most Frequent Items* <font color = red>[3 marks]</font> <br>\n",
        "\n",
        "Define a function ***get_top_frequent_items*** to display top 10 most frequent items\n",
        "\n",
        "Here, item_list is used as a general parameter where you will call this function for ingredient and unit list\n",
        "\n",
        "Execute this function separately for top 10 most units and ingredients\n",
        "\n"
      ]
    },
    {
      "cell_type": "code",
      "execution_count": 32,
      "metadata": {
        "id": "kXc8h3H4ZOZ4"
      },
      "outputs": [],
      "source": [
        "# define a function get_top_frequent_items to get the top frequent items by using item_list, pos label and dataset_name(Training/Validation) and return top items\n",
        "def get_top_frequent_items(item_list, pos_label, dataset_name):\n",
        "  counter=Counter(item_list)\n",
        "  topitems=counter.most_common(10)\n",
        "  print(f\"Top 10 {pos_label} in {dataset_name}:\")\n",
        "  for item, count in topitems:\n",
        "    print(f\"{item}: {count}\")\n",
        "  return topitems"
      ]
    },
    {
      "cell_type": "code",
      "execution_count": 33,
      "metadata": {
        "id": "W2jZCCf2MEke"
      },
      "outputs": [
        {
          "name": "stdout",
          "output_type": "stream",
          "text": [
            "Top 10 ingredient in Training:\n",
            "powder: 91\n",
            "Salt: 68\n",
            "seeds: 67\n",
            "Oil: 61\n",
            "Coriander: 55\n",
            "chopped: 55\n",
            "Green: 53\n",
            "Red: 52\n",
            "Chilli: 50\n",
            "Leaves: 49\n"
          ]
        },
        {
          "data": {
            "text/plain": [
              "[('powder', 91),\n",
              " ('Salt', 68),\n",
              " ('seeds', 67),\n",
              " ('Oil', 61),\n",
              " ('Coriander', 55),\n",
              " ('chopped', 55),\n",
              " ('Green', 53),\n",
              " ('Red', 52),\n",
              " ('Chilli', 50),\n",
              " ('Leaves', 49)]"
            ]
          },
          "execution_count": 33,
          "metadata": {},
          "output_type": "execute_result"
        }
      ],
      "source": [
        "# get the top ingredients which are frequently seen in the recipe\n",
        "topingredients=get_top_frequent_items(ingredient_list, 'ingredient', 'Training')\n",
        "topingredients"
      ]
    },
    {
      "cell_type": "code",
      "execution_count": 34,
      "metadata": {
        "id": "wipghGXAMYQR"
      },
      "outputs": [
        {
          "name": "stdout",
          "output_type": "stream",
          "text": [
            "Top 10 unit in Training:\n",
            "teaspoon: 109\n",
            "cup: 91\n",
            "tablespoon: 63\n",
            "tablespoons: 48\n",
            "grams: 40\n",
            "inch: 36\n",
            "cups: 33\n",
            "sprig: 32\n",
            "teaspoons: 27\n",
            "cloves: 25\n"
          ]
        },
        {
          "data": {
            "text/plain": [
              "[('teaspoon', 109),\n",
              " ('cup', 91),\n",
              " ('tablespoon', 63),\n",
              " ('tablespoons', 48),\n",
              " ('grams', 40),\n",
              " ('inch', 36),\n",
              " ('cups', 33),\n",
              " ('sprig', 32),\n",
              " ('teaspoons', 27),\n",
              " ('cloves', 25)]"
            ]
          },
          "execution_count": 34,
          "metadata": {},
          "output_type": "execute_result"
        }
      ],
      "source": [
        "# get the top units which are frequently seen in the recipe\n",
        "topunits=get_top_frequent_items(unit_list, 'unit', 'Training')\n",
        "topunits"
      ]
    },
    {
      "cell_type": "markdown",
      "metadata": {
        "id": "9hldpjOHaPVZ"
      },
      "source": [
        "#### **4.5** *Plot Top 10 most frequent items* <font color = red>[2 marks]</font> <br>\n",
        "\n",
        "\n"
      ]
    },
    {
      "cell_type": "markdown",
      "metadata": {
        "id": "9ImpWstybDP_"
      },
      "source": [
        "Define a function ***plot_top_items*** to plot a bar graph on top 10 most frequent items for units and ingredients\n",
        "\n",
        "Here, item_list is used as a general parameter where you will call this function for ingredient and unit list"
      ]
    },
    {
      "cell_type": "code",
      "execution_count": 35,
      "metadata": {
        "id": "Gmsq0L1vaxfc"
      },
      "outputs": [],
      "source": [
        "# define plot top items with parameters - top_item list, label to suggest whether its ingredient or unit, dataset_name\n",
        "import matplotlib.pyplot as plt\n",
        "\n",
        "def plot_top_items(top_items, label, dataset_name):\n",
        "    # Extract item names and their frequencies\n",
        "    items, frequencies = zip(*top_items)\n",
        "\n",
        "    # Create a bar plot\n",
        "    plt.figure(figsize=(5, 3))\n",
        "    plt.barh(items, frequencies)\n",
        "\n",
        "    # Customize the plot with labels and title\n",
        "    plt.xlabel('Frequency')\n",
        "    plt.title(f\"Top 10 Most Frequent {label} in {dataset_name}\")\n",
        "    plt.gca().invert_yaxis()  # Invert y-axis to show the highest frequency on top\n",
        "    plt.show()"
      ]
    },
    {
      "cell_type": "markdown",
      "metadata": {
        "id": "rHusCfkJ4suh"
      },
      "source": [
        "#### **4.6** *Perform EDA analysis* <font color = red>[5 marks]</font> <br>\n",
        "\n",
        "Plot the bar plots for ingredients and units and provide the insights for training dataset\n",
        "\n",
        "---\n",
        "\n"
      ]
    },
    {
      "cell_type": "code",
      "execution_count": 69,
      "metadata": {
        "id": "8seIqFKyYFmn"
      },
      "outputs": [
        {
          "data": {
            "image/png": "[encoded data removed]",
            "text/plain": [
              "<Figure size 1200x800 with 1 Axes>"
            ]
          },
          "metadata": {},
          "output_type": "display_data"
        }
      ],
      "source": [
        "# plot the top frequent ingredients in training data\n",
        "def plot_top_items(items, xlabel, title):\n",
        "    # Unzip into two lists\n",
        "    labels, counts = zip(*items)\n",
        "    \n",
        "    # Create a pandas Series\n",
        "    items_series = pd.Series(counts, index=labels)\n",
        "    \n",
        "    plt.figure(figsize=(12, 8))\n",
        "    items_series.plot(kind='bar', color='green')\n",
        "    plt.xlabel(xlabel, fontsize=14)\n",
        "    plt.ylabel('Frequency', fontsize=14)\n",
        "    plt.title(f'Top {xlabel} in {title} Data', fontsize=16)\n",
        "    plt.xticks(rotation=45, ha='right', fontsize=12)\n",
        "    plt.yticks(fontsize=12)\n",
        "    plt.tight_layout()\n",
        "    plt.show()\n",
        "\n",
        "# Call the function\n",
        "plot_top_items(topingredients, 'Ingredients', 'Training')"
      ]
    },
    {
      "cell_type": "code",
      "execution_count": 70,
      "metadata": {
        "id": "fbXAwiUkMtqT"
      },
      "outputs": [
        {
          "data": {
            "image/png": "[encoded data removed]",
            "text/plain": [
              "<Figure size 1200x800 with 1 Axes>"
            ]
          },
          "metadata": {},
          "output_type": "display_data"
        }
      ],
      "source": [
        "# plot the top frequent units in training data\n",
        "def plot_top_items(items, xlabel, title):\n",
        "    # Unzip tuple list into two separate lists\n",
        "    labels, counts = zip(*items)\n",
        "    \n",
        "    # Create a Series with counts and labels\n",
        "    items_series = pd.Series(counts, index=labels)\n",
        "    \n",
        "    # Plot\n",
        "    plt.figure(figsize=(12, 8))\n",
        "    items_series.plot(kind='bar', color='purple')\n",
        "    plt.xlabel(xlabel, fontsize=14)\n",
        "    plt.ylabel('Frequency', fontsize=14)\n",
        "    plt.title(f'Top {xlabel} in {title} Data', fontsize=16)\n",
        "    plt.xticks(rotation=45, ha='right', fontsize=12)\n",
        "    plt.yticks(fontsize=12)\n",
        "    plt.tight_layout()\n",
        "    plt.show()\n",
        "plot_top_items(topunits, 'Units', 'Training')"
      ]
    },
    {
      "cell_type": "markdown",
      "metadata": {
        "id": "vYh7zbJpCajJ"
      },
      "source": [
        "## **5** Exploratory Recipe Data Analysis on Validation Dataset (Optional)<font color = red> [0 marks]</font> <br>"
      ]
    },
    {
      "cell_type": "markdown",
      "metadata": {
        "id": "K2wPIaOGCmk2"
      },
      "source": [
        "#### **5.1** *Execute EDA on Validation Dataset with insights (Optional)* <font color = red> [0 marks]</font> <br>\n",
        "Initialise the dataset_name as ***Validation*** and call the ***plot_top_items*** for top 10 ingredients and units in the recipe data\n",
        "Provide the insights for the same.\n",
        "\n"
      ]
    },
    {
      "cell_type": "code",
      "execution_count": 38,
      "metadata": {
        "id": "atSk0ChLPXHd"
      },
      "outputs": [],
      "source": [
        "# initialise the dataset_name\n"
      ]
    },
    {
      "cell_type": "code",
      "execution_count": 39,
      "metadata": {
        "id": "AFPxheIuj1o8"
      },
      "outputs": [],
      "source": [
        "# use extract and validate tokens, categorise tokens, get top frequent items for ingredient list and unit list on validation dataframe\n"
      ]
    },
    {
      "cell_type": "code",
      "execution_count": 40,
      "metadata": {
        "id": "ikwox7ccMaU8"
      },
      "outputs": [],
      "source": [
        "# plot the top frequent ingredients in validation data\n"
      ]
    },
    {
      "cell_type": "code",
      "execution_count": 41,
      "metadata": {
        "id": "9QjVeMWpPwKO"
      },
      "outputs": [],
      "source": [
        "# plot the top frequent units in training data\n"
      ]
    },
    {
      "cell_type": "markdown",
      "metadata": {
        "id": "IvE92ait9GIS"
      },
      "source": [
        "## **6** Feature Extraction For CRF Model <font color = red>[30 marks]</font> <br>"
      ]
    },
    {
      "cell_type": "markdown",
      "metadata": {
        "id": "Gc5Q_Lj09GIT"
      },
      "source": [
        "### **6.1** *Define a feature functions to take each token from recipe* <font color = red>[10 marks]</font>\n",
        "\n",
        "Define a function as ***word2features*** which takes a particular recipe and its index to work with all recipe input tokens and include custom key-value pairs.\n",
        "\n",
        "Also, use feature key-value pairs to mark the beginning and end of the sequence and to also check whether the word belongs to unit, quantity etc. Use keyword sets for unit and quantity for differentiating feature functions well. Also make use of relevant regex patterns on fractions, whole numbers etc."
      ]
    },
    {
      "cell_type": "markdown",
      "metadata": {
        "id": "pyxmQ0PrhBra"
      },
      "source": [
        "##### **6.1.1** **Define keywords for unit and quantity and create a quantity pattern to work on fractions, numbers and decimals** <font color = red>[3 marks]</font> <br>\n",
        "\n",
        "Create sets for **unit_keywords** and ***quantity_keywords*** and include all the words relevant for measuring the ingredients such as cup, tbsp, tsp etc. and in quantity keywords, include words such as half, quarter etc.\n",
        "\n",
        "Also suggested to use regex pattern as ***quantity_pattern*** to work with quantity in any format such as fractions, numbers and decimals.\n",
        "\n",
        "Then, load the spacy model and process the entire sentence"
      ]
    },
    {
      "cell_type": "code",
      "execution_count": 42,
      "metadata": {
        "id": "GhFUPxeth0KI"
      },
      "outputs": [],
      "source": [
        "# define unit and quantity keywords along with quantity pattern\n",
        "unit_keywords=set(unit_list)\n",
        "quantity_keywords=set(quantity_list)\n",
        "quantity_pattern = re.compile(\n",
        "    r\"\"\"\n",
        "    (?:(?:\\d+\\s+)?\\d+/\\d+)|     # Matches '1/2' or '1 1/2'\n",
        "    \\d+\\.\\d+|                   # Matches decimals like '1.5'\n",
        "    \\d+|                        # Matches whole numbers like '1'\n",
        "    [¼½¾⅐⅑⅒⅓⅔⅕⅖⅗⅘⅙⅚⅛⅜⅝⅞]     # Matches unicode fractions\n",
        "    \"\"\",\n",
        "    re.VERBOSE\n",
        ")"
      ]
    },
    {
      "cell_type": "code",
      "execution_count": 43,
      "metadata": {
        "id": "9qmM8rw4VtJh"
      },
      "outputs": [],
      "source": [
        "# load spaCy model\n",
        "nlp=spacy.load(\"en_core_web_sm\")"
      ]
    },
    {
      "cell_type": "code",
      "execution_count": 44,
      "metadata": {},
      "outputs": [
        {
          "data": {
            "text/plain": [
              "132    [1, cup, Gram, flour, besan, 1/2, teaspoon, Ajwain, Carom, seeds, 1/4, Red, Chilli, powder, 2, tablespoons, Curd, Dahi, Yogurt, Sunflower, Oil, Green, Bell, Pepper, Capsicum, Cumin, Asafoetida, hing, Turmeric, Garam, masala, Amchur, Dry, Mango, Powder, Coriander, Dhania, 4, sprig, Leaves, chopped]\n",
              "39                                                                                                                                          [1, eggplant, 2, inch, ginger, onion, tomato, green, chillies, teaspoon, turmeric, powder, garam, masala, coriander, tablespoon, butter, red, chili, oil, sprigs, of]\n",
              "15                                                                                                                                 [2, onions, 1, teaspoon, cumin, seeds, tablespoons, black, urad, dal, split, tamarind, paste, 3, dry, red, chillies, 1/2, jaggery, teaspoons, oil, salt, sprig, curry, leaves]\n",
              "44                                                                                                                       [2, cups, Makki, Ka, Atta, Yellow, Corn, Meal, Flour, 1, 1/2, Methi, Leaves, Fenugreek, chopped, Green, Chillies, tablespoon, Ajwain, Carom, seeds, Kashmiri, Red, Chilli, Powder, Salt]\n",
              "166                                                                  [10, prawns, 1, tablespoon, soy, sauce, teaspoon, sesame, gingelly, oil, cloves, garlic, finely, chopped, 2, green, chillies, coriander, dhania, leaves, 1/2, whole, black, peppercorns, crushed, sunflower, salt, few, drops, lemon, juice]\n",
              "                                                                                                                                                          ...                                                                                                                                                    \n",
              "141                                                                                                                                        [1, cup, Kabuli, Channa, teaspoon, cumin, seeds, 1/4, ginger, paste, 2, teaspoons, chana, masala, powder, red, chilli, Amchoor, turmeric, tablespoon, Coriander, salt]\n",
              "18                                                                 [10, Potatoes, 1, teaspoon, Garlic, powder, Onion, Dried, oregano, tablespoon, Coriander, Leaves, finely, chopped, Red, Chilli, flakes, 2, All, Purpose, Flour, Maida, Rice, flour, Salt, Sunflower, Oil, for, deep, frying, the, tater, tots]\n",
              "125                                                                                                           [1, cup, Sooji, Semolina, Rava, Curd, Dahi, Yogurt, 5, Saffron, strands, 1/2, teaspoon, Cardamom, Powder, Elaichi, Baking, powder, 3, teaspoons, Caster, Sugar, 10, Cashew, nuts, Raisins, 2, Ghee]\n",
              "255                                                                                                                                                                         [1, tablespoon, Green, Coffee, beans, Cardamom, Elaichi, Pods, Seeds, 2.5, cups, Water, 1/8, teaspoon, Saffron, strands, Rose, water]\n",
              "137                                                                                                    [1, cup, black, urad, dal, split, tablespoon, kidney, beans, 4, tomatoes, chopped, inch, ginger, grated, ghee, teaspoon, cumin, seeds, Kashmiri, red, chilli, powder, coriander, 1/2, garam, masala, salt]\n",
              "Name: input_tokens, Length: 142, dtype: object"
            ]
          },
          "execution_count": 44,
          "metadata": {},
          "output_type": "execute_result"
        }
      ],
      "source": [
        "X_train"
      ]
    },
    {
      "cell_type": "markdown",
      "metadata": {
        "id": "vrYD5tMNiFc-"
      },
      "source": [
        "##### **6.1.2** **Define feature functions for CRF** <font color = red>[7 marks]</font> <br>\n",
        "\n",
        "Define ***word2features*** function and use the parameters such as sentence and its indexing as ***sent*** and ***i*** for extracting token level features for CRF Training.\n",
        "Build ***features*** dictionary, also mark the beginning and end of the sequence and use the ***unit_keywords***, ***quantity_keywords*** and ***quantity_pattern*** for knowing the presence of quantity or unit in the tokens"
      ]
    },
    {
      "cell_type": "markdown",
      "metadata": {
        "id": "yAjf6j-dQtpr"
      },
      "source": [
        "While building ***features*** dictionary, include\n",
        "- ***Core Features*** - The core features of a token should capture its lexical\n",
        "and grammatical properties. Include attributes like the raw token, its lemma, part-of-speech tag, dependency relation, and shape, as well as indicators for whether it's a stop word, digit, or punctuation. The details of the features are given below:\n",
        "\n",
        "    - `bias` - Constant feature with a fixed value of 1.0 to aid model learning.\n",
        "    - `token` - The lowercase form of the current token.\n",
        "    - `lemma` - The lowercase lemma (base form) of the token.\n",
        "    - `pos_tag` - Part-of-speech (POS) tag of the token.\n",
        "    - `tag` - Detailed POS tag of the token.\n",
        "    - `dep` - Dependency relation of the token in the sentence.\n",
        "    - `shape` - Shape of the token (e.g., \"Xxx\" for \"Milk\").\n",
        "    - `is_stop` - Boolean indicating if the token is a stopword.\n",
        "    - `is_digit` - Boolean indicating if the token consists of only digits.\n",
        "    - `has_digit` - Boolean indicating if the token contains at least one digit.\n",
        "    - `has_alpha` - Boolean indicating if the token contains at least one alphabetic character.\n",
        "    - `hyphenated` - Boolean indicating if the token contains a hyphen (-).\n",
        "    - `slash_present` - Boolean indicating if the token contains a slash (/).\n",
        "    - `is_title` - Boolean indicating if the token starts with an uppercase letter.\n",
        "    - `is_upper` - Boolean indicating if the token is fully uppercase.\n",
        "    - `is_punct` - Boolean indicating if the token is a punctuation mark.\n",
        "\n",
        "- ***Improved Quantity and Unit Detection*** - Use key-value pairs to mark the presence of quantities and units in the features dictionary. Utilise the unit_keywords, quantity_keywords, and quantity_pattern to identify and flag these elements. The details of the features are given below:\n",
        "\n",
        "    - `is_quantity` - Boolean indicating if the token matches a quantity pattern or keyword.\n",
        "    - `is_unit` - Boolean indicating if the token is a known measurement unit.\n",
        "    - `is_numeric` - Boolean indicating if the token matches a numeric pattern.\n",
        "    - `is_fraction` - Boolean indicating if the token represents a fraction (e.g., 1/2).\n",
        "    - `is_decimal` - Boolean indicating if the token represents a decimal number (e.g., 3.14).\n",
        "    - `preceding_word` - The previous token in the sentence, if available.\n",
        "    - `following_word` - The next token in the sentence, if available.\n",
        "\n",
        "- ***Contextual Features*** - Incorporate contextual information by adding features for the preceding and following tokens. Include indicators like BOS and EOS to mark the beginning and end of the sequence, and utilise unit_keywords, quantity_keywords, and quantity_pattern to identify the types of neighboring tokens. The features are given below:\n",
        "\n",
        "    - `prev_token` - The lowercase form of the previous token.\n",
        "    - `prev_is_quantity` - Boolean indicating if the previous token is a quantity.\n",
        "    - `prev_is_digit` - Boolean indicating if the previous token is a digit.\n",
        "    - `BOS` - Boolean indicating if the token is at the beginning of the sentence.\n",
        "    - `next_token` - The lowercase form of the next token.\n",
        "    - `next_is_unit` - Boolean indicating if the next token is a unit.\n",
        "    - `next_is_ingredient` - Boolean indicating if the next token is not a unit or quantity.\n",
        "    - `EOS` - Boolean indicating if the token is at the end of the sentence.\n",
        "\n"
      ]
    },
    {
      "cell_type": "code",
      "execution_count": 45,
      "metadata": {
        "id": "pRU7efTF9GIW"
      },
      "outputs": [],
      "source": [
        "# define word2features for processing each token in the sentence sent by using index i.\n",
        "# use your own feature functions\n",
        "\n",
        "    # Process the entire sentence with spaCy\n",
        "\n",
        "    # --- Core Features ---\n",
        "\n",
        "    # --- Improved Quantity & Unit Detection ---\n",
        "\n",
        "    # --- Contextual Features ---\n",
        "def word2features(sent, i):\n",
        "    token = sent[i]\n",
        "    doc=nlp(token)\n",
        "    token=doc[0]\n",
        "    # core features\n",
        "    features = {\n",
        "        'bias': 1.0,\n",
        "        'token': token.text.lower(),\n",
        "        'lemma': token.lemma_.lower(),\n",
        "        'pos_tag': token.pos_,\n",
        "        'tag': token.tag_,\n",
        "        'dep': token.dep_,\n",
        "        'shape': token.shape_,\n",
        "        'is_stop': token.is_stop,\n",
        "        'is_digit': token.is_digit,\n",
        "        'has_digit': any(char.isdigit() for char in token.text),\n",
        "        'has_alpha': any(char.isalpha() for char in token.text),\n",
        "        'hyphenated': '-' in token.text,\n",
        "        'slash_present': '/' in token.text,\n",
        "        'is_title': token.is_title,\n",
        "        'is_upper': token.is_upper,\n",
        "        'is_punct': token.is_punct,\n",
        "    }\n",
        "    # Improved Quantity & Unit Detection\n",
        "    token_lc = token.text.lower()\n",
        "    features['is_quantity'] = (\n",
        "        bool(quantity_pattern.fullmatch(token_lc)) or token_lc in quantity_keywords\n",
        "    )\n",
        "    features['is_unit'] = token_lc in unit_keywords\n",
        "    features['is_numeric'] = bool(re.fullmatch(r\"\\d+(\\.\\d+)?\", token_lc))\n",
        "    features['is_fraction'] = bool(re.fullmatch(r\"\\d+/\\d+|[¼½¾⅓⅔⅛⅜⅝⅞]\", token_lc))\n",
        "    features['is_decimal'] = '.' in token_lc and token_lc.replace('.', '', 1).isdigit()\n",
        "\n",
        "    features['preceding_word'] = sent[i - 1] if i > 0 else ''\n",
        "    features['following_word'] = sent[i + 1] if i < len(sent) - 1 else ''\n",
        "    # contextual features\n",
        "    if i > 0:\n",
        "        prev = nlp(sent[i - 1])[0]\n",
        "        prev_token = sent[i - 1].lower()\n",
        "        features['prev_token'] = prev_token\n",
        "        features['prev_is_quantity'] = (\n",
        "            bool(quantity_pattern.fullmatch(prev_token)) or prev_token in quantity_keywords\n",
        "        )\n",
        "        features['prev_is_digit'] = prev_token.isdigit()\n",
        "    else:\n",
        "        features['BOS'] = True\n",
        "\n",
        "    if i < len(sent) - 1:\n",
        "        next = nlp(sent[i + 1])[0]\n",
        "        next_token = sent[i + 1].lower()\n",
        "        features['next_token'] = next_token\n",
        "        features['next_is_unit'] = next_token in unit_keywords\n",
        "        features['next_is_ingredient'] = not (\n",
        "            next_token in unit_keywords or\n",
        "            next_token in quantity_keywords or\n",
        "            bool(quantity_pattern.fullmatch(next_token))\n",
        "        )\n",
        "    else:\n",
        "        features['EOS'] = True\n",
        "\n",
        "    return features"
      ]
    },
    {
      "cell_type": "markdown",
      "metadata": {
        "id": "hJm2nUw0998s"
      },
      "source": [
        "### **6.2** *Preparation of Recipe level features* <font color = red>[2 marks]</font>\n"
      ]
    },
    {
      "cell_type": "markdown",
      "metadata": {
        "id": "KL19ooQejA5z"
      },
      "source": [
        "##### **6.2.1** **Define function to work on all the recipes and call word2features for each recipe** <font color = red>[2 marks]</font> <br>\n",
        "\n",
        "Define ***sent2features*** function and inputs ***sent*** as a parameter and correctly generate feature functions for each token present in the sentence"
      ]
    },
    {
      "cell_type": "code",
      "execution_count": 46,
      "metadata": {
        "id": "NlQEifz-9GIW"
      },
      "outputs": [],
      "source": [
        "# define sent2features by working on each token in the sentence and correctly generate dictionaries for features\n",
        "def sent2features(sent):\n",
        "  return [word2features(sent, i) for i in range(len(sent))]"
      ]
    },
    {
      "cell_type": "markdown",
      "metadata": {
        "id": "FOK0t3c6-RiV"
      },
      "source": [
        "### **6.3** *Convert X_train, X_val, y_train and y_val into train and validation feature sets and labels* <font color = red>[6 marks]</font>\n",
        "\n"
      ]
    },
    {
      "cell_type": "markdown",
      "metadata": {
        "id": "7tsd50b_nX0J"
      },
      "source": [
        "##### **6.3.1** **Convert recipe into feature functions by using X_train and X_val** <font color = red>[2 marks]</font> <br>\n",
        "\n",
        "Create ***X_train_features*** and ***X_val_features*** as list to include the feature functions for each recipe present in training and validation sets"
      ]
    },
    {
      "cell_type": "code",
      "execution_count": 47,
      "metadata": {
        "id": "-bVPGPa39GIW"
      },
      "outputs": [],
      "source": [
        "# Convert input sentences into feature sets by taking training and validation dataset as X_train_features and X_val_features\n",
        "X_train_features=[]\n",
        "X_val_features=[]\n",
        "for sent in X_train:\n",
        "  X_train_features.append(sent2features(sent))\n",
        "for sent in X_val:\n",
        "  X_val_features.append(sent2features(sent))"
      ]
    },
    {
      "cell_type": "markdown",
      "metadata": {
        "id": "jcwmwXn-n6cs"
      },
      "source": [
        "##### **6.3.2** **Convert lables of y_train and y_val into list** <font color = red>[2 marks]</font> <br>\n",
        "\n",
        "Create ***y_train_labels*** and ***y_val_labels*** by using the list of y_train and y_val"
      ]
    },
    {
      "cell_type": "code",
      "execution_count": 48,
      "metadata": {
        "id": "TiGgP3O6nfPg"
      },
      "outputs": [],
      "source": [
        "# Convert labels into list as y_train_labels and y_val_labels\n",
        "y_train_labels=[]\n",
        "y_val_labels =[]\n",
        "for sent in y_train:\n",
        "  y_train_labels.append(sent)\n",
        "for sent in y_val:\n",
        "  y_val_labels.append(sent)"
      ]
    },
    {
      "cell_type": "markdown",
      "metadata": {
        "id": "4c-kjqtaoZvb"
      },
      "source": [
        "##### **6.3.3** **Print the length of val and train features and labels** <font color = red>[2 marks]</font> <br>\n",
        "\n"
      ]
    },
    {
      "cell_type": "code",
      "execution_count": 49,
      "metadata": {
        "id": "mWId2Nn0okMV"
      },
      "outputs": [
        {
          "name": "stdout",
          "output_type": "stream",
          "text": [
            "142\n",
            "142\n"
          ]
        }
      ],
      "source": [
        "# print the length of train features and labels\n",
        "print(len(X_train_features))\n",
        "print(len(y_train_labels))"
      ]
    },
    {
      "cell_type": "code",
      "execution_count": 50,
      "metadata": {
        "id": "LAt_m_LubRvn"
      },
      "outputs": [
        {
          "name": "stdout",
          "output_type": "stream",
          "text": [
            "62\n",
            "62\n"
          ]
        }
      ],
      "source": [
        "# print the length of validation features and labels\n",
        "print(len(X_val_features))\n",
        "print(len(y_val_labels))"
      ]
    },
    {
      "cell_type": "markdown",
      "metadata": {
        "id": "dZffFBH-pVhx"
      },
      "source": [
        "### **6.4** *Applying weights to feature sets* <font color = red>[12 marks]</font> <br>\n",
        "\n",
        "\n"
      ]
    },
    {
      "cell_type": "markdown",
      "metadata": {
        "id": "Goh_fX-6pqhN"
      },
      "source": [
        "##### **6.4.1** **Flatten the labels of y_train** <font color = red>[2 marks]</font> <br>\n",
        "\n",
        "Create ***y_train_flat*** to flatten the structure of nested y_train"
      ]
    },
    {
      "cell_type": "code",
      "execution_count": 51,
      "metadata": {
        "id": "adLWfYn_p3gM"
      },
      "outputs": [
        {
          "data": {
            "text/plain": [
              "['quantity',\n",
              " 'unit',\n",
              " 'ingredient',\n",
              " 'ingredient',\n",
              " 'ingredient',\n",
              " 'quantity',\n",
              " 'unit',\n",
              " 'ingredient',\n",
              " 'ingredient',\n",
              " 'ingredient',\n",
              " 'quantity',\n",
              " 'ingredient',\n",
              " 'ingredient',\n",
              " 'ingredient',\n",
              " 'quantity',\n",
              " 'unit',\n",
              " 'ingredient',\n",
              " 'ingredient',\n",
              " 'ingredient',\n",
              " 'ingredient',\n",
              " 'ingredient',\n",
              " 'ingredient',\n",
              " 'ingredient',\n",
              " 'ingredient',\n",
              " 'ingredient',\n",
              " 'ingredient',\n",
              " 'ingredient',\n",
              " 'ingredient',\n",
              " 'ingredient',\n",
              " 'ingredient',\n",
              " 'ingredient',\n",
              " 'ingredient',\n",
              " 'ingredient',\n",
              " 'ingredient',\n",
              " 'ingredient',\n",
              " 'ingredient',\n",
              " 'ingredient',\n",
              " 'quantity',\n",
              " 'unit',\n",
              " 'ingredient',\n",
              " 'ingredient',\n",
              " 'quantity',\n",
              " 'ingredient',\n",
              " 'quantity',\n",
              " 'unit',\n",
              " 'ingredient',\n",
              " 'ingredient',\n",
              " 'ingredient',\n",
              " 'ingredient',\n",
              " 'ingredient',\n",
              " 'unit',\n",
              " 'ingredient',\n",
              " 'ingredient',\n",
              " 'ingredient',\n",
              " 'ingredient',\n",
              " 'ingredient',\n",
              " 'unit',\n",
              " 'ingredient',\n",
              " 'ingredient',\n",
              " 'ingredient',\n",
              " 'ingredient',\n",
              " 'unit',\n",
              " 'ingredient',\n",
              " 'quantity',\n",
              " 'ingredient',\n",
              " 'quantity',\n",
              " 'unit',\n",
              " 'ingredient',\n",
              " 'ingredient',\n",
              " 'unit',\n",
              " 'ingredient',\n",
              " 'ingredient',\n",
              " 'ingredient',\n",
              " 'ingredient',\n",
              " 'ingredient',\n",
              " 'ingredient',\n",
              " 'quantity',\n",
              " 'ingredient',\n",
              " 'ingredient',\n",
              " 'ingredient',\n",
              " 'quantity',\n",
              " 'ingredient',\n",
              " 'unit',\n",
              " 'ingredient',\n",
              " 'ingredient',\n",
              " 'unit',\n",
              " 'ingredient',\n",
              " 'ingredient',\n",
              " 'quantity',\n",
              " 'unit',\n",
              " 'ingredient',\n",
              " 'ingredient',\n",
              " 'ingredient',\n",
              " 'ingredient',\n",
              " 'ingredient',\n",
              " 'ingredient',\n",
              " 'ingredient',\n",
              " 'quantity',\n",
              " 'quantity',\n",
              " 'ingredient',\n",
              " 'ingredient',\n",
              " 'ingredient',\n",
              " 'ingredient',\n",
              " 'ingredient',\n",
              " 'ingredient',\n",
              " 'unit',\n",
              " 'ingredient',\n",
              " 'ingredient',\n",
              " 'ingredient',\n",
              " 'ingredient',\n",
              " 'ingredient',\n",
              " 'ingredient',\n",
              " 'ingredient',\n",
              " 'ingredient',\n",
              " 'quantity',\n",
              " 'ingredient',\n",
              " 'quantity',\n",
              " 'unit',\n",
              " 'ingredient',\n",
              " 'ingredient',\n",
              " 'unit',\n",
              " 'ingredient',\n",
              " 'ingredient',\n",
              " 'ingredient',\n",
              " 'ingredient',\n",
              " 'ingredient',\n",
              " 'ingredient',\n",
              " 'ingredient',\n",
              " 'quantity',\n",
              " 'ingredient',\n",
              " 'ingredient',\n",
              " 'ingredient',\n",
              " 'ingredient',\n",
              " 'ingredient',\n",
              " 'quantity',\n",
              " 'ingredient',\n",
              " 'ingredient',\n",
              " 'ingredient',\n",
              " 'ingredient',\n",
              " 'ingredient',\n",
              " 'ingredient',\n",
              " 'quantity',\n",
              " 'ingredient',\n",
              " 'ingredient',\n",
              " 'ingredient',\n",
              " 'quantity',\n",
              " 'unit',\n",
              " 'ingredient',\n",
              " 'ingredient',\n",
              " 'ingredient',\n",
              " 'ingredient',\n",
              " 'ingredient',\n",
              " 'quantity',\n",
              " 'unit',\n",
              " 'quantity',\n",
              " 'unit',\n",
              " 'ingredient',\n",
              " 'ingredient',\n",
              " 'ingredient',\n",
              " 'ingredient',\n",
              " 'quantity',\n",
              " 'ingredient',\n",
              " 'ingredient',\n",
              " 'ingredient',\n",
              " 'ingredient',\n",
              " 'unit',\n",
              " 'ingredient',\n",
              " 'quantity',\n",
              " 'unit',\n",
              " 'ingredient',\n",
              " 'ingredient',\n",
              " 'ingredient',\n",
              " 'ingredient',\n",
              " 'ingredient',\n",
              " 'ingredient',\n",
              " 'quantity',\n",
              " 'unit',\n",
              " 'ingredient',\n",
              " 'ingredient',\n",
              " 'ingredient',\n",
              " 'ingredient',\n",
              " 'ingredient',\n",
              " 'ingredient',\n",
              " 'ingredient',\n",
              " 'ingredient',\n",
              " 'ingredient',\n",
              " 'ingredient',\n",
              " 'ingredient',\n",
              " 'ingredient',\n",
              " 'ingredient',\n",
              " 'quantity',\n",
              " 'unit',\n",
              " 'ingredient',\n",
              " 'ingredient',\n",
              " 'ingredient',\n",
              " 'ingredient',\n",
              " 'quantity',\n",
              " 'ingredient',\n",
              " 'ingredient',\n",
              " 'quantity',\n",
              " 'unit',\n",
              " 'ingredient',\n",
              " 'ingredient',\n",
              " 'ingredient',\n",
              " 'ingredient',\n",
              " 'ingredient',\n",
              " 'quantity',\n",
              " 'unit',\n",
              " 'ingredient',\n",
              " 'ingredient',\n",
              " 'ingredient',\n",
              " 'ingredient',\n",
              " 'ingredient',\n",
              " 'ingredient',\n",
              " 'unit',\n",
              " 'ingredient',\n",
              " 'ingredient',\n",
              " 'ingredient',\n",
              " 'quantity',\n",
              " 'unit',\n",
              " 'ingredient',\n",
              " 'ingredient',\n",
              " 'ingredient',\n",
              " 'ingredient',\n",
              " 'ingredient',\n",
              " 'ingredient',\n",
              " 'ingredient',\n",
              " 'ingredient',\n",
              " 'ingredient',\n",
              " 'ingredient',\n",
              " 'ingredient',\n",
              " 'ingredient',\n",
              " 'unit',\n",
              " 'ingredient',\n",
              " 'ingredient',\n",
              " 'ingredient',\n",
              " 'quantity',\n",
              " 'ingredient',\n",
              " 'ingredient',\n",
              " 'ingredient',\n",
              " 'ingredient',\n",
              " 'quantity',\n",
              " 'unit',\n",
              " 'ingredient',\n",
              " 'ingredient',\n",
              " 'quantity',\n",
              " 'ingredient',\n",
              " 'ingredient',\n",
              " 'ingredient',\n",
              " 'ingredient',\n",
              " 'ingredient',\n",
              " 'ingredient',\n",
              " 'ingredient',\n",
              " 'ingredient',\n",
              " 'ingredient',\n",
              " 'unit',\n",
              " 'ingredient',\n",
              " 'ingredient',\n",
              " 'ingredient',\n",
              " 'quantity',\n",
              " 'ingredient',\n",
              " 'ingredient',\n",
              " 'ingredient',\n",
              " 'ingredient',\n",
              " 'quantity',\n",
              " 'unit',\n",
              " 'ingredient',\n",
              " 'ingredient',\n",
              " 'ingredient',\n",
              " 'ingredient',\n",
              " 'ingredient',\n",
              " 'ingredient',\n",
              " 'quantity',\n",
              " 'unit',\n",
              " 'ingredient',\n",
              " 'ingredient',\n",
              " 'quantity',\n",
              " 'ingredient',\n",
              " 'ingredient',\n",
              " 'ingredient',\n",
              " 'unit',\n",
              " 'ingredient',\n",
              " 'ingredient',\n",
              " 'quantity',\n",
              " 'unit',\n",
              " 'ingredient',\n",
              " 'ingredient',\n",
              " 'quantity',\n",
              " 'ingredient',\n",
              " 'ingredient',\n",
              " 'quantity',\n",
              " 'ingredient',\n",
              " 'ingredient',\n",
              " 'ingredient',\n",
              " 'ingredient',\n",
              " 'ingredient',\n",
              " 'unit',\n",
              " 'ingredient',\n",
              " 'ingredient',\n",
              " 'ingredient',\n",
              " 'ingredient',\n",
              " 'ingredient',\n",
              " 'ingredient',\n",
              " 'ingredient',\n",
              " 'ingredient',\n",
              " 'unit',\n",
              " 'ingredient',\n",
              " 'ingredient',\n",
              " 'ingredient',\n",
              " 'quantity',\n",
              " 'unit',\n",
              " 'ingredient',\n",
              " 'quantity',\n",
              " 'unit',\n",
              " 'ingredient',\n",
              " 'unit',\n",
              " 'ingredient',\n",
              " 'ingredient',\n",
              " 'ingredient',\n",
              " 'ingredient',\n",
              " 'ingredient',\n",
              " 'ingredient',\n",
              " 'quantity',\n",
              " 'ingredient',\n",
              " 'ingredient',\n",
              " 'ingredient',\n",
              " 'unit',\n",
              " 'ingredient',\n",
              " 'ingredient',\n",
              " 'ingredient',\n",
              " 'ingredient',\n",
              " 'ingredient',\n",
              " 'quantity',\n",
              " 'ingredient',\n",
              " 'ingredient',\n",
              " 'ingredient',\n",
              " 'ingredient',\n",
              " 'ingredient',\n",
              " 'ingredient',\n",
              " 'ingredient',\n",
              " 'ingredient',\n",
              " 'ingredient',\n",
              " 'ingredient',\n",
              " 'ingredient',\n",
              " 'ingredient',\n",
              " 'quantity',\n",
              " 'unit',\n",
              " 'ingredient',\n",
              " 'ingredient',\n",
              " 'ingredient',\n",
              " 'quantity',\n",
              " 'ingredient',\n",
              " 'ingredient',\n",
              " 'ingredient',\n",
              " 'ingredient',\n",
              " 'ingredient',\n",
              " 'ingredient',\n",
              " 'ingredient',\n",
              " 'ingredient',\n",
              " 'ingredient',\n",
              " 'ingredient',\n",
              " 'ingredient',\n",
              " 'quantity',\n",
              " 'unit',\n",
              " 'ingredient',\n",
              " 'ingredient',\n",
              " 'ingredient',\n",
              " 'quantity',\n",
              " 'ingredient',\n",
              " 'unit',\n",
              " 'ingredient',\n",
              " 'ingredient',\n",
              " 'ingredient',\n",
              " 'ingredient',\n",
              " 'ingredient',\n",
              " 'quantity',\n",
              " 'unit',\n",
              " 'ingredient',\n",
              " 'ingredient',\n",
              " 'ingredient',\n",
              " 'ingredient',\n",
              " 'quantity',\n",
              " 'ingredient',\n",
              " 'ingredient',\n",
              " 'ingredient',\n",
              " 'unit',\n",
              " 'ingredient',\n",
              " 'ingredient',\n",
              " 'unit',\n",
              " 'ingredient',\n",
              " 'ingredient',\n",
              " 'ingredient',\n",
              " 'quantity',\n",
              " 'unit',\n",
              " 'ingredient',\n",
              " 'ingredient',\n",
              " 'ingredient',\n",
              " 'unit',\n",
              " 'ingredient',\n",
              " 'ingredient',\n",
              " 'ingredient',\n",
              " 'quantity',\n",
              " 'ingredient',\n",
              " 'ingredient',\n",
              " 'ingredient',\n",
              " 'ingredient',\n",
              " 'ingredient',\n",
              " 'unit',\n",
              " 'ingredient',\n",
              " 'ingredient',\n",
              " 'ingredient',\n",
              " 'ingredient',\n",
              " 'ingredient',\n",
              " 'ingredient',\n",
              " 'ingredient',\n",
              " 'ingredient',\n",
              " 'ingredient',\n",
              " 'ingredient',\n",
              " 'ingredient',\n",
              " 'ingredient',\n",
              " 'ingredient',\n",
              " 'quantity',\n",
              " 'ingredient',\n",
              " 'ingredient',\n",
              " 'quantity',\n",
              " 'unit',\n",
              " 'ingredient',\n",
              " 'ingredient',\n",
              " 'ingredient',\n",
              " 'ingredient',\n",
              " 'ingredient',\n",
              " 'ingredient',\n",
              " 'quantity',\n",
              " 'unit',\n",
              " 'ingredient',\n",
              " 'ingredient',\n",
              " 'quantity',\n",
              " 'ingredient',\n",
              " 'ingredient',\n",
              " 'ingredient',\n",
              " 'ingredient',\n",
              " 'ingredient',\n",
              " 'ingredient',\n",
              " 'quantity',\n",
              " 'ingredient',\n",
              " 'ingredient',\n",
              " 'ingredient',\n",
              " 'ingredient',\n",
              " 'ingredient',\n",
              " 'ingredient',\n",
              " 'ingredient',\n",
              " 'ingredient',\n",
              " 'ingredient',\n",
              " 'ingredient',\n",
              " 'ingredient',\n",
              " 'ingredient',\n",
              " 'ingredient',\n",
              " 'unit',\n",
              " 'ingredient',\n",
              " 'ingredient',\n",
              " 'ingredient',\n",
              " 'ingredient',\n",
              " 'quantity',\n",
              " 'unit',\n",
              " 'ingredient',\n",
              " 'ingredient',\n",
              " 'quantity',\n",
              " 'ingredient',\n",
              " 'quantity',\n",
              " 'ingredient',\n",
              " 'ingredient',\n",
              " 'quantity',\n",
              " 'ingredient',\n",
              " 'ingredient',\n",
              " 'quantity',\n",
              " 'unit',\n",
              " 'ingredient',\n",
              " 'ingredient',\n",
              " 'quantity',\n",
              " 'unit',\n",
              " 'ingredient',\n",
              " 'ingredient',\n",
              " 'quantity',\n",
              " 'unit',\n",
              " 'ingredient',\n",
              " 'quantity',\n",
              " 'ingredient',\n",
              " 'quantity',\n",
              " 'unit',\n",
              " 'ingredient',\n",
              " 'quantity',\n",
              " 'unit',\n",
              " 'ingredient',\n",
              " 'quantity',\n",
              " 'unit',\n",
              " 'ingredient',\n",
              " 'quantity',\n",
              " 'unit',\n",
              " 'ingredient',\n",
              " 'ingredient',\n",
              " 'ingredient',\n",
              " 'ingredient',\n",
              " 'ingredient',\n",
              " 'ingredient',\n",
              " 'ingredient',\n",
              " 'quantity',\n",
              " 'unit',\n",
              " 'ingredient',\n",
              " 'ingredient',\n",
              " 'ingredient',\n",
              " 'ingredient',\n",
              " 'ingredient',\n",
              " 'ingredient',\n",
              " 'ingredient',\n",
              " 'ingredient',\n",
              " 'ingredient',\n",
              " 'quantity',\n",
              " 'ingredient',\n",
              " 'ingredient',\n",
              " 'unit',\n",
              " 'ingredient',\n",
              " 'ingredient',\n",
              " 'ingredient',\n",
              " 'ingredient',\n",
              " 'ingredient',\n",
              " 'ingredient',\n",
              " 'ingredient',\n",
              " 'quantity',\n",
              " 'ingredient',\n",
              " 'ingredient',\n",
              " 'ingredient',\n",
              " 'ingredient',\n",
              " 'ingredient',\n",
              " 'ingredient',\n",
              " 'ingredient',\n",
              " 'quantity',\n",
              " 'unit',\n",
              " 'ingredient',\n",
              " 'ingredient',\n",
              " 'ingredient',\n",
              " 'quantity',\n",
              " 'unit',\n",
              " 'ingredient',\n",
              " 'ingredient',\n",
              " 'ingredient',\n",
              " 'unit',\n",
              " 'ingredient',\n",
              " 'ingredient',\n",
              " 'quantity',\n",
              " 'unit',\n",
              " 'ingredient',\n",
              " 'ingredient',\n",
              " 'ingredient',\n",
              " 'ingredient',\n",
              " 'ingredient',\n",
              " 'ingredient',\n",
              " 'ingredient',\n",
              " 'ingredient',\n",
              " 'ingredient',\n",
              " 'ingredient',\n",
              " 'ingredient',\n",
              " 'ingredient',\n",
              " 'ingredient',\n",
              " 'ingredient',\n",
              " 'ingredient',\n",
              " 'unit',\n",
              " 'ingredient',\n",
              " 'ingredient',\n",
              " 'ingredient',\n",
              " 'ingredient',\n",
              " 'quantity',\n",
              " 'ingredient',\n",
              " 'ingredient',\n",
              " 'ingredient',\n",
              " 'ingredient',\n",
              " 'quantity',\n",
              " 'ingredient',\n",
              " 'ingredient',\n",
              " 'ingredient',\n",
              " 'quantity',\n",
              " 'unit',\n",
              " 'ingredient',\n",
              " 'ingredient',\n",
              " 'ingredient',\n",
              " 'quantity',\n",
              " 'unit',\n",
              " 'ingredient',\n",
              " 'ingredient',\n",
              " 'ingredient',\n",
              " 'unit',\n",
              " 'ingredient',\n",
              " 'quantity',\n",
              " 'unit',\n",
              " 'ingredient',\n",
              " 'ingredient',\n",
              " 'ingredient',\n",
              " 'ingredient',\n",
              " 'ingredient',\n",
              " 'ingredient',\n",
              " 'unit',\n",
              " 'ingredient',\n",
              " 'ingredient',\n",
              " 'quantity',\n",
              " 'ingredient',\n",
              " 'ingredient',\n",
              " 'ingredient',\n",
              " 'ingredient',\n",
              " 'ingredient',\n",
              " 'ingredient',\n",
              " 'ingredient',\n",
              " 'ingredient',\n",
              " 'quantity',\n",
              " 'unit',\n",
              " 'ingredient',\n",
              " 'quantity',\n",
              " 'unit',\n",
              " 'ingredient',\n",
              " 'ingredient',\n",
              " 'unit',\n",
              " 'ingredient',\n",
              " 'ingredient',\n",
              " 'ingredient',\n",
              " 'ingredient',\n",
              " 'ingredient',\n",
              " 'ingredient',\n",
              " 'ingredient',\n",
              " 'ingredient',\n",
              " 'quantity',\n",
              " 'ingredient',\n",
              " 'unit',\n",
              " 'ingredient',\n",
              " 'ingredient',\n",
              " 'ingredient',\n",
              " 'ingredient',\n",
              " 'unit',\n",
              " 'ingredient',\n",
              " 'ingredient',\n",
              " 'ingredient',\n",
              " 'ingredient',\n",
              " 'ingredient',\n",
              " 'ingredient',\n",
              " 'quantity',\n",
              " 'ingredient',\n",
              " 'ingredient',\n",
              " 'ingredient',\n",
              " 'ingredient',\n",
              " 'ingredient',\n",
              " 'quantity',\n",
              " 'ingredient',\n",
              " 'ingredient',\n",
              " 'ingredient',\n",
              " 'ingredient',\n",
              " 'ingredient',\n",
              " 'quantity',\n",
              " 'unit',\n",
              " 'ingredient',\n",
              " 'ingredient',\n",
              " 'ingredient',\n",
              " 'ingredient',\n",
              " 'quantity',\n",
              " 'ingredient',\n",
              " 'ingredient',\n",
              " 'ingredient',\n",
              " 'ingredient',\n",
              " 'quantity',\n",
              " 'unit',\n",
              " 'ingredient',\n",
              " 'ingredient',\n",
              " 'ingredient',\n",
              " 'unit',\n",
              " 'ingredient',\n",
              " 'ingredient',\n",
              " 'unit',\n",
              " 'ingredient',\n",
              " 'quantity',\n",
              " 'unit',\n",
              " 'ingredient',\n",
              " 'ingredient',\n",
              " 'ingredient',\n",
              " 'ingredient',\n",
              " 'ingredient',\n",
              " 'ingredient',\n",
              " 'unit',\n",
              " 'ingredient',\n",
              " 'ingredient',\n",
              " 'ingredient',\n",
              " 'ingredient',\n",
              " 'quantity',\n",
              " 'unit',\n",
              " 'ingredient',\n",
              " 'ingredient',\n",
              " 'quantity',\n",
              " 'ingredient',\n",
              " 'ingredient',\n",
              " 'quantity',\n",
              " 'ingredient',\n",
              " 'ingredient',\n",
              " 'quantity',\n",
              " 'unit',\n",
              " 'ingredient',\n",
              " 'ingredient',\n",
              " 'ingredient',\n",
              " 'ingredient',\n",
              " 'quantity',\n",
              " 'unit',\n",
              " 'ingredient',\n",
              " 'ingredient',\n",
              " 'ingredient',\n",
              " 'ingredient',\n",
              " 'quantity',\n",
              " 'ingredient',\n",
              " 'ingredient',\n",
              " 'ingredient',\n",
              " 'ingredient',\n",
              " 'ingredient',\n",
              " 'ingredient',\n",
              " 'ingredient',\n",
              " 'ingredient',\n",
              " 'ingredient',\n",
              " 'quantity',\n",
              " 'unit',\n",
              " 'ingredient',\n",
              " 'ingredient',\n",
              " 'ingredient',\n",
              " 'ingredient',\n",
              " 'ingredient',\n",
              " 'ingredient',\n",
              " 'ingredient',\n",
              " 'ingredient',\n",
              " 'ingredient',\n",
              " 'unit',\n",
              " 'ingredient',\n",
              " 'ingredient',\n",
              " 'ingredient',\n",
              " 'ingredient',\n",
              " 'ingredient',\n",
              " 'ingredient',\n",
              " 'ingredient',\n",
              " 'ingredient',\n",
              " 'ingredient',\n",
              " 'quantity',\n",
              " 'ingredient',\n",
              " 'ingredient',\n",
              " 'ingredient',\n",
              " 'quantity',\n",
              " 'ingredient',\n",
              " 'ingredient',\n",
              " 'quantity',\n",
              " 'unit',\n",
              " 'ingredient',\n",
              " 'ingredient',\n",
              " 'ingredient',\n",
              " 'ingredient',\n",
              " 'ingredient',\n",
              " 'ingredient',\n",
              " 'quantity',\n",
              " 'ingredient',\n",
              " 'quantity',\n",
              " 'ingredient',\n",
              " 'quantity',\n",
              " 'ingredient',\n",
              " 'ingredient',\n",
              " 'ingredient',\n",
              " 'ingredient',\n",
              " 'ingredient',\n",
              " 'quantity',\n",
              " 'ingredient',\n",
              " 'unit',\n",
              " 'ingredient',\n",
              " 'ingredient',\n",
              " 'unit',\n",
              " 'ingredient',\n",
              " 'ingredient',\n",
              " 'quantity',\n",
              " 'ingredient',\n",
              " 'quantity',\n",
              " 'unit',\n",
              " 'ingredient',\n",
              " 'ingredient',\n",
              " 'ingredient',\n",
              " 'ingredient',\n",
              " 'quantity',\n",
              " 'unit',\n",
              " 'ingredient',\n",
              " 'ingredient',\n",
              " 'quantity',\n",
              " 'ingredient',\n",
              " 'ingredient',\n",
              " 'ingredient',\n",
              " 'ingredient',\n",
              " 'quantity',\n",
              " 'unit',\n",
              " 'quantity',\n",
              " 'unit',\n",
              " 'ingredient',\n",
              " 'ingredient',\n",
              " 'ingredient',\n",
              " 'ingredient',\n",
              " 'ingredient',\n",
              " 'quantity',\n",
              " 'ingredient',\n",
              " 'quantity',\n",
              " 'ingredient',\n",
              " 'ingredient',\n",
              " 'unit',\n",
              " 'ingredient',\n",
              " 'ingredient',\n",
              " 'unit',\n",
              " 'ingredient',\n",
              " 'ingredient',\n",
              " 'quantity',\n",
              " 'ingredient',\n",
              " 'ingredient',\n",
              " 'ingredient',\n",
              " 'ingredient',\n",
              " 'ingredient',\n",
              " 'ingredient',\n",
              " 'ingredient',\n",
              " 'ingredient',\n",
              " 'ingredient',\n",
              " 'ingredient',\n",
              " 'ingredient',\n",
              " 'ingredient',\n",
              " 'ingredient',\n",
              " 'ingredient',\n",
              " 'ingredient',\n",
              " 'ingredient',\n",
              " 'unit',\n",
              " 'ingredient',\n",
              " 'ingredient',\n",
              " 'quantity',\n",
              " 'unit',\n",
              " 'ingredient',\n",
              " 'ingredient',\n",
              " 'ingredient',\n",
              " 'quantity',\n",
              " 'ingredient',\n",
              " 'ingredient',\n",
              " 'ingredient',\n",
              " 'ingredient',\n",
              " 'quantity',\n",
              " 'ingredient',\n",
              " 'ingredient',\n",
              " 'unit',\n",
              " 'ingredient',\n",
              " 'ingredient',\n",
              " 'ingredient',\n",
              " 'unit',\n",
              " 'ingredient',\n",
              " 'ingredient',\n",
              " 'ingredient',\n",
              " 'ingredient',\n",
              " 'quantity',\n",
              " 'ingredient',\n",
              " 'ingredient',\n",
              " 'ingredient',\n",
              " 'ingredient',\n",
              " 'ingredient',\n",
              " 'quantity',\n",
              " 'ingredient',\n",
              " 'ingredient',\n",
              " 'unit',\n",
              " 'ingredient',\n",
              " 'ingredient',\n",
              " 'ingredient',\n",
              " 'ingredient',\n",
              " 'quantity',\n",
              " 'ingredient',\n",
              " 'ingredient',\n",
              " 'ingredient',\n",
              " 'ingredient',\n",
              " 'quantity',\n",
              " 'unit',\n",
              " 'ingredient',\n",
              " 'ingredient',\n",
              " 'ingredient',\n",
              " 'ingredient',\n",
              " 'ingredient',\n",
              " 'ingredient',\n",
              " 'ingredient',\n",
              " 'ingredient',\n",
              " 'ingredient',\n",
              " 'ingredient',\n",
              " 'ingredient',\n",
              " 'quantity',\n",
              " 'ingredient',\n",
              " 'ingredient',\n",
              " 'unit',\n",
              " 'ingredient',\n",
              " 'ingredient',\n",
              " 'ingredient',\n",
              " 'ingredient',\n",
              " 'ingredient',\n",
              " 'quantity',\n",
              " 'unit',\n",
              " 'ingredient',\n",
              " 'ingredient',\n",
              " 'quantity',\n",
              " 'unit',\n",
              " 'quantity',\n",
              " 'ingredient',\n",
              " 'ingredient',\n",
              " 'ingredient',\n",
              " 'ingredient',\n",
              " 'unit',\n",
              " 'ingredient',\n",
              " 'ingredient',\n",
              " 'ingredient',\n",
              " 'ingredient',\n",
              " 'quantity',\n",
              " 'ingredient',\n",
              " 'ingredient',\n",
              " 'ingredient',\n",
              " 'ingredient',\n",
              " 'ingredient',\n",
              " 'ingredient',\n",
              " 'quantity',\n",
              " 'ingredient',\n",
              " 'ingredient',\n",
              " 'unit',\n",
              " 'ingredient',\n",
              " 'ingredient',\n",
              " 'ingredient',\n",
              " 'quantity',\n",
              " 'unit',\n",
              " 'ingredient',\n",
              " 'ingredient',\n",
              " 'quantity',\n",
              " 'ingredient',\n",
              " 'unit',\n",
              " 'ingredient',\n",
              " 'ingredient',\n",
              " 'unit',\n",
              " 'ingredient',\n",
              " 'ingredient',\n",
              " 'quantity',\n",
              " 'ingredient',\n",
              " 'ingredient',\n",
              " 'ingredient',\n",
              " 'ingredient',\n",
              " 'ingredient',\n",
              " 'ingredient',\n",
              " 'ingredient',\n",
              " 'quantity',\n",
              " 'unit',\n",
              " 'ingredient',\n",
              " 'ingredient',\n",
              " 'ingredient',\n",
              " 'ingredient',\n",
              " 'ingredient',\n",
              " 'ingredient',\n",
              " 'unit',\n",
              " 'ingredient',\n",
              " 'ingredient',\n",
              " 'ingredient',\n",
              " 'ingredient',\n",
              " 'ingredient',\n",
              " 'quantity',\n",
              " 'unit',\n",
              " 'ingredient',\n",
              " 'ingredient',\n",
              " 'ingredient',\n",
              " 'ingredient',\n",
              " 'ingredient',\n",
              " 'ingredient',\n",
              " 'ingredient',\n",
              " 'quantity',\n",
              " 'ingredient',\n",
              " 'ingredient',\n",
              " 'ingredient',\n",
              " 'ingredient',\n",
              " 'ingredient',\n",
              " 'quantity',\n",
              " 'ingredient',\n",
              " 'ingredient',\n",
              " 'ingredient',\n",
              " 'ingredient',\n",
              " 'ingredient',\n",
              " 'ingredient',\n",
              " 'ingredient',\n",
              " 'unit',\n",
              " 'ingredient',\n",
              " 'ingredient',\n",
              " 'ingredient',\n",
              " 'ingredient',\n",
              " 'ingredient',\n",
              " 'unit',\n",
              " 'ingredient',\n",
              " 'ingredient',\n",
              " 'ingredient',\n",
              " 'ingredient',\n",
              " 'ingredient',\n",
              " 'ingredient',\n",
              " 'ingredient',\n",
              " 'ingredient',\n",
              " 'ingredient',\n",
              " 'ingredient',\n",
              " 'ingredient',\n",
              " 'ingredient',\n",
              " 'ingredient',\n",
              " ...]"
            ]
          },
          "execution_count": 51,
          "metadata": {},
          "output_type": "execute_result"
        }
      ],
      "source": [
        "# Flatten labels in y_train\n",
        "y_train_flat = flatten_list(y_train.values)\n",
        "y_train_flat"
      ]
    },
    {
      "cell_type": "markdown",
      "metadata": {
        "id": "qk9UMBrbp9dp"
      },
      "source": [
        "##### **6.4.2** **Count the labels present in training target dataset** <font color = red>[2 marks]</font> <br>\n",
        "\n",
        "Create ***label_counts*** to count the frequencies of labels present in y_train_flat and retrieve the total samples by using the values of label_counts as ***total_samples***"
      ]
    },
    {
      "cell_type": "code",
      "execution_count": 52,
      "metadata": {
        "id": "6Kiu8jckqZSH"
      },
      "outputs": [
        {
          "data": {
            "text/plain": [
              "dict_values([658, 563, 3411])"
            ]
          },
          "execution_count": 52,
          "metadata": {},
          "output_type": "execute_result"
        }
      ],
      "source": [
        "# Count label frequencies as label_counts and total_samples as getting the summation of values of label_counts\n",
        "label_counts=Counter(y_train_flat)\n",
        "total_samples=sum(label_counts.values())\n",
        "label_counts.values()"
      ]
    },
    {
      "cell_type": "markdown",
      "metadata": {
        "id": "4aCmDsZYqYA-"
      },
      "source": [
        "##### **6.4.3** **Compute weight_dict by using inverse frequency method for label weights** <font color = red>[2 marks]</font> <br>\n",
        "\n",
        "- Create ***weight_dict*** as dictionary with label and its inverse frequency count in ***label_counts***\n",
        "\n",
        "- Penalise ingredient label in the dictionary"
      ]
    },
    {
      "cell_type": "code",
      "execution_count": 53,
      "metadata": {
        "id": "FpbEAZ3zqxEo"
      },
      "outputs": [],
      "source": [
        "# Compute class weights (inverse frequency method) by considering total_samples and label_counts\n",
        "weight_dict={}\n",
        "for label, count in label_counts.items():\n",
        "  weight_dict[label]=total_samples/count"
      ]
    },
    {
      "cell_type": "code",
      "execution_count": 54,
      "metadata": {
        "id": "hns3HbujXESs"
      },
      "outputs": [],
      "source": [
        "# penalise ingredient label\n",
        "weight_dict['ingredient']=weight_dict['ingredient']/2"
      ]
    },
    {
      "cell_type": "markdown",
      "metadata": {
        "id": "V8TdHMlPrhh8"
      },
      "source": [
        "##### **6.4.4** **Extract features along with class weights** <font color = red>[4 marks]</font> <br>\n",
        "\n",
        "Define a function ***extract_features_with_class_weights*** to work with training and validation datasets and extract features by applying class weights\n",
        "\n",
        "\n",
        "\n"
      ]
    },
    {
      "cell_type": "code",
      "execution_count": 55,
      "metadata": {
        "id": "1km6GR4TjXPX"
      },
      "outputs": [],
      "source": [
        "# Apply weights to feature extraction in extract_features_with_class_weights by using parameters such as X (input tokens), y(labels) and weight_dict (Class weights)\n",
        "def extract_features_with_class_weights(X, y, weight_dict):\n",
        "  X_featues=[]\n",
        "  y_labels=[]\n",
        "  scaled_features=[]\n",
        "  for sent_tokens,sent_labels in zip(X,y):\n",
        "    features=sent2features(sent_tokens)\n",
        "    for i, feature in enumerate(features):\n",
        "      label=sent_labels[i]\n",
        "      weight=weight_dict.get(label,1.0)\n",
        "      scaled_feature=feature.copy()\n",
        "      for key, value in scaled_feature.items():\n",
        "        if isinstance(value, (int, float)):\n",
        "          scaled_feature[key]=value*weight\n",
        "      scaled_features.append(scaled_feature)\n",
        "    X_featues.append(scaled_features)\n",
        "    y_labels.append(sent_labels)\n",
        "    scaled_features=[]\n",
        "  return X_featues, y_labels"
      ]
    },
    {
      "cell_type": "markdown",
      "metadata": {
        "id": "51ABmKwKsaiz"
      },
      "source": [
        "##### **6.4.5** **Execute extract_features_with_class_weights on training and validation datasets** <font color = red>[2 marks]</font> <br>\n",
        "\n",
        "Create ***X_train_weighted_features*** and ***X_val_weighted_features*** for extracting training and validation features along with their weights by calling ***extract_features_with_class_weights*** on the datasets"
      ]
    },
    {
      "cell_type": "code",
      "execution_count": 56,
      "metadata": {
        "id": "-XUFFnm5sYE6"
      },
      "outputs": [],
      "source": [
        "# Apply manually computed class weights\n",
        "X_train_weighted_features, y_train_labels = extract_features_with_class_weights(X_train, y_train, weight_dict)\n",
        "X_val_weighted_features, y_val_labels = extract_features_with_class_weights(X_val, y_val, weight_dict)"
      ]
    },
    {
      "cell_type": "markdown",
      "metadata": {
        "id": "Aah9bFDlAuzI"
      },
      "source": [
        "## **7** Model Building and Training <font color = red>[10 marks]</font> <br>"
      ]
    },
    {
      "cell_type": "markdown",
      "metadata": {
        "id": "axrvWR9TAuzJ"
      },
      "source": [
        "### **7.1** *Initialise the CRF model and train it* <font color = red>[5 marks]</font>\n",
        "Train the CRF model with the specified hyperparameters such as\n",
        "\n",
        "### CRF Model Hyperparameters Explanation\n",
        "\n",
        "| Parameter                  | Description |\n",
        "|----------------------------|-------------|\n",
        "| **algorithm='lbfgs'**      | Optimisation algorithm used for training. `lbfgs` (Limited-memory Broyden–Fletcher–Goldfarb–Shanno) is a quasi-Newton optimisation method. |\n",
        "| **c1=0.5**                | L1 regularisation term to control sparsity in feature weights. Helps in feature selection. |\n",
        "| **c2=1.0**                | L2 regularisation term to prevent overfitting by penalising large weights. |\n",
        "| **max_iterations=100**     | Maximum number of iterations for model training. Higher values allow more convergence but increase computation time. |\n",
        "| **all_possible_transitions=True** | Ensures that all possible state transitions are considered in training, making the model more robust. |\n",
        "\n",
        "Use weight_dict for training CRF\n",
        "\n"
      ]
    },
    {
      "cell_type": "code",
      "execution_count": 57,
      "metadata": {
        "id": "jig2J_n1AuzM"
      },
      "outputs": [
        {
          "data": {
            "text/html": [
              "<style>#sk-container-id-1 {\n",
              "  /* Definition of color scheme common for light and dark mode */\n",
              "  --sklearn-color-text: #000;\n",
              "  --sklearn-color-text-muted: #666;\n",
              "  --sklearn-color-line: gray;\n",
              "  /* Definition of color scheme for unfitted estimators */\n",
              "  --sklearn-color-unfitted-level-0: #fff5e6;\n",
              "  --sklearn-color-unfitted-level-1: #f6e4d2;\n",
              "  --sklearn-color-unfitted-level-2: #ffe0b3;\n",
              "  --sklearn-color-unfitted-level-3: chocolate;\n",
              "  /* Definition of color scheme for fitted estimators */\n",
              "  --sklearn-color-fitted-level-0: #f0f8ff;\n",
              "  --sklearn-color-fitted-level-1: #d4ebff;\n",
              "  --sklearn-color-fitted-level-2: #b3dbfd;\n",
              "  --sklearn-color-fitted-level-3: cornflowerblue;\n",
              "\n",
              "  /* Specific color for light theme */\n",
              "  --sklearn-color-text-on-default-background: var(--sg-text-color, var(--theme-code-foreground, var(--jp-content-font-color1, black)));\n",
              "  --sklearn-color-background: var(--sg-background-color, var(--theme-background, var(--jp-layout-color0, white)));\n",
              "  --sklearn-color-border-box: var(--sg-text-color, var(--theme-code-foreground, var(--jp-content-font-color1, black)));\n",
              "  --sklearn-color-icon: #696969;\n",
              "\n",
              "  @media (prefers-color-scheme: dark) {\n",
              "    /* Redefinition of color scheme for dark theme */\n",
              "    --sklearn-color-text-on-default-background: var(--sg-text-color, var(--theme-code-foreground, var(--jp-content-font-color1, white)));\n",
              "    --sklearn-color-background: var(--sg-background-color, var(--theme-background, var(--jp-layout-color0, #111)));\n",
              "    --sklearn-color-border-box: var(--sg-text-color, var(--theme-code-foreground, var(--jp-content-font-color1, white)));\n",
              "    --sklearn-color-icon: #878787;\n",
              "  }\n",
              "}\n",
              "\n",
              "#sk-container-id-1 {\n",
              "  color: var(--sklearn-color-text);\n",
              "}\n",
              "\n",
              "#sk-container-id-1 pre {\n",
              "  padding: 0;\n",
              "}\n",
              "\n",
              "#sk-container-id-1 input.sk-hidden--visually {\n",
              "  border: 0;\n",
              "  clip: rect(1px 1px 1px 1px);\n",
              "  clip: rect(1px, 1px, 1px, 1px);\n",
              "  height: 1px;\n",
              "  margin: -1px;\n",
              "  overflow: hidden;\n",
              "  padding: 0;\n",
              "  position: absolute;\n",
              "  width: 1px;\n",
              "}\n",
              "\n",
              "#sk-container-id-1 div.sk-dashed-wrapped {\n",
              "  border: 1px dashed var(--sklearn-color-line);\n",
              "  margin: 0 0.4em 0.5em 0.4em;\n",
              "  box-sizing: border-box;\n",
              "  padding-bottom: 0.4em;\n",
              "  background-color: var(--sklearn-color-background);\n",
              "}\n",
              "\n",
              "#sk-container-id-1 div.sk-container {\n",
              "  /* jupyter's `normalize.less` sets `[hidden] { display: none; }`\n",
              "     but bootstrap.min.css set `[hidden] { display: none !important; }`\n",
              "     so we also need the `!important` here to be able to override the\n",
              "     default hidden behavior on the sphinx rendered scikit-learn.org.\n",
              "     See: https://github.com/scikit-learn/scikit-learn/issues/21755 */\n",
              "  display: inline-block !important;\n",
              "  position: relative;\n",
              "}\n",
              "\n",
              "#sk-container-id-1 div.sk-text-repr-fallback {\n",
              "  display: none;\n",
              "}\n",
              "\n",
              "div.sk-parallel-item,\n",
              "div.sk-serial,\n",
              "div.sk-item {\n",
              "  /* draw centered vertical line to link estimators */\n",
              "  background-image: linear-gradient(var(--sklearn-color-text-on-default-background), var(--sklearn-color-text-on-default-background));\n",
              "  background-size: 2px 100%;\n",
              "  background-repeat: no-repeat;\n",
              "  background-position: center center;\n",
              "}\n",
              "\n",
              "/* Parallel-specific style estimator block */\n",
              "\n",
              "#sk-container-id-1 div.sk-parallel-item::after {\n",
              "  content: \"\";\n",
              "  width: 100%;\n",
              "  border-bottom: 2px solid var(--sklearn-color-text-on-default-background);\n",
              "  flex-grow: 1;\n",
              "}\n",
              "\n",
              "#sk-container-id-1 div.sk-parallel {\n",
              "  display: flex;\n",
              "  align-items: stretch;\n",
              "  justify-content: center;\n",
              "  background-color: var(--sklearn-color-background);\n",
              "  position: relative;\n",
              "}\n",
              "\n",
              "#sk-container-id-1 div.sk-parallel-item {\n",
              "  display: flex;\n",
              "  flex-direction: column;\n",
              "}\n",
              "\n",
              "#sk-container-id-1 div.sk-parallel-item:first-child::after {\n",
              "  align-self: flex-end;\n",
              "  width: 50%;\n",
              "}\n",
              "\n",
              "#sk-container-id-1 div.sk-parallel-item:last-child::after {\n",
              "  align-self: flex-start;\n",
              "  width: 50%;\n",
              "}\n",
              "\n",
              "#sk-container-id-1 div.sk-parallel-item:only-child::after {\n",
              "  width: 0;\n",
              "}\n",
              "\n",
              "/* Serial-specific style estimator block */\n",
              "\n",
              "#sk-container-id-1 div.sk-serial {\n",
              "  display: flex;\n",
              "  flex-direction: column;\n",
              "  align-items: center;\n",
              "  background-color: var(--sklearn-color-background);\n",
              "  padding-right: 1em;\n",
              "  padding-left: 1em;\n",
              "}\n",
              "\n",
              "\n",
              "/* Toggleable style: style used for estimator/Pipeline/ColumnTransformer box that is\n",
              "clickable and can be expanded/collapsed.\n",
              "- Pipeline and ColumnTransformer use this feature and define the default style\n",
              "- Estimators will overwrite some part of the style using the `sk-estimator` class\n",
              "*/\n",
              "\n",
              "/* Pipeline and ColumnTransformer style (default) */\n",
              "\n",
              "#sk-container-id-1 div.sk-toggleable {\n",
              "  /* Default theme specific background. It is overwritten whether we have a\n",
              "  specific estimator or a Pipeline/ColumnTransformer */\n",
              "  background-color: var(--sklearn-color-background);\n",
              "}\n",
              "\n",
              "/* Toggleable label */\n",
              "#sk-container-id-1 label.sk-toggleable__label {\n",
              "  cursor: pointer;\n",
              "  display: flex;\n",
              "  width: 100%;\n",
              "  margin-bottom: 0;\n",
              "  padding: 0.5em;\n",
              "  box-sizing: border-box;\n",
              "  text-align: center;\n",
              "  align-items: start;\n",
              "  justify-content: space-between;\n",
              "  gap: 0.5em;\n",
              "}\n",
              "\n",
              "#sk-container-id-1 label.sk-toggleable__label .caption {\n",
              "  font-size: 0.6rem;\n",
              "  font-weight: lighter;\n",
              "  color: var(--sklearn-color-text-muted);\n",
              "}\n",
              "\n",
              "#sk-container-id-1 label.sk-toggleable__label-arrow:before {\n",
              "  /* Arrow on the left of the label */\n",
              "  content: \"▸\";\n",
              "  float: left;\n",
              "  margin-right: 0.25em;\n",
              "  color: var(--sklearn-color-icon);\n",
              "}\n",
              "\n",
              "#sk-container-id-1 label.sk-toggleable__label-arrow:hover:before {\n",
              "  color: var(--sklearn-color-text);\n",
              "}\n",
              "\n",
              "/* Toggleable content - dropdown */\n",
              "\n",
              "#sk-container-id-1 div.sk-toggleable__content {\n",
              "  max-height: 0;\n",
              "  max-width: 0;\n",
              "  overflow: hidden;\n",
              "  text-align: left;\n",
              "  /* unfitted */\n",
              "  background-color: var(--sklearn-color-unfitted-level-0);\n",
              "}\n",
              "\n",
              "#sk-container-id-1 div.sk-toggleable__content.fitted {\n",
              "  /* fitted */\n",
              "  background-color: var(--sklearn-color-fitted-level-0);\n",
              "}\n",
              "\n",
              "#sk-container-id-1 div.sk-toggleable__content pre {\n",
              "  margin: 0.2em;\n",
              "  border-radius: 0.25em;\n",
              "  color: var(--sklearn-color-text);\n",
              "  /* unfitted */\n",
              "  background-color: var(--sklearn-color-unfitted-level-0);\n",
              "}\n",
              "\n",
              "#sk-container-id-1 div.sk-toggleable__content.fitted pre {\n",
              "  /* unfitted */\n",
              "  background-color: var(--sklearn-color-fitted-level-0);\n",
              "}\n",
              "\n",
              "#sk-container-id-1 input.sk-toggleable__control:checked~div.sk-toggleable__content {\n",
              "  /* Expand drop-down */\n",
              "  max-height: 200px;\n",
              "  max-width: 100%;\n",
              "  overflow: auto;\n",
              "}\n",
              "\n",
              "#sk-container-id-1 input.sk-toggleable__control:checked~label.sk-toggleable__label-arrow:before {\n",
              "  content: \"▾\";\n",
              "}\n",
              "\n",
              "/* Pipeline/ColumnTransformer-specific style */\n",
              "\n",
              "#sk-container-id-1 div.sk-label input.sk-toggleable__control:checked~label.sk-toggleable__label {\n",
              "  color: var(--sklearn-color-text);\n",
              "  background-color: var(--sklearn-color-unfitted-level-2);\n",
              "}\n",
              "\n",
              "#sk-container-id-1 div.sk-label.fitted input.sk-toggleable__control:checked~label.sk-toggleable__label {\n",
              "  background-color: var(--sklearn-color-fitted-level-2);\n",
              "}\n",
              "\n",
              "/* Estimator-specific style */\n",
              "\n",
              "/* Colorize estimator box */\n",
              "#sk-container-id-1 div.sk-estimator input.sk-toggleable__control:checked~label.sk-toggleable__label {\n",
              "  /* unfitted */\n",
              "  background-color: var(--sklearn-color-unfitted-level-2);\n",
              "}\n",
              "\n",
              "#sk-container-id-1 div.sk-estimator.fitted input.sk-toggleable__control:checked~label.sk-toggleable__label {\n",
              "  /* fitted */\n",
              "  background-color: var(--sklearn-color-fitted-level-2);\n",
              "}\n",
              "\n",
              "#sk-container-id-1 div.sk-label label.sk-toggleable__label,\n",
              "#sk-container-id-1 div.sk-label label {\n",
              "  /* The background is the default theme color */\n",
              "  color: var(--sklearn-color-text-on-default-background);\n",
              "}\n",
              "\n",
              "/* On hover, darken the color of the background */\n",
              "#sk-container-id-1 div.sk-label:hover label.sk-toggleable__label {\n",
              "  color: var(--sklearn-color-text);\n",
              "  background-color: var(--sklearn-color-unfitted-level-2);\n",
              "}\n",
              "\n",
              "/* Label box, darken color on hover, fitted */\n",
              "#sk-container-id-1 div.sk-label.fitted:hover label.sk-toggleable__label.fitted {\n",
              "  color: var(--sklearn-color-text);\n",
              "  background-color: var(--sklearn-color-fitted-level-2);\n",
              "}\n",
              "\n",
              "/* Estimator label */\n",
              "\n",
              "#sk-container-id-1 div.sk-label label {\n",
              "  font-family: monospace;\n",
              "  font-weight: bold;\n",
              "  display: inline-block;\n",
              "  line-height: 1.2em;\n",
              "}\n",
              "\n",
              "#sk-container-id-1 div.sk-label-container {\n",
              "  text-align: center;\n",
              "}\n",
              "\n",
              "/* Estimator-specific */\n",
              "#sk-container-id-1 div.sk-estimator {\n",
              "  font-family: monospace;\n",
              "  border: 1px dotted var(--sklearn-color-border-box);\n",
              "  border-radius: 0.25em;\n",
              "  box-sizing: border-box;\n",
              "  margin-bottom: 0.5em;\n",
              "  /* unfitted */\n",
              "  background-color: var(--sklearn-color-unfitted-level-0);\n",
              "}\n",
              "\n",
              "#sk-container-id-1 div.sk-estimator.fitted {\n",
              "  /* fitted */\n",
              "  background-color: var(--sklearn-color-fitted-level-0);\n",
              "}\n",
              "\n",
              "/* on hover */\n",
              "#sk-container-id-1 div.sk-estimator:hover {\n",
              "  /* unfitted */\n",
              "  background-color: var(--sklearn-color-unfitted-level-2);\n",
              "}\n",
              "\n",
              "#sk-container-id-1 div.sk-estimator.fitted:hover {\n",
              "  /* fitted */\n",
              "  background-color: var(--sklearn-color-fitted-level-2);\n",
              "}\n",
              "\n",
              "/* Specification for estimator info (e.g. \"i\" and \"?\") */\n",
              "\n",
              "/* Common style for \"i\" and \"?\" */\n",
              "\n",
              ".sk-estimator-doc-link,\n",
              "a:link.sk-estimator-doc-link,\n",
              "a:visited.sk-estimator-doc-link {\n",
              "  float: right;\n",
              "  font-size: smaller;\n",
              "  line-height: 1em;\n",
              "  font-family: monospace;\n",
              "  background-color: var(--sklearn-color-background);\n",
              "  border-radius: 1em;\n",
              "  height: 1em;\n",
              "  width: 1em;\n",
              "  text-decoration: none !important;\n",
              "  margin-left: 0.5em;\n",
              "  text-align: center;\n",
              "  /* unfitted */\n",
              "  border: var(--sklearn-color-unfitted-level-1) 1pt solid;\n",
              "  color: var(--sklearn-color-unfitted-level-1);\n",
              "}\n",
              "\n",
              ".sk-estimator-doc-link.fitted,\n",
              "a:link.sk-estimator-doc-link.fitted,\n",
              "a:visited.sk-estimator-doc-link.fitted {\n",
              "  /* fitted */\n",
              "  border: var(--sklearn-color-fitted-level-1) 1pt solid;\n",
              "  color: var(--sklearn-color-fitted-level-1);\n",
              "}\n",
              "\n",
              "/* On hover */\n",
              "div.sk-estimator:hover .sk-estimator-doc-link:hover,\n",
              ".sk-estimator-doc-link:hover,\n",
              "div.sk-label-container:hover .sk-estimator-doc-link:hover,\n",
              ".sk-estimator-doc-link:hover {\n",
              "  /* unfitted */\n",
              "  background-color: var(--sklearn-color-unfitted-level-3);\n",
              "  color: var(--sklearn-color-background);\n",
              "  text-decoration: none;\n",
              "}\n",
              "\n",
              "div.sk-estimator.fitted:hover .sk-estimator-doc-link.fitted:hover,\n",
              ".sk-estimator-doc-link.fitted:hover,\n",
              "div.sk-label-container:hover .sk-estimator-doc-link.fitted:hover,\n",
              ".sk-estimator-doc-link.fitted:hover {\n",
              "  /* fitted */\n",
              "  background-color: var(--sklearn-color-fitted-level-3);\n",
              "  color: var(--sklearn-color-background);\n",
              "  text-decoration: none;\n",
              "}\n",
              "\n",
              "/* Span, style for the box shown on hovering the info icon */\n",
              ".sk-estimator-doc-link span {\n",
              "  display: none;\n",
              "  z-index: 9999;\n",
              "  position: relative;\n",
              "  font-weight: normal;\n",
              "  right: .2ex;\n",
              "  padding: .5ex;\n",
              "  margin: .5ex;\n",
              "  width: min-content;\n",
              "  min-width: 20ex;\n",
              "  max-width: 50ex;\n",
              "  color: var(--sklearn-color-text);\n",
              "  box-shadow: 2pt 2pt 4pt #999;\n",
              "  /* unfitted */\n",
              "  background: var(--sklearn-color-unfitted-level-0);\n",
              "  border: .5pt solid var(--sklearn-color-unfitted-level-3);\n",
              "}\n",
              "\n",
              ".sk-estimator-doc-link.fitted span {\n",
              "  /* fitted */\n",
              "  background: var(--sklearn-color-fitted-level-0);\n",
              "  border: var(--sklearn-color-fitted-level-3);\n",
              "}\n",
              "\n",
              ".sk-estimator-doc-link:hover span {\n",
              "  display: block;\n",
              "}\n",
              "\n",
              "/* \"?\"-specific style due to the `<a>` HTML tag */\n",
              "\n",
              "#sk-container-id-1 a.estimator_doc_link {\n",
              "  float: right;\n",
              "  font-size: 1rem;\n",
              "  line-height: 1em;\n",
              "  font-family: monospace;\n",
              "  background-color: var(--sklearn-color-background);\n",
              "  border-radius: 1rem;\n",
              "  height: 1rem;\n",
              "  width: 1rem;\n",
              "  text-decoration: none;\n",
              "  /* unfitted */\n",
              "  color: var(--sklearn-color-unfitted-level-1);\n",
              "  border: var(--sklearn-color-unfitted-level-1) 1pt solid;\n",
              "}\n",
              "\n",
              "#sk-container-id-1 a.estimator_doc_link.fitted {\n",
              "  /* fitted */\n",
              "  border: var(--sklearn-color-fitted-level-1) 1pt solid;\n",
              "  color: var(--sklearn-color-fitted-level-1);\n",
              "}\n",
              "\n",
              "/* On hover */\n",
              "#sk-container-id-1 a.estimator_doc_link:hover {\n",
              "  /* unfitted */\n",
              "  background-color: var(--sklearn-color-unfitted-level-3);\n",
              "  color: var(--sklearn-color-background);\n",
              "  text-decoration: none;\n",
              "}\n",
              "\n",
              "#sk-container-id-1 a.estimator_doc_link.fitted:hover {\n",
              "  /* fitted */\n",
              "  background-color: var(--sklearn-color-fitted-level-3);\n",
              "}\n",
              "</style><div id=\"sk-container-id-1\" class=\"sk-top-container\"><div class=\"sk-text-repr-fallback\"><pre>CRF(algorithm=&#x27;lbfgs&#x27;, all_possible_transitions=True, c1=0.5, c2=1.0,\n",
              "    max_iterations=100)</pre><b>In a Jupyter environment, please rerun this cell to show the HTML representation or trust the notebook. <br />On GitHub, the HTML representation is unable to render, please try loading this page with nbviewer.org.</b></div><div class=\"sk-container\" hidden><div class=\"sk-item\"><div class=\"sk-estimator fitted sk-toggleable\"><input class=\"sk-toggleable__control sk-hidden--visually\" id=\"sk-estimator-id-1\" type=\"checkbox\" checked><label for=\"sk-estimator-id-1\" class=\"sk-toggleable__label fitted sk-toggleable__label-arrow\"><div><div>CRF</div></div><div><span class=\"sk-estimator-doc-link fitted\">i<span>Fitted</span></span></div></label><div class=\"sk-toggleable__content fitted\"><pre>CRF(algorithm=&#x27;lbfgs&#x27;, all_possible_transitions=True, c1=0.5, c2=1.0,\n",
              "    max_iterations=100)</pre></div> </div></div></div></div>"
            ],
            "text/plain": [
              "CRF(algorithm='lbfgs', all_possible_transitions=True, c1=0.5, c2=1.0,\n",
              "    max_iterations=100)"
            ]
          },
          "execution_count": 57,
          "metadata": {},
          "output_type": "execute_result"
        }
      ],
      "source": [
        "# initialise CRF model with the specified hyperparameters and use weight_dict\n",
        "from sklearn_crfsuite import CRF\n",
        "crf = CRF(\n",
        "    algorithm='lbfgs',\n",
        "    c1=0.5,\n",
        "    c2=1.0,\n",
        "    max_iterations=100,\n",
        "    all_possible_transitions=True\n",
        ")\n",
        "# train the CRF model with the weighted training data\n",
        "crf.fit(X_train_weighted_features, y_train_labels)"
      ]
    },
    {
      "cell_type": "markdown",
      "metadata": {
        "id": "sDLwvYqOF6m_"
      },
      "source": [
        "### **7.2** *Evaluation of Training Dataset using CRF model* <font color = red>[4 marks]</font>\n",
        "Evaluate on training dataset using CRF by using flat classification report and confusion matrix"
      ]
    },
    {
      "cell_type": "code",
      "execution_count": 58,
      "metadata": {
        "id": "Us57jWSQ6laL"
      },
      "outputs": [],
      "source": [
        "# evaluate on the training dataset\n",
        "y_train_pred = crf.predict(X_train_weighted_features)"
      ]
    },
    {
      "cell_type": "code",
      "execution_count": 59,
      "metadata": {
        "id": "gNGZnd-D6oq3"
      },
      "outputs": [
        {
          "name": "stdout",
          "output_type": "stream",
          "text": [
            "              precision    recall  f1-score   support\n",
            "\n",
            "  ingredient       1.00      1.00      1.00      3411\n",
            "    quantity       1.00      1.00      1.00       658\n",
            "        unit       0.99      1.00      1.00       563\n",
            "\n",
            "    accuracy                           1.00      4632\n",
            "   macro avg       1.00      1.00      1.00      4632\n",
            "weighted avg       1.00      1.00      1.00      4632\n",
            "\n"
          ]
        }
      ],
      "source": [
        "# specify the flat classification report by using training data for evaluation\n",
        "from sklearn.metrics import classification_report\n",
        "y_train_true_flat = [label for sent in y_train_labels for label in sent]\n",
        "y_train_pred_flat = [label for sent in y_train_pred for label in sent]\n",
        "print(classification_report(y_train_true_flat, y_train_pred_flat))"
      ]
    },
    {
      "cell_type": "code",
      "execution_count": 60,
      "metadata": {
        "id": "GqP9WBvJ63qm"
      },
      "outputs": [
        {
          "name": "stdout",
          "output_type": "stream",
          "text": [
            "\n",
            "Confusion Matrix:\n",
            "Labels: ['unit', 'ingredient', 'quantity']\n",
            "[[ 562    0    1]\n",
            " [   0 3411    0]\n",
            " [   3    0  655]]\n"
          ]
        }
      ],
      "source": [
        "# create a confusion matrix on training datset\n",
        "labels = list(set(y_train_true_flat))  # or use crf.classes_\n",
        "conf_matrix = confusion_matrix(y_train_true_flat, y_train_pred_flat, labels=labels)\n",
        "\n",
        "print(\"\\nConfusion Matrix:\")\n",
        "print(\"Labels:\", labels)\n",
        "print(conf_matrix)"
      ]
    },
    {
      "cell_type": "markdown",
      "metadata": {
        "id": "Yps2-XscGuHc"
      },
      "source": [
        "### **7.3** *Save the CRF model* <font color = red>[1 marks]</font>\n",
        "Save the CRF model"
      ]
    },
    {
      "cell_type": "code",
      "execution_count": 61,
      "metadata": {
        "id": "iAYDLatcGzEN"
      },
      "outputs": [
        {
          "data": {
            "text/plain": [
              "['crf_model.pkl']"
            ]
          },
          "execution_count": 61,
          "metadata": {},
          "output_type": "execute_result"
        }
      ],
      "source": [
        "# dump the model using joblib as crf_model.pkl\n",
        "import joblib\n",
        "joblib.dump(crf, 'crf_model.pkl')"
      ]
    },
    {
      "cell_type": "markdown",
      "metadata": {
        "id": "agM32oUlBo1K"
      },
      "source": [
        "## **8** Prediction and Model Evaluation <font color = red>[3 marks]</font> <br>"
      ]
    },
    {
      "cell_type": "markdown",
      "metadata": {
        "id": "b5BYmkTrBo1L"
      },
      "source": [
        "### **8.1** *Predict and Evaluate the CRF model on validation set* <font color = red>[3 marks]</font>\n",
        "Evaluate the metrics for CRF model by using flat classification report and confusion matrix\n",
        "\n",
        "\n"
      ]
    },
    {
      "cell_type": "code",
      "execution_count": 62,
      "metadata": {
        "id": "qhH6Sp8tBo1M"
      },
      "outputs": [],
      "source": [
        "# predict the crf model on validation dataset\n",
        "y_val_pred = crf.predict(X_val_weighted_features)"
      ]
    },
    {
      "cell_type": "code",
      "execution_count": 63,
      "metadata": {
        "id": "SMktt_w1kovB"
      },
      "outputs": [
        {
          "name": "stdout",
          "output_type": "stream",
          "text": [
            "              precision    recall  f1-score   support\n",
            "\n",
            "  ingredient       1.00      1.00      1.00      1611\n",
            "    quantity       1.00      0.99      0.99       294\n",
            "        unit       1.00      1.00      1.00       244\n",
            "\n",
            "    accuracy                           1.00      2149\n",
            "   macro avg       1.00      1.00      1.00      2149\n",
            "weighted avg       1.00      1.00      1.00      2149\n",
            "\n"
          ]
        }
      ],
      "source": [
        "# specify flat classification report\n",
        "y_val_true_flat = [label for sent in y_val_labels for label in sent]\n",
        "y_val_pred_flat = [label for sent in y_val_pred for label in sent]\n",
        "print(classification_report(y_val_true_flat, y_val_pred_flat))"
      ]
    },
    {
      "cell_type": "code",
      "execution_count": 64,
      "metadata": {
        "id": "eI2tUBRRk4jK"
      },
      "outputs": [
        {
          "name": "stdout",
          "output_type": "stream",
          "text": [
            "\n",
            "Confusion Matrix:\n",
            "Labels: ['unit', 'ingredient', 'quantity']\n",
            "[[ 244    0    0]\n",
            " [   0 1611    0]\n",
            " [   1    2  291]]\n"
          ]
        }
      ],
      "source": [
        "# create a confusion matrix on validation dataset\n",
        "labels = list(set(y_val_true_flat))  # or use crf.classes_\n",
        "conf_matrix = confusion_matrix(y_val_true_flat, y_val_pred_flat, labels=labels)\n",
        "\n",
        "print(\"\\nConfusion Matrix:\")\n",
        "print(\"Labels:\", labels)\n",
        "print(conf_matrix)"
      ]
    },
    {
      "cell_type": "markdown",
      "metadata": {
        "id": "8pD6hD3NEV3q"
      },
      "source": [
        "## **9** Error Analysis on Validation Data <font color = red>[10 marks]</font> <br>\n",
        "Investigate misclassified samples in validation dataset and provide the insights\n"
      ]
    },
    {
      "cell_type": "markdown",
      "metadata": {
        "id": "R9tUvjrzFjib"
      },
      "source": [
        "### **9.1** *Investigate misclassified samples in validation dataset* <font color = red>[8 marks]</font>\n",
        "\n"
      ]
    },
    {
      "cell_type": "markdown",
      "metadata": {
        "id": "Lb15uObqxKe4"
      },
      "source": [
        "##### **9.1.1** Flatten the labels of validation data and initialise error data <font color = red>[2 marks]</font> <br>\n",
        "\n",
        "\n",
        "\n",
        "Flatten the true and predicted labels and initialise the error data as ***error_data***"
      ]
    },
    {
      "cell_type": "code",
      "execution_count": 65,
      "metadata": {
        "id": "gbgYAjd-UzkI"
      },
      "outputs": [],
      "source": [
        "# flatten Labels and Initialise Error Data\n",
        "y_val_true_flat = [label for sent in y_val_labels for label in sent]\n",
        "y_val_pred_flat = [label for sent in y_val_pred for label in sent]\n",
        "val_tokens_flat = [token for sent in X_val for token in sent]\n",
        "error_data=[]"
      ]
    },
    {
      "cell_type": "markdown",
      "metadata": {
        "id": "LS9foWfdXHOg"
      },
      "source": [
        "##### **9.1.2** Iterate the validation data and collect Error Information<font color = red> [2 marks]</font> <br>\n",
        "\n",
        "\n",
        "\n",
        "Iterate through validation data (X_val, y_val_labels, y_pred_val) and compare true vs. predicted labels. Collect error details, including surrounding context, previous/next tokens, and class weights, then store them in error_data"
      ]
    },
    {
      "cell_type": "code",
      "execution_count": 66,
      "metadata": {
        "id": "_VKLc1s0U0yY"
      },
      "outputs": [],
      "source": [
        "# iterate and collect Error Information\n",
        "\n",
        "            # get previous and next tokens with handling for boundary cases\n",
        "# Initialize error_data\n",
        "error_data = []\n",
        "\n",
        "# Iterate through each sentence in validation set\n",
        "X_val_list = list(X_val)\n",
        "y_val_labels_list = list(y_val_labels)\n",
        "y_val_pred_list = list(y_val_pred)\n",
        "for sent_idx in range(len(X_val)):\n",
        "    tokens = X_val_list[sent_idx]              # List of tokens in sentence\n",
        "    true_labels = y_val_labels_list[sent_idx]  # Ground truth labels\n",
        "    pred_labels = y_val_pred_list[sent_idx]    # Predicted labels by CRF\n",
        "\n",
        "    # Iterate through each token in the sentence\n",
        "    for i in range(len(tokens)):\n",
        "        true_label = true_labels[i]\n",
        "        pred_label = pred_labels[i]\n",
        "\n",
        "        if true_label != pred_label:\n",
        "            token = tokens[i]\n",
        "            prev_token = tokens[i - 1] if i > 0 else \"<START>\"\n",
        "            next_token = tokens[i + 1] if i < len(tokens) - 1 else \"<END>\"\n",
        "\n",
        "            class_weight = weight_dict.get(true_label, 1.0)\n",
        "\n",
        "            error_data.append({\n",
        "                'token': token,\n",
        "                'true_label': true_label,\n",
        "                'pred_label': pred_label,\n",
        "                'prev_token': prev_token,\n",
        "                'next_token': next_token,\n",
        "                'class_weight': class_weight\n",
        "            })"
      ]
    },
    {
      "cell_type": "markdown",
      "metadata": {
        "id": "G_R8CCAFZSzF"
      },
      "source": [
        "##### **9.1.3** Create dataframe from error_data and print overall accuracy <font color = red>[1 marks]</font> <br>\n",
        "\n",
        "\n",
        "\n",
        "Change error_data into dataframe and then use it to illustrate the overall accuracy of validation data"
      ]
    },
    {
      "cell_type": "code",
      "execution_count": 67,
      "metadata": {
        "id": "fUffRP7XU3YC"
      },
      "outputs": [
        {
          "data": {
            "text/plain": [
              "0.9986040018613308"
            ]
          },
          "execution_count": 67,
          "metadata": {},
          "output_type": "execute_result"
        }
      ],
      "source": [
        "# Create DataFrame and Print Overall Accuracy\n",
        "error_df = pd.DataFrame(error_data)\n",
        "\n",
        "total_predictions = sum(len(sent) for sent in y_val_labels)\n",
        "total_errors = len(error_df)\n",
        "\n",
        "accuracy = (total_predictions - total_errors) / total_predictions\n",
        "accuracy"
      ]
    },
    {
      "cell_type": "markdown",
      "metadata": {
        "id": "8OUYHFmgZhgJ"
      },
      "source": [
        "##### **9.1.4** Analyse errors by label type<font color = red> [3 marks]</font> <br>\n",
        "Analyse errors found in the validation data by each label and display their class weights along with accuracy and also display the error dataframe with token,  previous token, next token, true label, predicted label and context"
      ]
    },
    {
      "cell_type": "code",
      "execution_count": 68,
      "metadata": {
        "collapsed": true,
        "id": "zu8CtjU6WR9l"
      },
      "outputs": [
        {
          "name": "stdout",
          "output_type": "stream",
          "text": [
            "\n",
            "Error Analysis by Label:\n",
            "Label: quantity | Errors: 3 | Class Weight: 7.04\n",
            "    token true_label  pred_label prev_token next_token  class_weight\n",
            "0  little   quantity        unit     leaves       Salt      7.039514\n",
            "1   taste   quantity  ingredient        per        1/2      7.039514\n",
            "2      is   quantity  ingredient        Pur          2      7.039514\n"
          ]
        }
      ],
      "source": [
        "# Analyse errors found in the validation data by each label\n",
        "# and display their class weights along with accuracy\n",
        "# and display the error dataframe with token, previous token, next token, true label, predicted label and context\n",
        "\n",
        "label_error_counts = Counter(error_df['true_label'])\n",
        "\n",
        "print(\"\\nError Analysis by Label:\")\n",
        "for label, count in label_error_counts.items():\n",
        "    weight = weight_dict.get(label, 1.0)  # Get the class weight from the weight dictionary\n",
        "    print(f\"Label: {label} | Errors: {count} | Class Weight: {weight:.2f}\")\n",
        "\n",
        "print(error_df)"
      ]
    },
    {
      "cell_type": "markdown",
      "metadata": {
        "id": "Q3n74kVvEV3q"
      },
      "source": [
        "### **9.2** *Provide insights from the validation dataset* <font color = red>[2 marks]</font>\n",
        "\n",
        "\n"
      ]
    },
    {
      "cell_type": "markdown",
      "metadata": {
        "id": "aWZdf1O_vWnD"
      },
      "source": [
        " <font color = red>[Write your answer]</font>\n",
        "\n",
        " Model Evaluation Summary on Validation Dataset\n",
        "After evaluating the model on the validation dataset, several key insights were identified regarding its performance and areas of misclassification.\n",
        "\n",
        "1. **Error Distribution by Label**\n",
        "- Quantity vs. Unit Confusion: The most common misclassifications occurred between quantity and unit. Tokens such as \"little\" and \"taste\" were often mislabeled as unit or ingredient, although they contextually represent quantity. This indicates the model's difficulty in resolving ambiguity when such terms appear near units or ingredients.\n",
        "- Ingredient Misclassification: Some non-ingredient tokens (e.g., \"is\", \"taste\") were incorrectly labeled as ingredient. These errors suggest the model occasionally misinterprets general or descriptive terms as food-related entities.\n",
        "\n",
        "2. **Impact of Class Weights**\n",
        "- Class weighting helped balance the influence of each label during training, especially for less frequent ones like ingredient. However, despite this adjustment, the model still struggled with ingredient predictions, indicating that further tuning or additional features may be necessary.\n",
        "\n",
        "3. **Contextualization Challenges**\n",
        "- Misclassified tokens often lacked strong contextual cues. For example, the absence of neighboring tokens like \"of\", \"per\", or \"a pinch of\" may have contributed to incorrect labeling.\n",
        "- This highlights the need for better integration of surrounding token context, which is crucial for disambiguating labels in complex or minimal phrases.\n",
        "\n",
        "4. **Boundary Case Handling**\n",
        "- The use of BOS (Beginning of Sentence) and EOS (End of Sentence) markers improved boundary token handling. However, some errors still occurred at sentence edges, especially when the first or last token lacked sufficient context."
      ]
    },
    {
      "cell_type": "markdown",
      "metadata": {
        "id": "qUjFPBMxH20n"
      },
      "source": [
        "## **10** Conclusion (Optional) <font color = red>[0 marks]</font> <br>\n",
        "\n",
        "Write your findings and conclusion."
      ]
    }
  ],
  "metadata": {
    "colab": {
      "collapsed_sections": [
        "-ksMVNgeyiLN",
        "1y18LwoqyFpk",
        "bhNG_XC1r4Qw",
        "-JtvsBYur-oV",
        "dpJQu3JE_P7Z",
        "JbriClEV9CW5",
        "Qtqtij2-CD2m",
        "_RJEStPSC9PB",
        "qJdYJ2TEDBzd",
        "hJm2nUw0998s"
      ],
      "provenance": [],
      "toc_visible": true
    },
    "kernelspec": {
      "display_name": "Python 3",
      "name": "python3"
    },
    "language_info": {
      "codemirror_mode": {
        "name": "ipython",
        "version": 3
      },
      "file_extension": ".py",
      "mimetype": "text/x-python",
      "name": "python",
      "nbconvert_exporter": "python",
      "pygments_lexer": "ipython3",
      "version": "3.12.6"
    }
  },
  "nbformat": 4,
  "nbformat_minor": 0
}
